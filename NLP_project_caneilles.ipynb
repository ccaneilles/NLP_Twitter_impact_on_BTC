{
  "cells": [
    {
      "cell_type": "markdown",
      "metadata": {
        "id": "l4v826KBeNng"
      },
      "source": [
        "Project realized in the context of Machine Learning forNatural Language Processing course at ENSAE.\n",
        "\n",
        "Charles CANEILLES - MS Data Science"
      ]
    },
    {
      "cell_type": "markdown",
      "metadata": {
        "id": "zX7ICnmzGFMC"
      },
      "source": [
        "# **Prediction of Twitter's impact on Bitcoin's value**\n",
        "\n",
        "\n",
        "\n"
      ]
    },
    {
      "cell_type": "code",
      "execution_count": 1,
      "metadata": {
        "colab": {
          "base_uri": "https://localhost:8080/"
        },
        "id": "BDzoiLRzGRvF",
        "outputId": "946662c7-a98e-4a3f-f62b-ca64bd313327"
      },
      "outputs": [
        {
          "output_type": "stream",
          "name": "stdout",
          "text": [
            "[nltk_data] Downloading package punkt to /root/nltk_data...\n",
            "[nltk_data]   Unzipping tokenizers/punkt.zip.\n"
          ]
        }
      ],
      "source": [
        "import pandas as pd\n",
        "import re\n",
        "from tqdm import tqdm\n",
        "import matplotlib.pyplot as plt\n",
        "import seaborn as sns \n",
        "\n",
        "import nltk\n",
        "\n",
        "from nltk.tokenize import TweetTokenizer\n",
        "nltk.download('punkt')\n",
        "sent_detector = nltk.data.load('tokenizers/punkt/english.pickle')"
      ]
    },
    {
      "cell_type": "markdown",
      "metadata": {
        "id": "KnuCBi8LSRfu"
      },
      "source": [
        "## **1. Data importation**"
      ]
    },
    {
      "cell_type": "code",
      "execution_count": 2,
      "metadata": {
        "colab": {
          "base_uri": "https://localhost:8080/"
        },
        "id": "j5lpaG6tvRZU",
        "outputId": "e9a956e8-6d76-4ae3-e528-d7a46038a27c"
      },
      "outputs": [
        {
          "output_type": "stream",
          "name": "stdout",
          "text": [
            "--2022-04-24 16:54:16--  https://github.com/ccaneilles/NLP_Twitter_impact_on_BTC/raw/main/data/history.zip\n",
            "Resolving github.com (github.com)... 140.82.114.3\n",
            "Connecting to github.com (github.com)|140.82.114.3|:443... connected.\n",
            "HTTP request sent, awaiting response... 302 Found\n",
            "Location: https://media.githubusercontent.com/media/ccaneilles/NLP_Twitter_impact_on_BTC/main/data/history.zip [following]\n",
            "--2022-04-24 16:54:16--  https://media.githubusercontent.com/media/ccaneilles/NLP_Twitter_impact_on_BTC/main/data/history.zip\n",
            "Resolving media.githubusercontent.com (media.githubusercontent.com)... 185.199.111.133, 185.199.109.133, 185.199.110.133, ...\n",
            "Connecting to media.githubusercontent.com (media.githubusercontent.com)|185.199.111.133|:443... connected.\n",
            "HTTP request sent, awaiting response... 200 OK\n",
            "Length: 77096 (75K) [application/zip]\n",
            "Saving to: ‘history.zip’\n",
            "\n",
            "history.zip         100%[===================>]  75.29K  --.-KB/s    in 0.002s  \n",
            "\n",
            "2022-04-24 16:54:16 (39.9 MB/s) - ‘history.zip’ saved [77096/77096]\n",
            "\n",
            "--2022-04-24 16:54:16--  https://github.com/ccaneilles/NLP_Twitter_impact_on_BTC/raw/main/data/tweets.zip\n",
            "Resolving github.com (github.com)... 140.82.112.4\n",
            "Connecting to github.com (github.com)|140.82.112.4|:443... connected.\n",
            "HTTP request sent, awaiting response... 302 Found\n",
            "Location: https://media.githubusercontent.com/media/ccaneilles/NLP_Twitter_impact_on_BTC/main/data/tweets.zip [following]\n",
            "--2022-04-24 16:54:17--  https://media.githubusercontent.com/media/ccaneilles/NLP_Twitter_impact_on_BTC/main/data/tweets.zip\n",
            "Resolving media.githubusercontent.com (media.githubusercontent.com)... 185.199.111.133, 185.199.109.133, 185.199.110.133, ...\n",
            "Connecting to media.githubusercontent.com (media.githubusercontent.com)|185.199.111.133|:443... connected.\n",
            "HTTP request sent, awaiting response... 200 OK\n",
            "Length: 428922230 (409M) [application/zip]\n",
            "Saving to: ‘tweets.zip’\n",
            "\n",
            "tweets.zip          100%[===================>] 409.05M   121MB/s    in 3.3s    \n",
            "\n",
            "2022-04-24 16:54:26 (124 MB/s) - ‘tweets.zip’ saved [428922230/428922230]\n",
            "\n"
          ]
        }
      ],
      "source": [
        "#Importing datasets\n",
        "\n",
        "! wget https://github.com/ccaneilles/NLP_Twitter_impact_on_BTC/raw/main/data/history.zip\n",
        "! wget https://github.com/ccaneilles/NLP_Twitter_impact_on_BTC/raw/main/data/tweets.zip"
      ]
    },
    {
      "cell_type": "code",
      "source": [
        "! unzip tweets.zip"
      ],
      "metadata": {
        "colab": {
          "base_uri": "https://localhost:8080/"
        },
        "id": "_DFK0nx1a5iF",
        "outputId": "99aaace1-f9b9-4152-a735-6780495e0005"
      },
      "execution_count": 3,
      "outputs": [
        {
          "output_type": "stream",
          "name": "stdout",
          "text": [
            "Archive:  tweets.zip\n",
            "  inflating: Bitcoin_tweets.csv      \n"
          ]
        }
      ]
    },
    {
      "cell_type": "code",
      "source": [
        "! unzip history.zip"
      ],
      "metadata": {
        "colab": {
          "base_uri": "https://localhost:8080/"
        },
        "id": "Dc2VE79Na8e_",
        "outputId": "f0d6cb86-cad3-4c70-b949-6cdd0206b50b"
      },
      "execution_count": 4,
      "outputs": [
        {
          "output_type": "stream",
          "name": "stdout",
          "text": [
            "Archive:  history.zip\n",
            "  inflating: BTC-USD.csv             \n"
          ]
        }
      ]
    },
    {
      "cell_type": "markdown",
      "metadata": {
        "id": "Ao8wVg2YTSdw"
      },
      "source": [
        "## **2. Data preprocessing**"
      ]
    },
    {
      "cell_type": "markdown",
      "metadata": {
        "id": "u_z7aQCATXYB"
      },
      "source": [
        "### a. Bitcoin tweets"
      ]
    },
    {
      "cell_type": "code",
      "execution_count": 5,
      "metadata": {
        "colab": {
          "base_uri": "https://localhost:8080/"
        },
        "id": "x5YgDG49wU_x",
        "outputId": "ac403aa7-1a3d-4de9-ea49-46258ad096e9"
      },
      "outputs": [
        {
          "output_type": "stream",
          "name": "stderr",
          "text": [
            "/usr/local/lib/python3.7/dist-packages/IPython/core/interactiveshell.py:2882: DtypeWarning: Columns (4,5,6,7,12) have mixed types.Specify dtype option on import or set low_memory=False.\n",
            "  exec(code_obj, self.user_global_ns, self.user_ns)\n"
          ]
        }
      ],
      "source": [
        "df_tweets = pd.read_csv('Bitcoin_tweets.csv')"
      ]
    },
    {
      "cell_type": "code",
      "execution_count": 6,
      "metadata": {
        "colab": {
          "base_uri": "https://localhost:8080/"
        },
        "id": "f5XGoJHZ9tRS",
        "outputId": "93dae111-a42b-4a18-9e5c-79e9f972cd40"
      },
      "outputs": [
        {
          "output_type": "execute_result",
          "data": {
            "text/plain": [
              "(2830476, 13)"
            ]
          },
          "metadata": {},
          "execution_count": 6
        }
      ],
      "source": [
        "df_tweets.shape"
      ]
    },
    {
      "cell_type": "code",
      "execution_count": 7,
      "metadata": {
        "colab": {
          "base_uri": "https://localhost:8080/",
          "height": 652
        },
        "id": "jKtTC--yxtzn",
        "outputId": "dede4bab-8d0f-4110-ca26-3392b21e9cc2"
      },
      "outputs": [
        {
          "output_type": "execute_result",
          "data": {
            "text/plain": [
              "                                  user_name    user_location  \\\n",
              "0                             DeSota Wilson      Atlanta, GA   \n",
              "1                                  CryptoND              NaN   \n",
              "2                                 Tdlmatias  London, England   \n",
              "3                      Crypto is the future              NaN   \n",
              "4  Alex Kirchmaier 🇦🇹🇸🇪 #FactsSuperspreader           Europa   \n",
              "\n",
              "                                    user_description         user_created  \\\n",
              "0  Biz Consultant, real estate, fintech, startups...  2009-04-26 20:05:09   \n",
              "1  😎 BITCOINLIVE is a Dutch platform aimed at inf...  2019-10-17 20:12:10   \n",
              "2  IM Academy : The best #forex, #SelfEducation, ...  2014-11-10 10:50:37   \n",
              "3  I will post a lot of buying signals for BTC tr...  2019-09-28 16:48:12   \n",
              "4  Co-founder @RENJERJerky | Forbes 30Under30 | I...  2016-02-03 13:15:55   \n",
              "\n",
              "  user_followers user_friends user_favourites user_verified  \\\n",
              "0         8534.0         7605            4838         False   \n",
              "1         6769.0         1532           25483         False   \n",
              "2          128.0          332             924         False   \n",
              "3          625.0          129              14         False   \n",
              "4         1249.0         1472           10482         False   \n",
              "\n",
              "                  date                                               text  \\\n",
              "0  2021-02-10 23:59:04  Blue Ridge Bank shares halted by NYSE after #b...   \n",
              "1  2021-02-10 23:58:48  😎 Today, that's this #Thursday, we will do a \"...   \n",
              "2  2021-02-10 23:54:48  Guys evening, I have read this article about B...   \n",
              "3  2021-02-10 23:54:33  $BTC A big chance in a billion! Price: \\487264...   \n",
              "4  2021-02-10 23:54:06  This network is secured by 9 508 nodes as of t...   \n",
              "\n",
              "                                    hashtags               source is_retweet  \n",
              "0                                ['bitcoin']      Twitter Web App      False  \n",
              "1  ['Thursday', 'Btc', 'wallet', 'security']  Twitter for Android      False  \n",
              "2                                        NaN      Twitter Web App      False  \n",
              "3         ['Bitcoin', 'FX', 'BTC', 'crypto']              dlvr.it      False  \n",
              "4                                    ['BTC']      Twitter Web App      False  "
            ],
            "text/html": [
              "\n",
              "  <div id=\"df-04334e8c-f43f-432a-bd78-c5f8f13ca74d\">\n",
              "    <div class=\"colab-df-container\">\n",
              "      <div>\n",
              "<style scoped>\n",
              "    .dataframe tbody tr th:only-of-type {\n",
              "        vertical-align: middle;\n",
              "    }\n",
              "\n",
              "    .dataframe tbody tr th {\n",
              "        vertical-align: top;\n",
              "    }\n",
              "\n",
              "    .dataframe thead th {\n",
              "        text-align: right;\n",
              "    }\n",
              "</style>\n",
              "<table border=\"1\" class=\"dataframe\">\n",
              "  <thead>\n",
              "    <tr style=\"text-align: right;\">\n",
              "      <th></th>\n",
              "      <th>user_name</th>\n",
              "      <th>user_location</th>\n",
              "      <th>user_description</th>\n",
              "      <th>user_created</th>\n",
              "      <th>user_followers</th>\n",
              "      <th>user_friends</th>\n",
              "      <th>user_favourites</th>\n",
              "      <th>user_verified</th>\n",
              "      <th>date</th>\n",
              "      <th>text</th>\n",
              "      <th>hashtags</th>\n",
              "      <th>source</th>\n",
              "      <th>is_retweet</th>\n",
              "    </tr>\n",
              "  </thead>\n",
              "  <tbody>\n",
              "    <tr>\n",
              "      <th>0</th>\n",
              "      <td>DeSota Wilson</td>\n",
              "      <td>Atlanta, GA</td>\n",
              "      <td>Biz Consultant, real estate, fintech, startups...</td>\n",
              "      <td>2009-04-26 20:05:09</td>\n",
              "      <td>8534.0</td>\n",
              "      <td>7605</td>\n",
              "      <td>4838</td>\n",
              "      <td>False</td>\n",
              "      <td>2021-02-10 23:59:04</td>\n",
              "      <td>Blue Ridge Bank shares halted by NYSE after #b...</td>\n",
              "      <td>['bitcoin']</td>\n",
              "      <td>Twitter Web App</td>\n",
              "      <td>False</td>\n",
              "    </tr>\n",
              "    <tr>\n",
              "      <th>1</th>\n",
              "      <td>CryptoND</td>\n",
              "      <td>NaN</td>\n",
              "      <td>😎 BITCOINLIVE is a Dutch platform aimed at inf...</td>\n",
              "      <td>2019-10-17 20:12:10</td>\n",
              "      <td>6769.0</td>\n",
              "      <td>1532</td>\n",
              "      <td>25483</td>\n",
              "      <td>False</td>\n",
              "      <td>2021-02-10 23:58:48</td>\n",
              "      <td>😎 Today, that's this #Thursday, we will do a \"...</td>\n",
              "      <td>['Thursday', 'Btc', 'wallet', 'security']</td>\n",
              "      <td>Twitter for Android</td>\n",
              "      <td>False</td>\n",
              "    </tr>\n",
              "    <tr>\n",
              "      <th>2</th>\n",
              "      <td>Tdlmatias</td>\n",
              "      <td>London, England</td>\n",
              "      <td>IM Academy : The best #forex, #SelfEducation, ...</td>\n",
              "      <td>2014-11-10 10:50:37</td>\n",
              "      <td>128.0</td>\n",
              "      <td>332</td>\n",
              "      <td>924</td>\n",
              "      <td>False</td>\n",
              "      <td>2021-02-10 23:54:48</td>\n",
              "      <td>Guys evening, I have read this article about B...</td>\n",
              "      <td>NaN</td>\n",
              "      <td>Twitter Web App</td>\n",
              "      <td>False</td>\n",
              "    </tr>\n",
              "    <tr>\n",
              "      <th>3</th>\n",
              "      <td>Crypto is the future</td>\n",
              "      <td>NaN</td>\n",
              "      <td>I will post a lot of buying signals for BTC tr...</td>\n",
              "      <td>2019-09-28 16:48:12</td>\n",
              "      <td>625.0</td>\n",
              "      <td>129</td>\n",
              "      <td>14</td>\n",
              "      <td>False</td>\n",
              "      <td>2021-02-10 23:54:33</td>\n",
              "      <td>$BTC A big chance in a billion! Price: \\487264...</td>\n",
              "      <td>['Bitcoin', 'FX', 'BTC', 'crypto']</td>\n",
              "      <td>dlvr.it</td>\n",
              "      <td>False</td>\n",
              "    </tr>\n",
              "    <tr>\n",
              "      <th>4</th>\n",
              "      <td>Alex Kirchmaier 🇦🇹🇸🇪 #FactsSuperspreader</td>\n",
              "      <td>Europa</td>\n",
              "      <td>Co-founder @RENJERJerky | Forbes 30Under30 | I...</td>\n",
              "      <td>2016-02-03 13:15:55</td>\n",
              "      <td>1249.0</td>\n",
              "      <td>1472</td>\n",
              "      <td>10482</td>\n",
              "      <td>False</td>\n",
              "      <td>2021-02-10 23:54:06</td>\n",
              "      <td>This network is secured by 9 508 nodes as of t...</td>\n",
              "      <td>['BTC']</td>\n",
              "      <td>Twitter Web App</td>\n",
              "      <td>False</td>\n",
              "    </tr>\n",
              "  </tbody>\n",
              "</table>\n",
              "</div>\n",
              "      <button class=\"colab-df-convert\" onclick=\"convertToInteractive('df-04334e8c-f43f-432a-bd78-c5f8f13ca74d')\"\n",
              "              title=\"Convert this dataframe to an interactive table.\"\n",
              "              style=\"display:none;\">\n",
              "        \n",
              "  <svg xmlns=\"http://www.w3.org/2000/svg\" height=\"24px\"viewBox=\"0 0 24 24\"\n",
              "       width=\"24px\">\n",
              "    <path d=\"M0 0h24v24H0V0z\" fill=\"none\"/>\n",
              "    <path d=\"M18.56 5.44l.94 2.06.94-2.06 2.06-.94-2.06-.94-.94-2.06-.94 2.06-2.06.94zm-11 1L8.5 8.5l.94-2.06 2.06-.94-2.06-.94L8.5 2.5l-.94 2.06-2.06.94zm10 10l.94 2.06.94-2.06 2.06-.94-2.06-.94-.94-2.06-.94 2.06-2.06.94z\"/><path d=\"M17.41 7.96l-1.37-1.37c-.4-.4-.92-.59-1.43-.59-.52 0-1.04.2-1.43.59L10.3 9.45l-7.72 7.72c-.78.78-.78 2.05 0 2.83L4 21.41c.39.39.9.59 1.41.59.51 0 1.02-.2 1.41-.59l7.78-7.78 2.81-2.81c.8-.78.8-2.07 0-2.86zM5.41 20L4 18.59l7.72-7.72 1.47 1.35L5.41 20z\"/>\n",
              "  </svg>\n",
              "      </button>\n",
              "      \n",
              "  <style>\n",
              "    .colab-df-container {\n",
              "      display:flex;\n",
              "      flex-wrap:wrap;\n",
              "      gap: 12px;\n",
              "    }\n",
              "\n",
              "    .colab-df-convert {\n",
              "      background-color: #E8F0FE;\n",
              "      border: none;\n",
              "      border-radius: 50%;\n",
              "      cursor: pointer;\n",
              "      display: none;\n",
              "      fill: #1967D2;\n",
              "      height: 32px;\n",
              "      padding: 0 0 0 0;\n",
              "      width: 32px;\n",
              "    }\n",
              "\n",
              "    .colab-df-convert:hover {\n",
              "      background-color: #E2EBFA;\n",
              "      box-shadow: 0px 1px 2px rgba(60, 64, 67, 0.3), 0px 1px 3px 1px rgba(60, 64, 67, 0.15);\n",
              "      fill: #174EA6;\n",
              "    }\n",
              "\n",
              "    [theme=dark] .colab-df-convert {\n",
              "      background-color: #3B4455;\n",
              "      fill: #D2E3FC;\n",
              "    }\n",
              "\n",
              "    [theme=dark] .colab-df-convert:hover {\n",
              "      background-color: #434B5C;\n",
              "      box-shadow: 0px 1px 3px 1px rgba(0, 0, 0, 0.15);\n",
              "      filter: drop-shadow(0px 1px 2px rgba(0, 0, 0, 0.3));\n",
              "      fill: #FFFFFF;\n",
              "    }\n",
              "  </style>\n",
              "\n",
              "      <script>\n",
              "        const buttonEl =\n",
              "          document.querySelector('#df-04334e8c-f43f-432a-bd78-c5f8f13ca74d button.colab-df-convert');\n",
              "        buttonEl.style.display =\n",
              "          google.colab.kernel.accessAllowed ? 'block' : 'none';\n",
              "\n",
              "        async function convertToInteractive(key) {\n",
              "          const element = document.querySelector('#df-04334e8c-f43f-432a-bd78-c5f8f13ca74d');\n",
              "          const dataTable =\n",
              "            await google.colab.kernel.invokeFunction('convertToInteractive',\n",
              "                                                     [key], {});\n",
              "          if (!dataTable) return;\n",
              "\n",
              "          const docLinkHtml = 'Like what you see? Visit the ' +\n",
              "            '<a target=\"_blank\" href=https://colab.research.google.com/notebooks/data_table.ipynb>data table notebook</a>'\n",
              "            + ' to learn more about interactive tables.';\n",
              "          element.innerHTML = '';\n",
              "          dataTable['output_type'] = 'display_data';\n",
              "          await google.colab.output.renderOutput(dataTable, element);\n",
              "          const docLink = document.createElement('div');\n",
              "          docLink.innerHTML = docLinkHtml;\n",
              "          element.appendChild(docLink);\n",
              "        }\n",
              "      </script>\n",
              "    </div>\n",
              "  </div>\n",
              "  "
            ]
          },
          "metadata": {},
          "execution_count": 7
        }
      ],
      "source": [
        "df_tweets.head()"
      ]
    },
    {
      "cell_type": "code",
      "execution_count": 8,
      "metadata": {
        "colab": {
          "base_uri": "https://localhost:8080/"
        },
        "id": "NawkZP_CxDrh",
        "outputId": "170ccdcc-3c69-4c34-a088-63e4f9bf80f6"
      },
      "outputs": [
        {
          "output_type": "stream",
          "name": "stderr",
          "text": [
            "100%|██████████| 28305/28305 [01:16<00:00, 368.83it/s]\n"
          ]
        }
      ],
      "source": [
        "# Cleaning and resampling (we are taking only 0,1% of the 2M tweets, \n",
        "# it will be enough for our analysis) our dataset\n",
        "\n",
        "df_tweets = df_tweets.sort_values(by = 'date')\n",
        "df_tweets_clean = df_tweets.sample(frac=0.01, replace=False, random_state=1)\n",
        "df_tweets_clean.reset_index(inplace=True)\n",
        "for i,s in enumerate(tqdm(df_tweets_clean['text'],position=0, leave=True)):\n",
        "    text = str(df_tweets_clean.loc[i, 'text'])\n",
        "    text = text.replace(\"#\", \"\")\n",
        "    text = re.sub('https?://(?:[-\\w.]|(?:%[\\da-fA-F]{2}))+', '', text, flags=re.MULTILINE)\n",
        "    text = re.sub('@\\\\w+ *', '', text, flags=re.MULTILINE)\n",
        "    df_tweets_clean.loc[i, 'text'] = text"
      ]
    },
    {
      "cell_type": "code",
      "execution_count": 9,
      "metadata": {
        "colab": {
          "base_uri": "https://localhost:8080/",
          "height": 652
        },
        "id": "Jbc330T-X6Dl",
        "outputId": "f091e893-9d65-4d32-b2ed-ed644864a359"
      },
      "outputs": [
        {
          "output_type": "execute_result",
          "data": {
            "text/plain": [
              "     index    user_name                   user_location  \\\n",
              "0  2414831      Dani VB                             NaN   \n",
              "1   527315  geniusgyani                  Haryana, India   \n",
              "2  2772078       Rayhan  1342/15 , Chandpur , Banglades   \n",
              "3   930134          ₿ 🟩                     The Citadel   \n",
              "4   633744     Nagatø 法                          Greece   \n",
              "\n",
              "                                    user_description         user_created  \\\n",
              "0  @Dogecola - #DogeCola - #DogeColaNFT / #BNB / ...  2021-08-21 14:11:22   \n",
              "1                  On a mission of #inspiring people  2020-05-15 23:12:18   \n",
              "2                           Got a worst mind just...  2015-07-19 06:11:48   \n",
              "3  Founder of @shoesinbitcoin & Marketing @btcres...  2018-08-09 19:52:57   \n",
              "4  #Bitcoin | Writing articles & FA ✍️ | Digging ...  2017-12-04 08:24:56   \n",
              "\n",
              "  user_followers user_friends user_favourites user_verified  \\\n",
              "0          380.0       1130.0         27815.0         False   \n",
              "1            8.0        164.0            18.0         False   \n",
              "2           39.0         88.0           196.0         False   \n",
              "3          401.0        970.0          5205.0         False   \n",
              "4        10752.0       2407.0         23707.0         False   \n",
              "\n",
              "                  date                                               text  \\\n",
              "0  2022-03-07 12:48:32  My favorite project is DogeCola, they will soo...   \n",
              "1  2021-07-19 12:41:24                 Best time to buy bitcoin right now   \n",
              "2  2022-04-15 14:55:38  Pi Network is booming platform, Always with my...   \n",
              "3  2021-08-18 11:16:41  It takes time to start trusting a human being....   \n",
              "4  2021-07-29 22:46:22  4/ $KAR | What I'm mostly interested in is the...   \n",
              "\n",
              "                                            hashtags               source  \\\n",
              "0  ['DogeCola', 'DogeColaNFT', 'NFTs', 'NFT', 'NF...      Twitter Web App   \n",
              "1                                        ['bitcoin']   Twitter for iPhone   \n",
              "2                        ['PiNetwork', 'BTC', 'BNB']  Twitter for Android   \n",
              "3                                        ['Bitcoin']      Twitter Web App   \n",
              "4                                            ['BTC']      Twitter Web App   \n",
              "\n",
              "  is_retweet  \n",
              "0      False  \n",
              "1      False  \n",
              "2      False  \n",
              "3      False  \n",
              "4      False  "
            ],
            "text/html": [
              "\n",
              "  <div id=\"df-b298cc32-7b15-4a7c-b8b7-80724b98136f\">\n",
              "    <div class=\"colab-df-container\">\n",
              "      <div>\n",
              "<style scoped>\n",
              "    .dataframe tbody tr th:only-of-type {\n",
              "        vertical-align: middle;\n",
              "    }\n",
              "\n",
              "    .dataframe tbody tr th {\n",
              "        vertical-align: top;\n",
              "    }\n",
              "\n",
              "    .dataframe thead th {\n",
              "        text-align: right;\n",
              "    }\n",
              "</style>\n",
              "<table border=\"1\" class=\"dataframe\">\n",
              "  <thead>\n",
              "    <tr style=\"text-align: right;\">\n",
              "      <th></th>\n",
              "      <th>index</th>\n",
              "      <th>user_name</th>\n",
              "      <th>user_location</th>\n",
              "      <th>user_description</th>\n",
              "      <th>user_created</th>\n",
              "      <th>user_followers</th>\n",
              "      <th>user_friends</th>\n",
              "      <th>user_favourites</th>\n",
              "      <th>user_verified</th>\n",
              "      <th>date</th>\n",
              "      <th>text</th>\n",
              "      <th>hashtags</th>\n",
              "      <th>source</th>\n",
              "      <th>is_retweet</th>\n",
              "    </tr>\n",
              "  </thead>\n",
              "  <tbody>\n",
              "    <tr>\n",
              "      <th>0</th>\n",
              "      <td>2414831</td>\n",
              "      <td>Dani VB</td>\n",
              "      <td>NaN</td>\n",
              "      <td>@Dogecola - #DogeCola - #DogeColaNFT / #BNB / ...</td>\n",
              "      <td>2021-08-21 14:11:22</td>\n",
              "      <td>380.0</td>\n",
              "      <td>1130.0</td>\n",
              "      <td>27815.0</td>\n",
              "      <td>False</td>\n",
              "      <td>2022-03-07 12:48:32</td>\n",
              "      <td>My favorite project is DogeCola, they will soo...</td>\n",
              "      <td>['DogeCola', 'DogeColaNFT', 'NFTs', 'NFT', 'NF...</td>\n",
              "      <td>Twitter Web App</td>\n",
              "      <td>False</td>\n",
              "    </tr>\n",
              "    <tr>\n",
              "      <th>1</th>\n",
              "      <td>527315</td>\n",
              "      <td>geniusgyani</td>\n",
              "      <td>Haryana, India</td>\n",
              "      <td>On a mission of #inspiring people</td>\n",
              "      <td>2020-05-15 23:12:18</td>\n",
              "      <td>8.0</td>\n",
              "      <td>164.0</td>\n",
              "      <td>18.0</td>\n",
              "      <td>False</td>\n",
              "      <td>2021-07-19 12:41:24</td>\n",
              "      <td>Best time to buy bitcoin right now</td>\n",
              "      <td>['bitcoin']</td>\n",
              "      <td>Twitter for iPhone</td>\n",
              "      <td>False</td>\n",
              "    </tr>\n",
              "    <tr>\n",
              "      <th>2</th>\n",
              "      <td>2772078</td>\n",
              "      <td>Rayhan</td>\n",
              "      <td>1342/15 , Chandpur , Banglades</td>\n",
              "      <td>Got a worst mind just...</td>\n",
              "      <td>2015-07-19 06:11:48</td>\n",
              "      <td>39.0</td>\n",
              "      <td>88.0</td>\n",
              "      <td>196.0</td>\n",
              "      <td>False</td>\n",
              "      <td>2022-04-15 14:55:38</td>\n",
              "      <td>Pi Network is booming platform, Always with my...</td>\n",
              "      <td>['PiNetwork', 'BTC', 'BNB']</td>\n",
              "      <td>Twitter for Android</td>\n",
              "      <td>False</td>\n",
              "    </tr>\n",
              "    <tr>\n",
              "      <th>3</th>\n",
              "      <td>930134</td>\n",
              "      <td>₿ 🟩</td>\n",
              "      <td>The Citadel</td>\n",
              "      <td>Founder of @shoesinbitcoin &amp; Marketing @btcres...</td>\n",
              "      <td>2018-08-09 19:52:57</td>\n",
              "      <td>401.0</td>\n",
              "      <td>970.0</td>\n",
              "      <td>5205.0</td>\n",
              "      <td>False</td>\n",
              "      <td>2021-08-18 11:16:41</td>\n",
              "      <td>It takes time to start trusting a human being....</td>\n",
              "      <td>['Bitcoin']</td>\n",
              "      <td>Twitter Web App</td>\n",
              "      <td>False</td>\n",
              "    </tr>\n",
              "    <tr>\n",
              "      <th>4</th>\n",
              "      <td>633744</td>\n",
              "      <td>Nagatø 法</td>\n",
              "      <td>Greece</td>\n",
              "      <td>#Bitcoin | Writing articles &amp; FA ✍️ | Digging ...</td>\n",
              "      <td>2017-12-04 08:24:56</td>\n",
              "      <td>10752.0</td>\n",
              "      <td>2407.0</td>\n",
              "      <td>23707.0</td>\n",
              "      <td>False</td>\n",
              "      <td>2021-07-29 22:46:22</td>\n",
              "      <td>4/ $KAR | What I'm mostly interested in is the...</td>\n",
              "      <td>['BTC']</td>\n",
              "      <td>Twitter Web App</td>\n",
              "      <td>False</td>\n",
              "    </tr>\n",
              "  </tbody>\n",
              "</table>\n",
              "</div>\n",
              "      <button class=\"colab-df-convert\" onclick=\"convertToInteractive('df-b298cc32-7b15-4a7c-b8b7-80724b98136f')\"\n",
              "              title=\"Convert this dataframe to an interactive table.\"\n",
              "              style=\"display:none;\">\n",
              "        \n",
              "  <svg xmlns=\"http://www.w3.org/2000/svg\" height=\"24px\"viewBox=\"0 0 24 24\"\n",
              "       width=\"24px\">\n",
              "    <path d=\"M0 0h24v24H0V0z\" fill=\"none\"/>\n",
              "    <path d=\"M18.56 5.44l.94 2.06.94-2.06 2.06-.94-2.06-.94-.94-2.06-.94 2.06-2.06.94zm-11 1L8.5 8.5l.94-2.06 2.06-.94-2.06-.94L8.5 2.5l-.94 2.06-2.06.94zm10 10l.94 2.06.94-2.06 2.06-.94-2.06-.94-.94-2.06-.94 2.06-2.06.94z\"/><path d=\"M17.41 7.96l-1.37-1.37c-.4-.4-.92-.59-1.43-.59-.52 0-1.04.2-1.43.59L10.3 9.45l-7.72 7.72c-.78.78-.78 2.05 0 2.83L4 21.41c.39.39.9.59 1.41.59.51 0 1.02-.2 1.41-.59l7.78-7.78 2.81-2.81c.8-.78.8-2.07 0-2.86zM5.41 20L4 18.59l7.72-7.72 1.47 1.35L5.41 20z\"/>\n",
              "  </svg>\n",
              "      </button>\n",
              "      \n",
              "  <style>\n",
              "    .colab-df-container {\n",
              "      display:flex;\n",
              "      flex-wrap:wrap;\n",
              "      gap: 12px;\n",
              "    }\n",
              "\n",
              "    .colab-df-convert {\n",
              "      background-color: #E8F0FE;\n",
              "      border: none;\n",
              "      border-radius: 50%;\n",
              "      cursor: pointer;\n",
              "      display: none;\n",
              "      fill: #1967D2;\n",
              "      height: 32px;\n",
              "      padding: 0 0 0 0;\n",
              "      width: 32px;\n",
              "    }\n",
              "\n",
              "    .colab-df-convert:hover {\n",
              "      background-color: #E2EBFA;\n",
              "      box-shadow: 0px 1px 2px rgba(60, 64, 67, 0.3), 0px 1px 3px 1px rgba(60, 64, 67, 0.15);\n",
              "      fill: #174EA6;\n",
              "    }\n",
              "\n",
              "    [theme=dark] .colab-df-convert {\n",
              "      background-color: #3B4455;\n",
              "      fill: #D2E3FC;\n",
              "    }\n",
              "\n",
              "    [theme=dark] .colab-df-convert:hover {\n",
              "      background-color: #434B5C;\n",
              "      box-shadow: 0px 1px 3px 1px rgba(0, 0, 0, 0.15);\n",
              "      filter: drop-shadow(0px 1px 2px rgba(0, 0, 0, 0.3));\n",
              "      fill: #FFFFFF;\n",
              "    }\n",
              "  </style>\n",
              "\n",
              "      <script>\n",
              "        const buttonEl =\n",
              "          document.querySelector('#df-b298cc32-7b15-4a7c-b8b7-80724b98136f button.colab-df-convert');\n",
              "        buttonEl.style.display =\n",
              "          google.colab.kernel.accessAllowed ? 'block' : 'none';\n",
              "\n",
              "        async function convertToInteractive(key) {\n",
              "          const element = document.querySelector('#df-b298cc32-7b15-4a7c-b8b7-80724b98136f');\n",
              "          const dataTable =\n",
              "            await google.colab.kernel.invokeFunction('convertToInteractive',\n",
              "                                                     [key], {});\n",
              "          if (!dataTable) return;\n",
              "\n",
              "          const docLinkHtml = 'Like what you see? Visit the ' +\n",
              "            '<a target=\"_blank\" href=https://colab.research.google.com/notebooks/data_table.ipynb>data table notebook</a>'\n",
              "            + ' to learn more about interactive tables.';\n",
              "          element.innerHTML = '';\n",
              "          dataTable['output_type'] = 'display_data';\n",
              "          await google.colab.output.renderOutput(dataTable, element);\n",
              "          const docLink = document.createElement('div');\n",
              "          docLink.innerHTML = docLinkHtml;\n",
              "          element.appendChild(docLink);\n",
              "        }\n",
              "      </script>\n",
              "    </div>\n",
              "  </div>\n",
              "  "
            ]
          },
          "metadata": {},
          "execution_count": 9
        }
      ],
      "source": [
        "df_tweets_clean.head()"
      ]
    },
    {
      "cell_type": "code",
      "execution_count": 10,
      "metadata": {
        "id": "IjK00XNMohMA"
      },
      "outputs": [],
      "source": [
        "# We get rid of index column\n",
        "\n",
        "df_tweets_clean.drop(columns = ['index'], inplace = True)"
      ]
    },
    {
      "cell_type": "code",
      "execution_count": 11,
      "metadata": {
        "id": "roX5cFhEXXSh"
      },
      "outputs": [],
      "source": [
        "# Saving our dataset\n",
        "\n",
        "tweets_clean_file = './bitcoin_tweets_clean.csv'\n",
        "\n",
        "df_tweets_clean.to_csv(tweets_clean_file, header=True, encoding='utf-8',index=False)"
      ]
    },
    {
      "cell_type": "markdown",
      "metadata": {
        "id": "gFbqGh80auos"
      },
      "source": [
        "### b. Bitcoin price history"
      ]
    },
    {
      "cell_type": "code",
      "execution_count": 12,
      "metadata": {
        "id": "3ijsMVqdaua9"
      },
      "outputs": [],
      "source": [
        "df_price = pd.read_csv('BTC-USD.csv')"
      ]
    },
    {
      "cell_type": "code",
      "execution_count": 13,
      "metadata": {
        "colab": {
          "base_uri": "https://localhost:8080/",
          "height": 206
        },
        "id": "lmtiF6qSbDkW",
        "outputId": "e25303c3-4ed5-43cb-d4f6-fede1f1eaa51"
      },
      "outputs": [
        {
          "output_type": "execute_result",
          "data": {
            "text/plain": [
              "         Date        Open        High         Low       Close   Adj Close  \\\n",
              "0  2014-09-17  465.864014  468.174011  452.421997  457.334015  457.334015   \n",
              "1  2014-09-18  456.859985  456.859985  413.104004  424.440002  424.440002   \n",
              "2  2014-09-19  424.102997  427.834991  384.532013  394.795990  394.795990   \n",
              "3  2014-09-20  394.673004  423.295990  389.882996  408.903992  408.903992   \n",
              "4  2014-09-21  408.084991  412.425995  393.181000  398.821014  398.821014   \n",
              "\n",
              "     Volume  \n",
              "0  21056800  \n",
              "1  34483200  \n",
              "2  37919700  \n",
              "3  36863600  \n",
              "4  26580100  "
            ],
            "text/html": [
              "\n",
              "  <div id=\"df-f3b9f4c0-eb12-4643-af1c-bc9eaf22a545\">\n",
              "    <div class=\"colab-df-container\">\n",
              "      <div>\n",
              "<style scoped>\n",
              "    .dataframe tbody tr th:only-of-type {\n",
              "        vertical-align: middle;\n",
              "    }\n",
              "\n",
              "    .dataframe tbody tr th {\n",
              "        vertical-align: top;\n",
              "    }\n",
              "\n",
              "    .dataframe thead th {\n",
              "        text-align: right;\n",
              "    }\n",
              "</style>\n",
              "<table border=\"1\" class=\"dataframe\">\n",
              "  <thead>\n",
              "    <tr style=\"text-align: right;\">\n",
              "      <th></th>\n",
              "      <th>Date</th>\n",
              "      <th>Open</th>\n",
              "      <th>High</th>\n",
              "      <th>Low</th>\n",
              "      <th>Close</th>\n",
              "      <th>Adj Close</th>\n",
              "      <th>Volume</th>\n",
              "    </tr>\n",
              "  </thead>\n",
              "  <tbody>\n",
              "    <tr>\n",
              "      <th>0</th>\n",
              "      <td>2014-09-17</td>\n",
              "      <td>465.864014</td>\n",
              "      <td>468.174011</td>\n",
              "      <td>452.421997</td>\n",
              "      <td>457.334015</td>\n",
              "      <td>457.334015</td>\n",
              "      <td>21056800</td>\n",
              "    </tr>\n",
              "    <tr>\n",
              "      <th>1</th>\n",
              "      <td>2014-09-18</td>\n",
              "      <td>456.859985</td>\n",
              "      <td>456.859985</td>\n",
              "      <td>413.104004</td>\n",
              "      <td>424.440002</td>\n",
              "      <td>424.440002</td>\n",
              "      <td>34483200</td>\n",
              "    </tr>\n",
              "    <tr>\n",
              "      <th>2</th>\n",
              "      <td>2014-09-19</td>\n",
              "      <td>424.102997</td>\n",
              "      <td>427.834991</td>\n",
              "      <td>384.532013</td>\n",
              "      <td>394.795990</td>\n",
              "      <td>394.795990</td>\n",
              "      <td>37919700</td>\n",
              "    </tr>\n",
              "    <tr>\n",
              "      <th>3</th>\n",
              "      <td>2014-09-20</td>\n",
              "      <td>394.673004</td>\n",
              "      <td>423.295990</td>\n",
              "      <td>389.882996</td>\n",
              "      <td>408.903992</td>\n",
              "      <td>408.903992</td>\n",
              "      <td>36863600</td>\n",
              "    </tr>\n",
              "    <tr>\n",
              "      <th>4</th>\n",
              "      <td>2014-09-21</td>\n",
              "      <td>408.084991</td>\n",
              "      <td>412.425995</td>\n",
              "      <td>393.181000</td>\n",
              "      <td>398.821014</td>\n",
              "      <td>398.821014</td>\n",
              "      <td>26580100</td>\n",
              "    </tr>\n",
              "  </tbody>\n",
              "</table>\n",
              "</div>\n",
              "      <button class=\"colab-df-convert\" onclick=\"convertToInteractive('df-f3b9f4c0-eb12-4643-af1c-bc9eaf22a545')\"\n",
              "              title=\"Convert this dataframe to an interactive table.\"\n",
              "              style=\"display:none;\">\n",
              "        \n",
              "  <svg xmlns=\"http://www.w3.org/2000/svg\" height=\"24px\"viewBox=\"0 0 24 24\"\n",
              "       width=\"24px\">\n",
              "    <path d=\"M0 0h24v24H0V0z\" fill=\"none\"/>\n",
              "    <path d=\"M18.56 5.44l.94 2.06.94-2.06 2.06-.94-2.06-.94-.94-2.06-.94 2.06-2.06.94zm-11 1L8.5 8.5l.94-2.06 2.06-.94-2.06-.94L8.5 2.5l-.94 2.06-2.06.94zm10 10l.94 2.06.94-2.06 2.06-.94-2.06-.94-.94-2.06-.94 2.06-2.06.94z\"/><path d=\"M17.41 7.96l-1.37-1.37c-.4-.4-.92-.59-1.43-.59-.52 0-1.04.2-1.43.59L10.3 9.45l-7.72 7.72c-.78.78-.78 2.05 0 2.83L4 21.41c.39.39.9.59 1.41.59.51 0 1.02-.2 1.41-.59l7.78-7.78 2.81-2.81c.8-.78.8-2.07 0-2.86zM5.41 20L4 18.59l7.72-7.72 1.47 1.35L5.41 20z\"/>\n",
              "  </svg>\n",
              "      </button>\n",
              "      \n",
              "  <style>\n",
              "    .colab-df-container {\n",
              "      display:flex;\n",
              "      flex-wrap:wrap;\n",
              "      gap: 12px;\n",
              "    }\n",
              "\n",
              "    .colab-df-convert {\n",
              "      background-color: #E8F0FE;\n",
              "      border: none;\n",
              "      border-radius: 50%;\n",
              "      cursor: pointer;\n",
              "      display: none;\n",
              "      fill: #1967D2;\n",
              "      height: 32px;\n",
              "      padding: 0 0 0 0;\n",
              "      width: 32px;\n",
              "    }\n",
              "\n",
              "    .colab-df-convert:hover {\n",
              "      background-color: #E2EBFA;\n",
              "      box-shadow: 0px 1px 2px rgba(60, 64, 67, 0.3), 0px 1px 3px 1px rgba(60, 64, 67, 0.15);\n",
              "      fill: #174EA6;\n",
              "    }\n",
              "\n",
              "    [theme=dark] .colab-df-convert {\n",
              "      background-color: #3B4455;\n",
              "      fill: #D2E3FC;\n",
              "    }\n",
              "\n",
              "    [theme=dark] .colab-df-convert:hover {\n",
              "      background-color: #434B5C;\n",
              "      box-shadow: 0px 1px 3px 1px rgba(0, 0, 0, 0.15);\n",
              "      filter: drop-shadow(0px 1px 2px rgba(0, 0, 0, 0.3));\n",
              "      fill: #FFFFFF;\n",
              "    }\n",
              "  </style>\n",
              "\n",
              "      <script>\n",
              "        const buttonEl =\n",
              "          document.querySelector('#df-f3b9f4c0-eb12-4643-af1c-bc9eaf22a545 button.colab-df-convert');\n",
              "        buttonEl.style.display =\n",
              "          google.colab.kernel.accessAllowed ? 'block' : 'none';\n",
              "\n",
              "        async function convertToInteractive(key) {\n",
              "          const element = document.querySelector('#df-f3b9f4c0-eb12-4643-af1c-bc9eaf22a545');\n",
              "          const dataTable =\n",
              "            await google.colab.kernel.invokeFunction('convertToInteractive',\n",
              "                                                     [key], {});\n",
              "          if (!dataTable) return;\n",
              "\n",
              "          const docLinkHtml = 'Like what you see? Visit the ' +\n",
              "            '<a target=\"_blank\" href=https://colab.research.google.com/notebooks/data_table.ipynb>data table notebook</a>'\n",
              "            + ' to learn more about interactive tables.';\n",
              "          element.innerHTML = '';\n",
              "          dataTable['output_type'] = 'display_data';\n",
              "          await google.colab.output.renderOutput(dataTable, element);\n",
              "          const docLink = document.createElement('div');\n",
              "          docLink.innerHTML = docLinkHtml;\n",
              "          element.appendChild(docLink);\n",
              "        }\n",
              "      </script>\n",
              "    </div>\n",
              "  </div>\n",
              "  "
            ]
          },
          "metadata": {},
          "execution_count": 13
        }
      ],
      "source": [
        "df_price.head()"
      ]
    },
    {
      "cell_type": "code",
      "execution_count": 14,
      "metadata": {
        "colab": {
          "base_uri": "https://localhost:8080/",
          "height": 206
        },
        "id": "Q95tf-CfbSYR",
        "outputId": "f566e21c-9cc0-4de8-e881-fc44c2cc8938"
      },
      "outputs": [
        {
          "output_type": "execute_result",
          "data": {
            "text/plain": [
              "            Date          Open          High           Low         Close  \\\n",
              "2686  2022-01-24  36275.734375  37247.519531  33184.058594  36654.328125   \n",
              "2687  2022-01-25  36654.804688  37444.570313  35779.429688  36954.003906   \n",
              "2688  2022-01-26  36950.515625  38825.410156  36374.906250  36852.121094   \n",
              "2689  2022-01-27  36841.878906  37148.324219  35629.281250  37138.234375   \n",
              "2690  2022-01-28  37137.898438  37411.082031  36398.332031  36435.585938   \n",
              "\n",
              "         Adj Close       Volume  \n",
              "2686  36654.328125  41856658597  \n",
              "2687  36954.003906  26428189594  \n",
              "2688  36852.121094  31324598034  \n",
              "2689  37138.234375  25041426629  \n",
              "2690  36435.585938  24881917952  "
            ],
            "text/html": [
              "\n",
              "  <div id=\"df-cefda630-b783-4382-a34d-17a92eb3941a\">\n",
              "    <div class=\"colab-df-container\">\n",
              "      <div>\n",
              "<style scoped>\n",
              "    .dataframe tbody tr th:only-of-type {\n",
              "        vertical-align: middle;\n",
              "    }\n",
              "\n",
              "    .dataframe tbody tr th {\n",
              "        vertical-align: top;\n",
              "    }\n",
              "\n",
              "    .dataframe thead th {\n",
              "        text-align: right;\n",
              "    }\n",
              "</style>\n",
              "<table border=\"1\" class=\"dataframe\">\n",
              "  <thead>\n",
              "    <tr style=\"text-align: right;\">\n",
              "      <th></th>\n",
              "      <th>Date</th>\n",
              "      <th>Open</th>\n",
              "      <th>High</th>\n",
              "      <th>Low</th>\n",
              "      <th>Close</th>\n",
              "      <th>Adj Close</th>\n",
              "      <th>Volume</th>\n",
              "    </tr>\n",
              "  </thead>\n",
              "  <tbody>\n",
              "    <tr>\n",
              "      <th>2686</th>\n",
              "      <td>2022-01-24</td>\n",
              "      <td>36275.734375</td>\n",
              "      <td>37247.519531</td>\n",
              "      <td>33184.058594</td>\n",
              "      <td>36654.328125</td>\n",
              "      <td>36654.328125</td>\n",
              "      <td>41856658597</td>\n",
              "    </tr>\n",
              "    <tr>\n",
              "      <th>2687</th>\n",
              "      <td>2022-01-25</td>\n",
              "      <td>36654.804688</td>\n",
              "      <td>37444.570313</td>\n",
              "      <td>35779.429688</td>\n",
              "      <td>36954.003906</td>\n",
              "      <td>36954.003906</td>\n",
              "      <td>26428189594</td>\n",
              "    </tr>\n",
              "    <tr>\n",
              "      <th>2688</th>\n",
              "      <td>2022-01-26</td>\n",
              "      <td>36950.515625</td>\n",
              "      <td>38825.410156</td>\n",
              "      <td>36374.906250</td>\n",
              "      <td>36852.121094</td>\n",
              "      <td>36852.121094</td>\n",
              "      <td>31324598034</td>\n",
              "    </tr>\n",
              "    <tr>\n",
              "      <th>2689</th>\n",
              "      <td>2022-01-27</td>\n",
              "      <td>36841.878906</td>\n",
              "      <td>37148.324219</td>\n",
              "      <td>35629.281250</td>\n",
              "      <td>37138.234375</td>\n",
              "      <td>37138.234375</td>\n",
              "      <td>25041426629</td>\n",
              "    </tr>\n",
              "    <tr>\n",
              "      <th>2690</th>\n",
              "      <td>2022-01-28</td>\n",
              "      <td>37137.898438</td>\n",
              "      <td>37411.082031</td>\n",
              "      <td>36398.332031</td>\n",
              "      <td>36435.585938</td>\n",
              "      <td>36435.585938</td>\n",
              "      <td>24881917952</td>\n",
              "    </tr>\n",
              "  </tbody>\n",
              "</table>\n",
              "</div>\n",
              "      <button class=\"colab-df-convert\" onclick=\"convertToInteractive('df-cefda630-b783-4382-a34d-17a92eb3941a')\"\n",
              "              title=\"Convert this dataframe to an interactive table.\"\n",
              "              style=\"display:none;\">\n",
              "        \n",
              "  <svg xmlns=\"http://www.w3.org/2000/svg\" height=\"24px\"viewBox=\"0 0 24 24\"\n",
              "       width=\"24px\">\n",
              "    <path d=\"M0 0h24v24H0V0z\" fill=\"none\"/>\n",
              "    <path d=\"M18.56 5.44l.94 2.06.94-2.06 2.06-.94-2.06-.94-.94-2.06-.94 2.06-2.06.94zm-11 1L8.5 8.5l.94-2.06 2.06-.94-2.06-.94L8.5 2.5l-.94 2.06-2.06.94zm10 10l.94 2.06.94-2.06 2.06-.94-2.06-.94-.94-2.06-.94 2.06-2.06.94z\"/><path d=\"M17.41 7.96l-1.37-1.37c-.4-.4-.92-.59-1.43-.59-.52 0-1.04.2-1.43.59L10.3 9.45l-7.72 7.72c-.78.78-.78 2.05 0 2.83L4 21.41c.39.39.9.59 1.41.59.51 0 1.02-.2 1.41-.59l7.78-7.78 2.81-2.81c.8-.78.8-2.07 0-2.86zM5.41 20L4 18.59l7.72-7.72 1.47 1.35L5.41 20z\"/>\n",
              "  </svg>\n",
              "      </button>\n",
              "      \n",
              "  <style>\n",
              "    .colab-df-container {\n",
              "      display:flex;\n",
              "      flex-wrap:wrap;\n",
              "      gap: 12px;\n",
              "    }\n",
              "\n",
              "    .colab-df-convert {\n",
              "      background-color: #E8F0FE;\n",
              "      border: none;\n",
              "      border-radius: 50%;\n",
              "      cursor: pointer;\n",
              "      display: none;\n",
              "      fill: #1967D2;\n",
              "      height: 32px;\n",
              "      padding: 0 0 0 0;\n",
              "      width: 32px;\n",
              "    }\n",
              "\n",
              "    .colab-df-convert:hover {\n",
              "      background-color: #E2EBFA;\n",
              "      box-shadow: 0px 1px 2px rgba(60, 64, 67, 0.3), 0px 1px 3px 1px rgba(60, 64, 67, 0.15);\n",
              "      fill: #174EA6;\n",
              "    }\n",
              "\n",
              "    [theme=dark] .colab-df-convert {\n",
              "      background-color: #3B4455;\n",
              "      fill: #D2E3FC;\n",
              "    }\n",
              "\n",
              "    [theme=dark] .colab-df-convert:hover {\n",
              "      background-color: #434B5C;\n",
              "      box-shadow: 0px 1px 3px 1px rgba(0, 0, 0, 0.15);\n",
              "      filter: drop-shadow(0px 1px 2px rgba(0, 0, 0, 0.3));\n",
              "      fill: #FFFFFF;\n",
              "    }\n",
              "  </style>\n",
              "\n",
              "      <script>\n",
              "        const buttonEl =\n",
              "          document.querySelector('#df-cefda630-b783-4382-a34d-17a92eb3941a button.colab-df-convert');\n",
              "        buttonEl.style.display =\n",
              "          google.colab.kernel.accessAllowed ? 'block' : 'none';\n",
              "\n",
              "        async function convertToInteractive(key) {\n",
              "          const element = document.querySelector('#df-cefda630-b783-4382-a34d-17a92eb3941a');\n",
              "          const dataTable =\n",
              "            await google.colab.kernel.invokeFunction('convertToInteractive',\n",
              "                                                     [key], {});\n",
              "          if (!dataTable) return;\n",
              "\n",
              "          const docLinkHtml = 'Like what you see? Visit the ' +\n",
              "            '<a target=\"_blank\" href=https://colab.research.google.com/notebooks/data_table.ipynb>data table notebook</a>'\n",
              "            + ' to learn more about interactive tables.';\n",
              "          element.innerHTML = '';\n",
              "          dataTable['output_type'] = 'display_data';\n",
              "          await google.colab.output.renderOutput(dataTable, element);\n",
              "          const docLink = document.createElement('div');\n",
              "          docLink.innerHTML = docLinkHtml;\n",
              "          element.appendChild(docLink);\n",
              "        }\n",
              "      </script>\n",
              "    </div>\n",
              "  </div>\n",
              "  "
            ]
          },
          "metadata": {},
          "execution_count": 14
        }
      ],
      "source": [
        "df_price.tail()"
      ]
    },
    {
      "cell_type": "code",
      "execution_count": 15,
      "metadata": {
        "colab": {
          "base_uri": "https://localhost:8080/"
        },
        "id": "MT49vhC2bLke",
        "outputId": "77311b06-1335-445d-e1eb-8ceb20a972cf"
      },
      "outputs": [
        {
          "output_type": "execute_result",
          "data": {
            "text/plain": [
              "(2691, 7)"
            ]
          },
          "metadata": {},
          "execution_count": 15
        }
      ],
      "source": [
        "df_price.shape"
      ]
    },
    {
      "cell_type": "markdown",
      "metadata": {
        "id": "-fcKEwxFcElt"
      },
      "source": [
        "## **3. Data visualisation of our tweets**"
      ]
    },
    {
      "cell_type": "markdown",
      "metadata": {
        "id": "eO2y8RLIeNnu"
      },
      "source": [
        "### a. Basic visualisations"
      ]
    },
    {
      "cell_type": "code",
      "execution_count": 16,
      "metadata": {
        "id": "XVnz09c9niLA"
      },
      "outputs": [],
      "source": [
        "df_tweets_clean = pd.read_csv(tweets_clean_file)[['text']]"
      ]
    },
    {
      "cell_type": "code",
      "execution_count": 17,
      "metadata": {
        "colab": {
          "base_uri": "https://localhost:8080/",
          "height": 206
        },
        "id": "1p0nqPKSn0T2",
        "outputId": "b388b724-0dde-4437-944e-f9db2dd34a04"
      },
      "outputs": [
        {
          "output_type": "execute_result",
          "data": {
            "text/plain": [
              "                                                text\n",
              "0  My favorite project is DogeCola, they will soo...\n",
              "1                 Best time to buy bitcoin right now\n",
              "2  Pi Network is booming platform, Always with my...\n",
              "3  It takes time to start trusting a human being....\n",
              "4  4/ $KAR | What I'm mostly interested in is the..."
            ],
            "text/html": [
              "\n",
              "  <div id=\"df-d160dadc-39db-444d-8040-3b082a981e58\">\n",
              "    <div class=\"colab-df-container\">\n",
              "      <div>\n",
              "<style scoped>\n",
              "    .dataframe tbody tr th:only-of-type {\n",
              "        vertical-align: middle;\n",
              "    }\n",
              "\n",
              "    .dataframe tbody tr th {\n",
              "        vertical-align: top;\n",
              "    }\n",
              "\n",
              "    .dataframe thead th {\n",
              "        text-align: right;\n",
              "    }\n",
              "</style>\n",
              "<table border=\"1\" class=\"dataframe\">\n",
              "  <thead>\n",
              "    <tr style=\"text-align: right;\">\n",
              "      <th></th>\n",
              "      <th>text</th>\n",
              "    </tr>\n",
              "  </thead>\n",
              "  <tbody>\n",
              "    <tr>\n",
              "      <th>0</th>\n",
              "      <td>My favorite project is DogeCola, they will soo...</td>\n",
              "    </tr>\n",
              "    <tr>\n",
              "      <th>1</th>\n",
              "      <td>Best time to buy bitcoin right now</td>\n",
              "    </tr>\n",
              "    <tr>\n",
              "      <th>2</th>\n",
              "      <td>Pi Network is booming platform, Always with my...</td>\n",
              "    </tr>\n",
              "    <tr>\n",
              "      <th>3</th>\n",
              "      <td>It takes time to start trusting a human being....</td>\n",
              "    </tr>\n",
              "    <tr>\n",
              "      <th>4</th>\n",
              "      <td>4/ $KAR | What I'm mostly interested in is the...</td>\n",
              "    </tr>\n",
              "  </tbody>\n",
              "</table>\n",
              "</div>\n",
              "      <button class=\"colab-df-convert\" onclick=\"convertToInteractive('df-d160dadc-39db-444d-8040-3b082a981e58')\"\n",
              "              title=\"Convert this dataframe to an interactive table.\"\n",
              "              style=\"display:none;\">\n",
              "        \n",
              "  <svg xmlns=\"http://www.w3.org/2000/svg\" height=\"24px\"viewBox=\"0 0 24 24\"\n",
              "       width=\"24px\">\n",
              "    <path d=\"M0 0h24v24H0V0z\" fill=\"none\"/>\n",
              "    <path d=\"M18.56 5.44l.94 2.06.94-2.06 2.06-.94-2.06-.94-.94-2.06-.94 2.06-2.06.94zm-11 1L8.5 8.5l.94-2.06 2.06-.94-2.06-.94L8.5 2.5l-.94 2.06-2.06.94zm10 10l.94 2.06.94-2.06 2.06-.94-2.06-.94-.94-2.06-.94 2.06-2.06.94z\"/><path d=\"M17.41 7.96l-1.37-1.37c-.4-.4-.92-.59-1.43-.59-.52 0-1.04.2-1.43.59L10.3 9.45l-7.72 7.72c-.78.78-.78 2.05 0 2.83L4 21.41c.39.39.9.59 1.41.59.51 0 1.02-.2 1.41-.59l7.78-7.78 2.81-2.81c.8-.78.8-2.07 0-2.86zM5.41 20L4 18.59l7.72-7.72 1.47 1.35L5.41 20z\"/>\n",
              "  </svg>\n",
              "      </button>\n",
              "      \n",
              "  <style>\n",
              "    .colab-df-container {\n",
              "      display:flex;\n",
              "      flex-wrap:wrap;\n",
              "      gap: 12px;\n",
              "    }\n",
              "\n",
              "    .colab-df-convert {\n",
              "      background-color: #E8F0FE;\n",
              "      border: none;\n",
              "      border-radius: 50%;\n",
              "      cursor: pointer;\n",
              "      display: none;\n",
              "      fill: #1967D2;\n",
              "      height: 32px;\n",
              "      padding: 0 0 0 0;\n",
              "      width: 32px;\n",
              "    }\n",
              "\n",
              "    .colab-df-convert:hover {\n",
              "      background-color: #E2EBFA;\n",
              "      box-shadow: 0px 1px 2px rgba(60, 64, 67, 0.3), 0px 1px 3px 1px rgba(60, 64, 67, 0.15);\n",
              "      fill: #174EA6;\n",
              "    }\n",
              "\n",
              "    [theme=dark] .colab-df-convert {\n",
              "      background-color: #3B4455;\n",
              "      fill: #D2E3FC;\n",
              "    }\n",
              "\n",
              "    [theme=dark] .colab-df-convert:hover {\n",
              "      background-color: #434B5C;\n",
              "      box-shadow: 0px 1px 3px 1px rgba(0, 0, 0, 0.15);\n",
              "      filter: drop-shadow(0px 1px 2px rgba(0, 0, 0, 0.3));\n",
              "      fill: #FFFFFF;\n",
              "    }\n",
              "  </style>\n",
              "\n",
              "      <script>\n",
              "        const buttonEl =\n",
              "          document.querySelector('#df-d160dadc-39db-444d-8040-3b082a981e58 button.colab-df-convert');\n",
              "        buttonEl.style.display =\n",
              "          google.colab.kernel.accessAllowed ? 'block' : 'none';\n",
              "\n",
              "        async function convertToInteractive(key) {\n",
              "          const element = document.querySelector('#df-d160dadc-39db-444d-8040-3b082a981e58');\n",
              "          const dataTable =\n",
              "            await google.colab.kernel.invokeFunction('convertToInteractive',\n",
              "                                                     [key], {});\n",
              "          if (!dataTable) return;\n",
              "\n",
              "          const docLinkHtml = 'Like what you see? Visit the ' +\n",
              "            '<a target=\"_blank\" href=https://colab.research.google.com/notebooks/data_table.ipynb>data table notebook</a>'\n",
              "            + ' to learn more about interactive tables.';\n",
              "          element.innerHTML = '';\n",
              "          dataTable['output_type'] = 'display_data';\n",
              "          await google.colab.output.renderOutput(dataTable, element);\n",
              "          const docLink = document.createElement('div');\n",
              "          docLink.innerHTML = docLinkHtml;\n",
              "          element.appendChild(docLink);\n",
              "        }\n",
              "      </script>\n",
              "    </div>\n",
              "  </div>\n",
              "  "
            ]
          },
          "metadata": {},
          "execution_count": 17
        }
      ],
      "source": [
        "df_tweets_clean.head()"
      ]
    },
    {
      "cell_type": "code",
      "execution_count": 18,
      "metadata": {
        "id": "g5WmceB3q3Ui"
      },
      "outputs": [],
      "source": [
        "# Drop empty rows\n",
        "\n",
        "df_tweets_clean.drop(df_tweets_clean.loc[df_tweets_clean['text'].isna()].index, inplace=True)"
      ]
    },
    {
      "cell_type": "code",
      "execution_count": 19,
      "metadata": {
        "colab": {
          "base_uri": "https://localhost:8080/",
          "height": 300
        },
        "id": "9hpHiROacSZh",
        "outputId": "d31145f7-aeec-424f-aff9-d577aee219b5"
      },
      "outputs": [
        {
          "output_type": "stream",
          "name": "stdout",
          "text": [
            "Mean character nb :  158.35588609383834\n"
          ]
        },
        {
          "output_type": "execute_result",
          "data": {
            "text/plain": [
              "<matplotlib.axes._subplots.AxesSubplot at 0x7fc2dde65650>"
            ]
          },
          "metadata": {},
          "execution_count": 19
        },
        {
          "output_type": "display_data",
          "data": {
            "text/plain": [
              "<Figure size 432x288 with 1 Axes>"
            ],
            "image/png": "[encoded data removed]"
          },
          "metadata": {
            "needs_background": "light"
          }
        }
      ],
      "source": [
        "# Length of tweets (characters)\n",
        "\n",
        "df_tweets_clean['charac_nb'] = df_tweets_clean[\"text\"].apply(len)\n",
        "\n",
        "\n",
        "print(\"Mean character nb : \", df_tweets_clean['charac_nb'].mean())\n",
        "df_tweets_clean[\"charac_nb\"].hist(bins = 50)"
      ]
    },
    {
      "cell_type": "code",
      "execution_count": 20,
      "metadata": {
        "id": "yjjzEMWxmgwu"
      },
      "outputs": [],
      "source": [
        "# Length of tweets (words)\n",
        "\n",
        "df_tweets_clean['text_len'] = df_tweets_clean.text.apply(lambda x: len(x.split(' ')) )"
      ]
    },
    {
      "cell_type": "code",
      "execution_count": 21,
      "metadata": {
        "colab": {
          "base_uri": "https://localhost:8080/",
          "height": 206
        },
        "id": "XKgieMkhm_nC",
        "outputId": "79aebdcb-9c09-4f2f-c6e3-e2c97dc43f44"
      },
      "outputs": [
        {
          "output_type": "execute_result",
          "data": {
            "text/plain": [
              "                                                text  charac_nb  text_len\n",
              "0  My favorite project is DogeCola, they will soo...        230        31\n",
              "1                 Best time to buy bitcoin right now         34         7\n",
              "2  Pi Network is booming platform, Always with my...        167        19\n",
              "3  It takes time to start trusting a human being....        165        27\n",
              "4  4/ $KAR | What I'm mostly interested in is the...        265        36"
            ],
            "text/html": [
              "\n",
              "  <div id=\"df-20e9e8e0-37d0-4001-b9eb-a0314f98a850\">\n",
              "    <div class=\"colab-df-container\">\n",
              "      <div>\n",
              "<style scoped>\n",
              "    .dataframe tbody tr th:only-of-type {\n",
              "        vertical-align: middle;\n",
              "    }\n",
              "\n",
              "    .dataframe tbody tr th {\n",
              "        vertical-align: top;\n",
              "    }\n",
              "\n",
              "    .dataframe thead th {\n",
              "        text-align: right;\n",
              "    }\n",
              "</style>\n",
              "<table border=\"1\" class=\"dataframe\">\n",
              "  <thead>\n",
              "    <tr style=\"text-align: right;\">\n",
              "      <th></th>\n",
              "      <th>text</th>\n",
              "      <th>charac_nb</th>\n",
              "      <th>text_len</th>\n",
              "    </tr>\n",
              "  </thead>\n",
              "  <tbody>\n",
              "    <tr>\n",
              "      <th>0</th>\n",
              "      <td>My favorite project is DogeCola, they will soo...</td>\n",
              "      <td>230</td>\n",
              "      <td>31</td>\n",
              "    </tr>\n",
              "    <tr>\n",
              "      <th>1</th>\n",
              "      <td>Best time to buy bitcoin right now</td>\n",
              "      <td>34</td>\n",
              "      <td>7</td>\n",
              "    </tr>\n",
              "    <tr>\n",
              "      <th>2</th>\n",
              "      <td>Pi Network is booming platform, Always with my...</td>\n",
              "      <td>167</td>\n",
              "      <td>19</td>\n",
              "    </tr>\n",
              "    <tr>\n",
              "      <th>3</th>\n",
              "      <td>It takes time to start trusting a human being....</td>\n",
              "      <td>165</td>\n",
              "      <td>27</td>\n",
              "    </tr>\n",
              "    <tr>\n",
              "      <th>4</th>\n",
              "      <td>4/ $KAR | What I'm mostly interested in is the...</td>\n",
              "      <td>265</td>\n",
              "      <td>36</td>\n",
              "    </tr>\n",
              "  </tbody>\n",
              "</table>\n",
              "</div>\n",
              "      <button class=\"colab-df-convert\" onclick=\"convertToInteractive('df-20e9e8e0-37d0-4001-b9eb-a0314f98a850')\"\n",
              "              title=\"Convert this dataframe to an interactive table.\"\n",
              "              style=\"display:none;\">\n",
              "        \n",
              "  <svg xmlns=\"http://www.w3.org/2000/svg\" height=\"24px\"viewBox=\"0 0 24 24\"\n",
              "       width=\"24px\">\n",
              "    <path d=\"M0 0h24v24H0V0z\" fill=\"none\"/>\n",
              "    <path d=\"M18.56 5.44l.94 2.06.94-2.06 2.06-.94-2.06-.94-.94-2.06-.94 2.06-2.06.94zm-11 1L8.5 8.5l.94-2.06 2.06-.94-2.06-.94L8.5 2.5l-.94 2.06-2.06.94zm10 10l.94 2.06.94-2.06 2.06-.94-2.06-.94-.94-2.06-.94 2.06-2.06.94z\"/><path d=\"M17.41 7.96l-1.37-1.37c-.4-.4-.92-.59-1.43-.59-.52 0-1.04.2-1.43.59L10.3 9.45l-7.72 7.72c-.78.78-.78 2.05 0 2.83L4 21.41c.39.39.9.59 1.41.59.51 0 1.02-.2 1.41-.59l7.78-7.78 2.81-2.81c.8-.78.8-2.07 0-2.86zM5.41 20L4 18.59l7.72-7.72 1.47 1.35L5.41 20z\"/>\n",
              "  </svg>\n",
              "      </button>\n",
              "      \n",
              "  <style>\n",
              "    .colab-df-container {\n",
              "      display:flex;\n",
              "      flex-wrap:wrap;\n",
              "      gap: 12px;\n",
              "    }\n",
              "\n",
              "    .colab-df-convert {\n",
              "      background-color: #E8F0FE;\n",
              "      border: none;\n",
              "      border-radius: 50%;\n",
              "      cursor: pointer;\n",
              "      display: none;\n",
              "      fill: #1967D2;\n",
              "      height: 32px;\n",
              "      padding: 0 0 0 0;\n",
              "      width: 32px;\n",
              "    }\n",
              "\n",
              "    .colab-df-convert:hover {\n",
              "      background-color: #E2EBFA;\n",
              "      box-shadow: 0px 1px 2px rgba(60, 64, 67, 0.3), 0px 1px 3px 1px rgba(60, 64, 67, 0.15);\n",
              "      fill: #174EA6;\n",
              "    }\n",
              "\n",
              "    [theme=dark] .colab-df-convert {\n",
              "      background-color: #3B4455;\n",
              "      fill: #D2E3FC;\n",
              "    }\n",
              "\n",
              "    [theme=dark] .colab-df-convert:hover {\n",
              "      background-color: #434B5C;\n",
              "      box-shadow: 0px 1px 3px 1px rgba(0, 0, 0, 0.15);\n",
              "      filter: drop-shadow(0px 1px 2px rgba(0, 0, 0, 0.3));\n",
              "      fill: #FFFFFF;\n",
              "    }\n",
              "  </style>\n",
              "\n",
              "      <script>\n",
              "        const buttonEl =\n",
              "          document.querySelector('#df-20e9e8e0-37d0-4001-b9eb-a0314f98a850 button.colab-df-convert');\n",
              "        buttonEl.style.display =\n",
              "          google.colab.kernel.accessAllowed ? 'block' : 'none';\n",
              "\n",
              "        async function convertToInteractive(key) {\n",
              "          const element = document.querySelector('#df-20e9e8e0-37d0-4001-b9eb-a0314f98a850');\n",
              "          const dataTable =\n",
              "            await google.colab.kernel.invokeFunction('convertToInteractive',\n",
              "                                                     [key], {});\n",
              "          if (!dataTable) return;\n",
              "\n",
              "          const docLinkHtml = 'Like what you see? Visit the ' +\n",
              "            '<a target=\"_blank\" href=https://colab.research.google.com/notebooks/data_table.ipynb>data table notebook</a>'\n",
              "            + ' to learn more about interactive tables.';\n",
              "          element.innerHTML = '';\n",
              "          dataTable['output_type'] = 'display_data';\n",
              "          await google.colab.output.renderOutput(dataTable, element);\n",
              "          const docLink = document.createElement('div');\n",
              "          docLink.innerHTML = docLinkHtml;\n",
              "          element.appendChild(docLink);\n",
              "        }\n",
              "      </script>\n",
              "    </div>\n",
              "  </div>\n",
              "  "
            ]
          },
          "metadata": {},
          "execution_count": 21
        }
      ],
      "source": [
        "df_tweets_clean.head()"
      ]
    },
    {
      "cell_type": "code",
      "execution_count": 22,
      "metadata": {
        "colab": {
          "base_uri": "https://localhost:8080/",
          "height": 300
        },
        "id": "u82HNSSTrIUm",
        "outputId": "85a68bbe-7f91-4ff6-b9f5-dbe857483231"
      },
      "outputs": [
        {
          "output_type": "stream",
          "name": "stdout",
          "text": [
            "Mean word nb :  23.5240248728095\n"
          ]
        },
        {
          "output_type": "execute_result",
          "data": {
            "text/plain": [
              "<matplotlib.axes._subplots.AxesSubplot at 0x7fc2dddd6510>"
            ]
          },
          "metadata": {},
          "execution_count": 22
        },
        {
          "output_type": "display_data",
          "data": {
            "text/plain": [
              "<Figure size 432x288 with 1 Axes>"
            ],
            "image/png": "[encoded data removed]"
          },
          "metadata": {
            "needs_background": "light"
          }
        }
      ],
      "source": [
        "print(\"Mean word nb : \", df_tweets_clean['text_len'].mean())\n",
        "df_tweets_clean[\"text_len\"].hist(bins = 50)"
      ]
    },
    {
      "cell_type": "code",
      "execution_count": 23,
      "metadata": {
        "colab": {
          "base_uri": "https://localhost:8080/"
        },
        "id": "MCEvQr1tmsny",
        "outputId": "139c2c14-2d1c-4e04-fc33-5208c54b696c"
      },
      "outputs": [
        {
          "output_type": "execute_result",
          "data": {
            "text/plain": [
              "charac_nb    73.744329\n",
              "text_len     12.274562\n",
              "dtype: float64"
            ]
          },
          "metadata": {},
          "execution_count": 23
        }
      ],
      "source": [
        "# Standard deviation of nb of characters and words per tweet\n",
        "\n",
        "df_tweets_clean[['charac_nb','text_len']].std()"
      ]
    },
    {
      "cell_type": "code",
      "execution_count": 24,
      "metadata": {
        "colab": {
          "base_uri": "https://localhost:8080/"
        },
        "id": "qg5Les7ltLuB",
        "outputId": "2f84be17-01b0-4a45-a632-d2533c0c3d15"
      },
      "outputs": [
        {
          "output_type": "stream",
          "name": "stdout",
          "text": [
            "110823 \"words\" in the tweets\n"
          ]
        }
      ],
      "source": [
        "# Counting the number of distinct words (vocabulary) in our entire dataset\n",
        "\n",
        "arr = df_tweets_clean.text.drop_duplicates().apply(lambda x: x.split(' ')).array\n",
        "\n",
        "arr = [ x for X in arr for x in X]\n",
        "\n",
        "print('%s \"words\" in the tweets' % (len(set(arr)) ) )\n"
      ]
    },
    {
      "cell_type": "markdown",
      "metadata": {
        "id": "yPRcE00ReNnw"
      },
      "source": [
        "### b. Zipf's law"
      ]
    },
    {
      "cell_type": "code",
      "execution_count": 25,
      "metadata": {
        "colab": {
          "base_uri": "https://localhost:8080/",
          "height": 444
        },
        "id": "-tnVpoBGuITa",
        "outputId": "f0ad2866-48f3-4db6-d98d-005546fbc104"
      },
      "outputs": [
        {
          "output_type": "display_data",
          "data": {
            "text/plain": [
              "<Figure size 720x480 with 1 Axes>"
            ],
            "image/png": "[encoded data removed]"
          },
          "metadata": {
            "needs_background": "light"
          }
        }
      ],
      "source": [
        "from collections import Counter\n",
        "import matplotlib.pyplot as plt\n",
        "\n",
        "tk = TweetTokenizer()\n",
        "\n",
        "arr = df_tweets_clean.text.drop_duplicates().apply(lambda x: tk.tokenize(x)).array\n",
        "# We flatten the list. We could use this : arr = reduce(add, arr)   but it would take too much time.\n",
        "arr = [ x for X in arr for x in X]\n",
        "# We use reduce to concatenate all the lists in arr, but we don't use \"set\" \n",
        "# so that we can count occurencies with a Counter object \n",
        "c = Counter(arr)\n",
        "# Formating the counter object to a proper dataset\n",
        "d = pd.DataFrame(c, index=['occurrences']).transpose().reset_index()\n",
        "d.columns=['word', 'occurences']\n",
        "# Computing frequencies instead of occurences\n",
        "nb_total = d.occurences.sum()\n",
        "d['freq'] = d.occurences.apply(lambda x: x/nb_total)\n",
        "# Sorting by frequency, most frequent word at the top of the df\n",
        "d = d.sort_values('freq', ascending=False)\n",
        "plt.figure(figsize=(10,2/3*10))\n",
        "plt.grid()\n",
        "plt.xscale('log')  # Using log scale\n",
        "plt.yscale('log')  # Using log scale\n",
        "plt.xlabel('log(rank)')\n",
        "plt.ylabel('log(frequency)')\n",
        "plt.title(\"Zipf's Law for Tweet Tokenizer\")\n",
        "x = list(range(d.shape[0]))\n",
        "plt.plot(x, d.freq)\n",
        "plt.show()"
      ]
    },
    {
      "cell_type": "markdown",
      "source": [
        "The Zipf's Law seems to be verified."
      ],
      "metadata": {
        "id": "YtR2Z81xgp0E"
      }
    },
    {
      "cell_type": "markdown",
      "metadata": {
        "id": "ujfRVuPheNnw"
      },
      "source": [
        "### c. Numbers in tweets"
      ]
    },
    {
      "cell_type": "code",
      "execution_count": 26,
      "metadata": {
        "colab": {
          "base_uri": "https://localhost:8080/",
          "height": 313
        },
        "id": "mjyVFR-kulLv",
        "outputId": "2ee10bb3-1a24-487f-9f5b-52ae7af4d3ab"
      },
      "outputs": [
        {
          "output_type": "stream",
          "name": "stderr",
          "text": [
            "/usr/local/lib/python3.7/dist-packages/ipykernel_launcher.py:11: SettingWithCopyWarning: \n",
            "A value is trying to be set on a copy of a slice from a DataFrame.\n",
            "Try using .loc[row_indexer,col_indexer] = value instead\n",
            "\n",
            "See the caveats in the documentation: https://pandas.pydata.org/pandas-docs/stable/user_guide/indexing.html#returning-a-view-versus-a-copy\n",
            "  # This is added back by InteractiveShellApp.init_path()\n"
          ]
        },
        {
          "output_type": "execute_result",
          "data": {
            "text/plain": [
              "   ints  floats  percents  years\n",
              "0     3       3         0      0\n",
              "1     0       0         0      0\n",
              "2    12      12         0      0\n",
              "3     2       2         0      0\n",
              "4     2       2         0      0"
            ],
            "text/html": [
              "\n",
              "  <div id=\"df-c6e1fdd4-a3c7-4b92-aeed-910d9b1e135f\">\n",
              "    <div class=\"colab-df-container\">\n",
              "      <div>\n",
              "<style scoped>\n",
              "    .dataframe tbody tr th:only-of-type {\n",
              "        vertical-align: middle;\n",
              "    }\n",
              "\n",
              "    .dataframe tbody tr th {\n",
              "        vertical-align: top;\n",
              "    }\n",
              "\n",
              "    .dataframe thead th {\n",
              "        text-align: right;\n",
              "    }\n",
              "</style>\n",
              "<table border=\"1\" class=\"dataframe\">\n",
              "  <thead>\n",
              "    <tr style=\"text-align: right;\">\n",
              "      <th></th>\n",
              "      <th>ints</th>\n",
              "      <th>floats</th>\n",
              "      <th>percents</th>\n",
              "      <th>years</th>\n",
              "    </tr>\n",
              "  </thead>\n",
              "  <tbody>\n",
              "    <tr>\n",
              "      <th>0</th>\n",
              "      <td>3</td>\n",
              "      <td>3</td>\n",
              "      <td>0</td>\n",
              "      <td>0</td>\n",
              "    </tr>\n",
              "    <tr>\n",
              "      <th>1</th>\n",
              "      <td>0</td>\n",
              "      <td>0</td>\n",
              "      <td>0</td>\n",
              "      <td>0</td>\n",
              "    </tr>\n",
              "    <tr>\n",
              "      <th>2</th>\n",
              "      <td>12</td>\n",
              "      <td>12</td>\n",
              "      <td>0</td>\n",
              "      <td>0</td>\n",
              "    </tr>\n",
              "    <tr>\n",
              "      <th>3</th>\n",
              "      <td>2</td>\n",
              "      <td>2</td>\n",
              "      <td>0</td>\n",
              "      <td>0</td>\n",
              "    </tr>\n",
              "    <tr>\n",
              "      <th>4</th>\n",
              "      <td>2</td>\n",
              "      <td>2</td>\n",
              "      <td>0</td>\n",
              "      <td>0</td>\n",
              "    </tr>\n",
              "  </tbody>\n",
              "</table>\n",
              "</div>\n",
              "      <button class=\"colab-df-convert\" onclick=\"convertToInteractive('df-c6e1fdd4-a3c7-4b92-aeed-910d9b1e135f')\"\n",
              "              title=\"Convert this dataframe to an interactive table.\"\n",
              "              style=\"display:none;\">\n",
              "        \n",
              "  <svg xmlns=\"http://www.w3.org/2000/svg\" height=\"24px\"viewBox=\"0 0 24 24\"\n",
              "       width=\"24px\">\n",
              "    <path d=\"M0 0h24v24H0V0z\" fill=\"none\"/>\n",
              "    <path d=\"M18.56 5.44l.94 2.06.94-2.06 2.06-.94-2.06-.94-.94-2.06-.94 2.06-2.06.94zm-11 1L8.5 8.5l.94-2.06 2.06-.94-2.06-.94L8.5 2.5l-.94 2.06-2.06.94zm10 10l.94 2.06.94-2.06 2.06-.94-2.06-.94-.94-2.06-.94 2.06-2.06.94z\"/><path d=\"M17.41 7.96l-1.37-1.37c-.4-.4-.92-.59-1.43-.59-.52 0-1.04.2-1.43.59L10.3 9.45l-7.72 7.72c-.78.78-.78 2.05 0 2.83L4 21.41c.39.39.9.59 1.41.59.51 0 1.02-.2 1.41-.59l7.78-7.78 2.81-2.81c.8-.78.8-2.07 0-2.86zM5.41 20L4 18.59l7.72-7.72 1.47 1.35L5.41 20z\"/>\n",
              "  </svg>\n",
              "      </button>\n",
              "      \n",
              "  <style>\n",
              "    .colab-df-container {\n",
              "      display:flex;\n",
              "      flex-wrap:wrap;\n",
              "      gap: 12px;\n",
              "    }\n",
              "\n",
              "    .colab-df-convert {\n",
              "      background-color: #E8F0FE;\n",
              "      border: none;\n",
              "      border-radius: 50%;\n",
              "      cursor: pointer;\n",
              "      display: none;\n",
              "      fill: #1967D2;\n",
              "      height: 32px;\n",
              "      padding: 0 0 0 0;\n",
              "      width: 32px;\n",
              "    }\n",
              "\n",
              "    .colab-df-convert:hover {\n",
              "      background-color: #E2EBFA;\n",
              "      box-shadow: 0px 1px 2px rgba(60, 64, 67, 0.3), 0px 1px 3px 1px rgba(60, 64, 67, 0.15);\n",
              "      fill: #174EA6;\n",
              "    }\n",
              "\n",
              "    [theme=dark] .colab-df-convert {\n",
              "      background-color: #3B4455;\n",
              "      fill: #D2E3FC;\n",
              "    }\n",
              "\n",
              "    [theme=dark] .colab-df-convert:hover {\n",
              "      background-color: #434B5C;\n",
              "      box-shadow: 0px 1px 3px 1px rgba(0, 0, 0, 0.15);\n",
              "      filter: drop-shadow(0px 1px 2px rgba(0, 0, 0, 0.3));\n",
              "      fill: #FFFFFF;\n",
              "    }\n",
              "  </style>\n",
              "\n",
              "      <script>\n",
              "        const buttonEl =\n",
              "          document.querySelector('#df-c6e1fdd4-a3c7-4b92-aeed-910d9b1e135f button.colab-df-convert');\n",
              "        buttonEl.style.display =\n",
              "          google.colab.kernel.accessAllowed ? 'block' : 'none';\n",
              "\n",
              "        async function convertToInteractive(key) {\n",
              "          const element = document.querySelector('#df-c6e1fdd4-a3c7-4b92-aeed-910d9b1e135f');\n",
              "          const dataTable =\n",
              "            await google.colab.kernel.invokeFunction('convertToInteractive',\n",
              "                                                     [key], {});\n",
              "          if (!dataTable) return;\n",
              "\n",
              "          const docLinkHtml = 'Like what you see? Visit the ' +\n",
              "            '<a target=\"_blank\" href=https://colab.research.google.com/notebooks/data_table.ipynb>data table notebook</a>'\n",
              "            + ' to learn more about interactive tables.';\n",
              "          element.innerHTML = '';\n",
              "          dataTable['output_type'] = 'display_data';\n",
              "          await google.colab.output.renderOutput(dataTable, element);\n",
              "          const docLink = document.createElement('div');\n",
              "          docLink.innerHTML = docLinkHtml;\n",
              "          element.appendChild(docLink);\n",
              "        }\n",
              "      </script>\n",
              "    </div>\n",
              "  </div>\n",
              "  "
            ]
          },
          "metadata": {},
          "execution_count": 26
        }
      ],
      "source": [
        "# Regular expression that matches any sequence of numbers:\n",
        "int_prog = re.compile('[0-9]+')\n",
        "float_prog = re.compile('[0-9]+\\.?[0-9]*')\n",
        "percent_prog = re.compile('[0-9]+\\.?[0-9]*%')\n",
        "year_prog = re.compile('[12][089][0-9][0-9]') # a year between 1800 and 2099. # 1[89][0-9][0-9]|20[0-9][0-9]\n",
        "df1 = df_tweets_clean.drop_duplicates('text')  # Don't forget to compute over unique elements if it applies\n",
        "# Calculating number of matches for every abstract\n",
        "progs = [int_prog, float_prog, percent_prog, year_prog]\n",
        "nb_types = ['ints', 'floats', 'percents', 'years']\n",
        "for prog, nb_type in zip(progs, nb_types):\n",
        "  df1[nb_type] = df1['text'].apply(lambda x: len(prog.split(x))-1).array\n",
        "df1[nb_types].head()"
      ]
    },
    {
      "cell_type": "code",
      "execution_count": 27,
      "metadata": {
        "colab": {
          "base_uri": "https://localhost:8080/",
          "height": 313
        },
        "id": "_M-q863xu3AE",
        "outputId": "06ffecbe-662d-431b-cb5b-c404609fea78"
      },
      "outputs": [
        {
          "output_type": "stream",
          "name": "stderr",
          "text": [
            "/usr/local/lib/python3.7/dist-packages/ipykernel_launcher.py:6: SettingWithCopyWarning: \n",
            "A value is trying to be set on a copy of a slice from a DataFrame.\n",
            "Try using .loc[row_indexer,col_indexer] = value instead\n",
            "\n",
            "See the caveats in the documentation: https://pandas.pydata.org/pandas-docs/stable/user_guide/indexing.html#returning-a-view-versus-a-copy\n",
            "  \n"
          ]
        },
        {
          "output_type": "execute_result",
          "data": {
            "text/plain": [
              "       ints%    floats%  percents%  years%  \\\n",
              "0   2.608696   2.608696        0.0     0.0   \n",
              "1   0.000000   0.000000        0.0     0.0   \n",
              "2  16.766467  16.766467        0.0     0.0   \n",
              "3   1.818182   1.818182        0.0     0.0   \n",
              "4   0.754717   0.754717        0.0     0.0   \n",
              "\n",
              "                                                text  \n",
              "0  My favorite project is DogeCola, they will soo...  \n",
              "1                 Best time to buy bitcoin right now  \n",
              "2  Pi Network is booming platform, Always with my...  \n",
              "3  It takes time to start trusting a human being....  \n",
              "4  4/ $KAR | What I'm mostly interested in is the...  "
            ],
            "text/html": [
              "\n",
              "  <div id=\"df-e4fc0edf-d812-4d65-b2d2-13afc8840e30\">\n",
              "    <div class=\"colab-df-container\">\n",
              "      <div>\n",
              "<style scoped>\n",
              "    .dataframe tbody tr th:only-of-type {\n",
              "        vertical-align: middle;\n",
              "    }\n",
              "\n",
              "    .dataframe tbody tr th {\n",
              "        vertical-align: top;\n",
              "    }\n",
              "\n",
              "    .dataframe thead th {\n",
              "        text-align: right;\n",
              "    }\n",
              "</style>\n",
              "<table border=\"1\" class=\"dataframe\">\n",
              "  <thead>\n",
              "    <tr style=\"text-align: right;\">\n",
              "      <th></th>\n",
              "      <th>ints%</th>\n",
              "      <th>floats%</th>\n",
              "      <th>percents%</th>\n",
              "      <th>years%</th>\n",
              "      <th>text</th>\n",
              "    </tr>\n",
              "  </thead>\n",
              "  <tbody>\n",
              "    <tr>\n",
              "      <th>0</th>\n",
              "      <td>2.608696</td>\n",
              "      <td>2.608696</td>\n",
              "      <td>0.0</td>\n",
              "      <td>0.0</td>\n",
              "      <td>My favorite project is DogeCola, they will soo...</td>\n",
              "    </tr>\n",
              "    <tr>\n",
              "      <th>1</th>\n",
              "      <td>0.000000</td>\n",
              "      <td>0.000000</td>\n",
              "      <td>0.0</td>\n",
              "      <td>0.0</td>\n",
              "      <td>Best time to buy bitcoin right now</td>\n",
              "    </tr>\n",
              "    <tr>\n",
              "      <th>2</th>\n",
              "      <td>16.766467</td>\n",
              "      <td>16.766467</td>\n",
              "      <td>0.0</td>\n",
              "      <td>0.0</td>\n",
              "      <td>Pi Network is booming platform, Always with my...</td>\n",
              "    </tr>\n",
              "    <tr>\n",
              "      <th>3</th>\n",
              "      <td>1.818182</td>\n",
              "      <td>1.818182</td>\n",
              "      <td>0.0</td>\n",
              "      <td>0.0</td>\n",
              "      <td>It takes time to start trusting a human being....</td>\n",
              "    </tr>\n",
              "    <tr>\n",
              "      <th>4</th>\n",
              "      <td>0.754717</td>\n",
              "      <td>0.754717</td>\n",
              "      <td>0.0</td>\n",
              "      <td>0.0</td>\n",
              "      <td>4/ $KAR | What I'm mostly interested in is the...</td>\n",
              "    </tr>\n",
              "  </tbody>\n",
              "</table>\n",
              "</div>\n",
              "      <button class=\"colab-df-convert\" onclick=\"convertToInteractive('df-e4fc0edf-d812-4d65-b2d2-13afc8840e30')\"\n",
              "              title=\"Convert this dataframe to an interactive table.\"\n",
              "              style=\"display:none;\">\n",
              "        \n",
              "  <svg xmlns=\"http://www.w3.org/2000/svg\" height=\"24px\"viewBox=\"0 0 24 24\"\n",
              "       width=\"24px\">\n",
              "    <path d=\"M0 0h24v24H0V0z\" fill=\"none\"/>\n",
              "    <path d=\"M18.56 5.44l.94 2.06.94-2.06 2.06-.94-2.06-.94-.94-2.06-.94 2.06-2.06.94zm-11 1L8.5 8.5l.94-2.06 2.06-.94-2.06-.94L8.5 2.5l-.94 2.06-2.06.94zm10 10l.94 2.06.94-2.06 2.06-.94-2.06-.94-.94-2.06-.94 2.06-2.06.94z\"/><path d=\"M17.41 7.96l-1.37-1.37c-.4-.4-.92-.59-1.43-.59-.52 0-1.04.2-1.43.59L10.3 9.45l-7.72 7.72c-.78.78-.78 2.05 0 2.83L4 21.41c.39.39.9.59 1.41.59.51 0 1.02-.2 1.41-.59l7.78-7.78 2.81-2.81c.8-.78.8-2.07 0-2.86zM5.41 20L4 18.59l7.72-7.72 1.47 1.35L5.41 20z\"/>\n",
              "  </svg>\n",
              "      </button>\n",
              "      \n",
              "  <style>\n",
              "    .colab-df-container {\n",
              "      display:flex;\n",
              "      flex-wrap:wrap;\n",
              "      gap: 12px;\n",
              "    }\n",
              "\n",
              "    .colab-df-convert {\n",
              "      background-color: #E8F0FE;\n",
              "      border: none;\n",
              "      border-radius: 50%;\n",
              "      cursor: pointer;\n",
              "      display: none;\n",
              "      fill: #1967D2;\n",
              "      height: 32px;\n",
              "      padding: 0 0 0 0;\n",
              "      width: 32px;\n",
              "    }\n",
              "\n",
              "    .colab-df-convert:hover {\n",
              "      background-color: #E2EBFA;\n",
              "      box-shadow: 0px 1px 2px rgba(60, 64, 67, 0.3), 0px 1px 3px 1px rgba(60, 64, 67, 0.15);\n",
              "      fill: #174EA6;\n",
              "    }\n",
              "\n",
              "    [theme=dark] .colab-df-convert {\n",
              "      background-color: #3B4455;\n",
              "      fill: #D2E3FC;\n",
              "    }\n",
              "\n",
              "    [theme=dark] .colab-df-convert:hover {\n",
              "      background-color: #434B5C;\n",
              "      box-shadow: 0px 1px 3px 1px rgba(0, 0, 0, 0.15);\n",
              "      filter: drop-shadow(0px 1px 2px rgba(0, 0, 0, 0.3));\n",
              "      fill: #FFFFFF;\n",
              "    }\n",
              "  </style>\n",
              "\n",
              "      <script>\n",
              "        const buttonEl =\n",
              "          document.querySelector('#df-e4fc0edf-d812-4d65-b2d2-13afc8840e30 button.colab-df-convert');\n",
              "        buttonEl.style.display =\n",
              "          google.colab.kernel.accessAllowed ? 'block' : 'none';\n",
              "\n",
              "        async function convertToInteractive(key) {\n",
              "          const element = document.querySelector('#df-e4fc0edf-d812-4d65-b2d2-13afc8840e30');\n",
              "          const dataTable =\n",
              "            await google.colab.kernel.invokeFunction('convertToInteractive',\n",
              "                                                     [key], {});\n",
              "          if (!dataTable) return;\n",
              "\n",
              "          const docLinkHtml = 'Like what you see? Visit the ' +\n",
              "            '<a target=\"_blank\" href=https://colab.research.google.com/notebooks/data_table.ipynb>data table notebook</a>'\n",
              "            + ' to learn more about interactive tables.';\n",
              "          element.innerHTML = '';\n",
              "          dataTable['output_type'] = 'display_data';\n",
              "          await google.colab.output.renderOutput(dataTable, element);\n",
              "          const docLink = document.createElement('div');\n",
              "          docLink.innerHTML = docLinkHtml;\n",
              "          element.appendChild(docLink);\n",
              "        }\n",
              "      </script>\n",
              "    </div>\n",
              "  </div>\n",
              "  "
            ]
          },
          "metadata": {},
          "execution_count": 27
        }
      ],
      "source": [
        "nb_percent_types = [''.join([t, '%']) for t in nb_types]\n",
        "# Don't forget to compute over unique abstracts\n",
        "df1 = df_tweets_clean.drop_duplicates('text')\n",
        "\n",
        "for prog, nb_type in zip(progs, nb_percent_types):\n",
        "  df1[nb_type] = df1['text'].apply(lambda x: 100 *(1 - len(''.join(prog.split(x)))/len(x))).array\n",
        "df1[nb_percent_types+['text']].head()"
      ]
    },
    {
      "cell_type": "code",
      "execution_count": 28,
      "metadata": {
        "colab": {
          "base_uri": "https://localhost:8080/",
          "height": 697
        },
        "id": "k0j1GYe2vGHT",
        "outputId": "a507c41a-998c-4f80-98f5-04d672a67fb4"
      },
      "outputs": [
        {
          "output_type": "execute_result",
          "data": {
            "text/plain": [
              "array([[<matplotlib.axes._subplots.AxesSubplot object at 0x7fc2da6e9090>,\n",
              "        <matplotlib.axes._subplots.AxesSubplot object at 0x7fc2da310950>],\n",
              "       [<matplotlib.axes._subplots.AxesSubplot object at 0x7fc2da33ff50>,\n",
              "        <matplotlib.axes._subplots.AxesSubplot object at 0x7fc2dab1a590>]],\n",
              "      dtype=object)"
            ]
          },
          "metadata": {},
          "execution_count": 28
        },
        {
          "output_type": "display_data",
          "data": {
            "text/plain": [
              "<Figure size 1080x720 with 4 Axes>"
            ],
            "image/png": "[encoded data removed]"
          },
          "metadata": {
            "needs_background": "light"
          }
        }
      ],
      "source": [
        "df1[nb_percent_types].hist(figsize=(15,10))"
      ]
    },
    {
      "cell_type": "code",
      "execution_count": 29,
      "metadata": {
        "colab": {
          "base_uri": "https://localhost:8080/",
          "height": 699
        },
        "id": "L5cYstDnsMyk",
        "outputId": "6bfa3dd3-51ad-448a-c15a-325dad1570ad"
      },
      "outputs": [
        {
          "output_type": "stream",
          "name": "stderr",
          "text": [
            "/usr/local/lib/python3.7/dist-packages/ipykernel_launcher.py:2: SettingWithCopyWarning: \n",
            "A value is trying to be set on a copy of a slice from a DataFrame.\n",
            "Try using .loc[row_indexer,col_indexer] = value instead\n",
            "\n",
            "See the caveats in the documentation: https://pandas.pydata.org/pandas-docs/stable/user_guide/indexing.html#returning-a-view-versus-a-copy\n",
            "  \n"
          ]
        },
        {
          "output_type": "display_data",
          "data": {
            "text/plain": [
              "<Figure size 1080x720 with 1 Axes>"
            ],
            "image/png": "[encoded data removed]"
          },
          "metadata": {
            "needs_background": "light"
          }
        }
      ],
      "source": [
        "for prog, nb_type in zip(progs, nb_percent_types):\n",
        "    df1[nb_type] = df1['text'].apply(lambda x: 100 *(1 - len(''.join(prog.split(x)))/len(x))).array\n",
        "ax = df1[nb_percent_types].plot(figsize=(15,10), kind='hist',subplots=False,sharex=True,sharey=True)"
      ]
    },
    {
      "cell_type": "markdown",
      "metadata": {
        "id": "93eRB5L5eNnx"
      },
      "source": [
        "Checking if there is or not a relationship between the percentage of numbers in a tweet and his length."
      ]
    },
    {
      "cell_type": "code",
      "execution_count": 30,
      "metadata": {
        "colab": {
          "base_uri": "https://localhost:8080/",
          "height": 1000
        },
        "id": "RNz5By8VxTRL",
        "outputId": "4f2862c3-744f-434f-c612-18de8f138321"
      },
      "outputs": [
        {
          "output_type": "display_data",
          "data": {
            "text/plain": [
              "<Figure size 432x432 with 3 Axes>"
            ],
            "image/png": "[encoded data removed]"
          },
          "metadata": {
            "needs_background": "light"
          }
        },
        {
          "output_type": "display_data",
          "data": {
            "text/plain": [
              "<Figure size 432x432 with 3 Axes>"
            ],
            "image/png": "[encoded data removed]"
          },
          "metadata": {
            "needs_background": "light"
          }
        },
        {
          "output_type": "display_data",
          "data": {
            "text/plain": [
              "<Figure size 432x432 with 3 Axes>"
            ],
            "image/png": "[encoded data removed]"
          },
          "metadata": {
            "needs_background": "light"
          }
        },
        {
          "output_type": "display_data",
          "data": {
            "text/plain": [
              "<Figure size 432x432 with 3 Axes>"
            ],
            "image/png": "[encoded data removed]"
          },
          "metadata": {
            "needs_background": "light"
          }
        }
      ],
      "source": [
        "import seaborn as sns\n",
        "import numpy as np\n",
        "from scipy.stats import pearsonr, spearmanr\n",
        "from warnings import filterwarnings\n",
        "filterwarnings('ignore')\n",
        "\n",
        "# Plotting the percentages against the corresponding log(citations)\n",
        "df1['log_text_len'] = np.log(df1['text_len'].array)\n",
        "for nb_type in nb_percent_types:\n",
        "  # We will plot percents and years differently, as their scarcity creates a\n",
        "  # matplotlib overflow when plotting a kde plot\n",
        "  if nb_type in ['percents%', 'years%']:\n",
        "    sns.jointplot(data=df1, x='log_text_len', y=nb_type)\n",
        "    #pass\n",
        "  else:\n",
        "    sns.jointplot(data=df1, kind='kde', x='log_text_len', y=nb_type)#annotate(pearsonr)#\n",
        "    plt.show()"
      ]
    },
    {
      "cell_type": "markdown",
      "metadata": {
        "id": "Op0sH8iIbEJM"
      },
      "source": [
        "## **4. Sentiment analysis**"
      ]
    },
    {
      "cell_type": "markdown",
      "metadata": {
        "id": "M9DOaqvWeNnx"
      },
      "source": [
        "### a. Checking if there is or not a relationship between Bitcoin's tweets and his price"
      ]
    },
    {
      "cell_type": "code",
      "execution_count": 31,
      "metadata": {
        "colab": {
          "base_uri": "https://localhost:8080/"
        },
        "id": "eOFoec7psFrT",
        "outputId": "f97e01a6-f198-40e2-c8f8-ea7f95cc53ad"
      },
      "outputs": [
        {
          "output_type": "stream",
          "name": "stdout",
          "text": [
            "[nltk_data] Downloading package vader_lexicon to /root/nltk_data...\n"
          ]
        },
        {
          "output_type": "execute_result",
          "data": {
            "text/plain": [
              "True"
            ]
          },
          "metadata": {},
          "execution_count": 31
        }
      ],
      "source": [
        "nltk.download('vader_lexicon')"
      ]
    },
    {
      "cell_type": "code",
      "execution_count": 32,
      "metadata": {
        "id": "S4W2d4MhsKpS"
      },
      "outputs": [],
      "source": [
        "from nltk.sentiment.vader import SentimentIntensityAnalyzer"
      ]
    },
    {
      "cell_type": "code",
      "execution_count": 33,
      "metadata": {
        "id": "4ZVIvFRiyiuQ"
      },
      "outputs": [],
      "source": [
        "df_tweets_clean = pd.read_csv(tweets_clean_file)"
      ]
    },
    {
      "cell_type": "markdown",
      "metadata": {
        "id": "7W8AD2_leNny"
      },
      "source": [
        "**Sentiment analysis using VADER**"
      ]
    },
    {
      "cell_type": "markdown",
      "metadata": {
        "id": "e4WLwoTzeNny"
      },
      "source": [
        "***VADER***\n",
        "\n",
        "VADER ( Valence Aware Dictionary for Sentiment Reasoning) is a model used for text sentiment analysis that is sensitive to both polarity (positive/negative) and intensity (strength) of emotion. It is available in the NLTK package and can be applied directly to unlabeled text data.\n",
        "\n",
        "VADER sentimental analysis relies on a dictionary that maps lexical features to emotion intensities known as sentiment scores. The sentiment score of a text can be obtained by summing up the intensity of each word in the text.\n",
        "\n",
        "For example- Words like ‘love’, ‘enjoy’, ‘happy’, ‘like’ all convey a positive sentiment. Also VADER is intelligent enough to understand the basic context of these words, such as “did not love” as a negative statement. It also understands the emphasis of capitalization and punctuation, such as “ENJOY”\n",
        "\n",
        "***Polarity classification***\n",
        "\n",
        "We will also try to determine if a sentence is objective or subjective."
      ]
    },
    {
      "cell_type": "code",
      "execution_count": 34,
      "metadata": {
        "colab": {
          "base_uri": "https://localhost:8080/",
          "height": 670
        },
        "id": "mTZXvAMOroNJ",
        "outputId": "ecb6e111-f981-4d1d-bb13-9473991ddd3f"
      },
      "outputs": [
        {
          "output_type": "stream",
          "name": "stderr",
          "text": [
            "100%|██████████| 28305/28305 [00:10<00:00, 2817.60it/s]\n"
          ]
        },
        {
          "output_type": "execute_result",
          "data": {
            "text/plain": [
              "     user_name                   user_location  \\\n",
              "0      Dani VB                             NaN   \n",
              "1  geniusgyani                  Haryana, India   \n",
              "2       Rayhan  1342/15 , Chandpur , Banglades   \n",
              "3          ₿ 🟩                     The Citadel   \n",
              "4     Nagatø 法                          Greece   \n",
              "\n",
              "                                    user_description         user_created  \\\n",
              "0  @Dogecola - #DogeCola - #DogeColaNFT / #BNB / ...  2021-08-21 14:11:22   \n",
              "1                  On a mission of #inspiring people  2020-05-15 23:12:18   \n",
              "2                           Got a worst mind just...  2015-07-19 06:11:48   \n",
              "3  Founder of @shoesinbitcoin & Marketing @btcres...  2018-08-09 19:52:57   \n",
              "4  #Bitcoin | Writing articles & FA ✍️ | Digging ...  2017-12-04 08:24:56   \n",
              "\n",
              "   user_followers  user_friends  user_favourites user_verified  \\\n",
              "0           380.0        1130.0          27815.0         False   \n",
              "1             8.0         164.0             18.0         False   \n",
              "2            39.0          88.0            196.0         False   \n",
              "3           401.0         970.0           5205.0         False   \n",
              "4         10752.0        2407.0          23707.0         False   \n",
              "\n",
              "                  date                                               text  \\\n",
              "0  2022-03-07 12:48:32  My favorite project is DogeCola, they will soo...   \n",
              "1  2021-07-19 12:41:24                 Best time to buy bitcoin right now   \n",
              "2  2022-04-15 14:55:38  Pi Network is booming platform, Always with my...   \n",
              "3  2021-08-18 11:16:41  It takes time to start trusting a human being....   \n",
              "4  2021-07-29 22:46:22  4/ $KAR | What I'm mostly interested in is the...   \n",
              "\n",
              "                                            hashtags               source  \\\n",
              "0  ['DogeCola', 'DogeColaNFT', 'NFTs', 'NFT', 'NF...      Twitter Web App   \n",
              "1                                        ['bitcoin']   Twitter for iPhone   \n",
              "2                        ['PiNetwork', 'BTC', 'BNB']  Twitter for Android   \n",
              "3                                        ['Bitcoin']      Twitter Web App   \n",
              "4                                            ['BTC']      Twitter Web App   \n",
              "\n",
              "  is_retweet  compound  \n",
              "0      False    0.4588  \n",
              "1      False    0.6369  \n",
              "2      False    0.4019  \n",
              "3      False    0.8024  \n",
              "4      False    0.8591  "
            ],
            "text/html": [
              "\n",
              "  <div id=\"df-7f6d257e-24c8-492b-a891-4b6bfc18cc6c\">\n",
              "    <div class=\"colab-df-container\">\n",
              "      <div>\n",
              "<style scoped>\n",
              "    .dataframe tbody tr th:only-of-type {\n",
              "        vertical-align: middle;\n",
              "    }\n",
              "\n",
              "    .dataframe tbody tr th {\n",
              "        vertical-align: top;\n",
              "    }\n",
              "\n",
              "    .dataframe thead th {\n",
              "        text-align: right;\n",
              "    }\n",
              "</style>\n",
              "<table border=\"1\" class=\"dataframe\">\n",
              "  <thead>\n",
              "    <tr style=\"text-align: right;\">\n",
              "      <th></th>\n",
              "      <th>user_name</th>\n",
              "      <th>user_location</th>\n",
              "      <th>user_description</th>\n",
              "      <th>user_created</th>\n",
              "      <th>user_followers</th>\n",
              "      <th>user_friends</th>\n",
              "      <th>user_favourites</th>\n",
              "      <th>user_verified</th>\n",
              "      <th>date</th>\n",
              "      <th>text</th>\n",
              "      <th>hashtags</th>\n",
              "      <th>source</th>\n",
              "      <th>is_retweet</th>\n",
              "      <th>compound</th>\n",
              "    </tr>\n",
              "  </thead>\n",
              "  <tbody>\n",
              "    <tr>\n",
              "      <th>0</th>\n",
              "      <td>Dani VB</td>\n",
              "      <td>NaN</td>\n",
              "      <td>@Dogecola - #DogeCola - #DogeColaNFT / #BNB / ...</td>\n",
              "      <td>2021-08-21 14:11:22</td>\n",
              "      <td>380.0</td>\n",
              "      <td>1130.0</td>\n",
              "      <td>27815.0</td>\n",
              "      <td>False</td>\n",
              "      <td>2022-03-07 12:48:32</td>\n",
              "      <td>My favorite project is DogeCola, they will soo...</td>\n",
              "      <td>['DogeCola', 'DogeColaNFT', 'NFTs', 'NFT', 'NF...</td>\n",
              "      <td>Twitter Web App</td>\n",
              "      <td>False</td>\n",
              "      <td>0.4588</td>\n",
              "    </tr>\n",
              "    <tr>\n",
              "      <th>1</th>\n",
              "      <td>geniusgyani</td>\n",
              "      <td>Haryana, India</td>\n",
              "      <td>On a mission of #inspiring people</td>\n",
              "      <td>2020-05-15 23:12:18</td>\n",
              "      <td>8.0</td>\n",
              "      <td>164.0</td>\n",
              "      <td>18.0</td>\n",
              "      <td>False</td>\n",
              "      <td>2021-07-19 12:41:24</td>\n",
              "      <td>Best time to buy bitcoin right now</td>\n",
              "      <td>['bitcoin']</td>\n",
              "      <td>Twitter for iPhone</td>\n",
              "      <td>False</td>\n",
              "      <td>0.6369</td>\n",
              "    </tr>\n",
              "    <tr>\n",
              "      <th>2</th>\n",
              "      <td>Rayhan</td>\n",
              "      <td>1342/15 , Chandpur , Banglades</td>\n",
              "      <td>Got a worst mind just...</td>\n",
              "      <td>2015-07-19 06:11:48</td>\n",
              "      <td>39.0</td>\n",
              "      <td>88.0</td>\n",
              "      <td>196.0</td>\n",
              "      <td>False</td>\n",
              "      <td>2022-04-15 14:55:38</td>\n",
              "      <td>Pi Network is booming platform, Always with my...</td>\n",
              "      <td>['PiNetwork', 'BTC', 'BNB']</td>\n",
              "      <td>Twitter for Android</td>\n",
              "      <td>False</td>\n",
              "      <td>0.4019</td>\n",
              "    </tr>\n",
              "    <tr>\n",
              "      <th>3</th>\n",
              "      <td>₿ 🟩</td>\n",
              "      <td>The Citadel</td>\n",
              "      <td>Founder of @shoesinbitcoin &amp; Marketing @btcres...</td>\n",
              "      <td>2018-08-09 19:52:57</td>\n",
              "      <td>401.0</td>\n",
              "      <td>970.0</td>\n",
              "      <td>5205.0</td>\n",
              "      <td>False</td>\n",
              "      <td>2021-08-18 11:16:41</td>\n",
              "      <td>It takes time to start trusting a human being....</td>\n",
              "      <td>['Bitcoin']</td>\n",
              "      <td>Twitter Web App</td>\n",
              "      <td>False</td>\n",
              "      <td>0.8024</td>\n",
              "    </tr>\n",
              "    <tr>\n",
              "      <th>4</th>\n",
              "      <td>Nagatø 法</td>\n",
              "      <td>Greece</td>\n",
              "      <td>#Bitcoin | Writing articles &amp; FA ✍️ | Digging ...</td>\n",
              "      <td>2017-12-04 08:24:56</td>\n",
              "      <td>10752.0</td>\n",
              "      <td>2407.0</td>\n",
              "      <td>23707.0</td>\n",
              "      <td>False</td>\n",
              "      <td>2021-07-29 22:46:22</td>\n",
              "      <td>4/ $KAR | What I'm mostly interested in is the...</td>\n",
              "      <td>['BTC']</td>\n",
              "      <td>Twitter Web App</td>\n",
              "      <td>False</td>\n",
              "      <td>0.8591</td>\n",
              "    </tr>\n",
              "  </tbody>\n",
              "</table>\n",
              "</div>\n",
              "      <button class=\"colab-df-convert\" onclick=\"convertToInteractive('df-7f6d257e-24c8-492b-a891-4b6bfc18cc6c')\"\n",
              "              title=\"Convert this dataframe to an interactive table.\"\n",
              "              style=\"display:none;\">\n",
              "        \n",
              "  <svg xmlns=\"http://www.w3.org/2000/svg\" height=\"24px\"viewBox=\"0 0 24 24\"\n",
              "       width=\"24px\">\n",
              "    <path d=\"M0 0h24v24H0V0z\" fill=\"none\"/>\n",
              "    <path d=\"M18.56 5.44l.94 2.06.94-2.06 2.06-.94-2.06-.94-.94-2.06-.94 2.06-2.06.94zm-11 1L8.5 8.5l.94-2.06 2.06-.94-2.06-.94L8.5 2.5l-.94 2.06-2.06.94zm10 10l.94 2.06.94-2.06 2.06-.94-2.06-.94-.94-2.06-.94 2.06-2.06.94z\"/><path d=\"M17.41 7.96l-1.37-1.37c-.4-.4-.92-.59-1.43-.59-.52 0-1.04.2-1.43.59L10.3 9.45l-7.72 7.72c-.78.78-.78 2.05 0 2.83L4 21.41c.39.39.9.59 1.41.59.51 0 1.02-.2 1.41-.59l7.78-7.78 2.81-2.81c.8-.78.8-2.07 0-2.86zM5.41 20L4 18.59l7.72-7.72 1.47 1.35L5.41 20z\"/>\n",
              "  </svg>\n",
              "      </button>\n",
              "      \n",
              "  <style>\n",
              "    .colab-df-container {\n",
              "      display:flex;\n",
              "      flex-wrap:wrap;\n",
              "      gap: 12px;\n",
              "    }\n",
              "\n",
              "    .colab-df-convert {\n",
              "      background-color: #E8F0FE;\n",
              "      border: none;\n",
              "      border-radius: 50%;\n",
              "      cursor: pointer;\n",
              "      display: none;\n",
              "      fill: #1967D2;\n",
              "      height: 32px;\n",
              "      padding: 0 0 0 0;\n",
              "      width: 32px;\n",
              "    }\n",
              "\n",
              "    .colab-df-convert:hover {\n",
              "      background-color: #E2EBFA;\n",
              "      box-shadow: 0px 1px 2px rgba(60, 64, 67, 0.3), 0px 1px 3px 1px rgba(60, 64, 67, 0.15);\n",
              "      fill: #174EA6;\n",
              "    }\n",
              "\n",
              "    [theme=dark] .colab-df-convert {\n",
              "      background-color: #3B4455;\n",
              "      fill: #D2E3FC;\n",
              "    }\n",
              "\n",
              "    [theme=dark] .colab-df-convert:hover {\n",
              "      background-color: #434B5C;\n",
              "      box-shadow: 0px 1px 3px 1px rgba(0, 0, 0, 0.15);\n",
              "      filter: drop-shadow(0px 1px 2px rgba(0, 0, 0, 0.3));\n",
              "      fill: #FFFFFF;\n",
              "    }\n",
              "  </style>\n",
              "\n",
              "      <script>\n",
              "        const buttonEl =\n",
              "          document.querySelector('#df-7f6d257e-24c8-492b-a891-4b6bfc18cc6c button.colab-df-convert');\n",
              "        buttonEl.style.display =\n",
              "          google.colab.kernel.accessAllowed ? 'block' : 'none';\n",
              "\n",
              "        async function convertToInteractive(key) {\n",
              "          const element = document.querySelector('#df-7f6d257e-24c8-492b-a891-4b6bfc18cc6c');\n",
              "          const dataTable =\n",
              "            await google.colab.kernel.invokeFunction('convertToInteractive',\n",
              "                                                     [key], {});\n",
              "          if (!dataTable) return;\n",
              "\n",
              "          const docLinkHtml = 'Like what you see? Visit the ' +\n",
              "            '<a target=\"_blank\" href=https://colab.research.google.com/notebooks/data_table.ipynb>data table notebook</a>'\n",
              "            + ' to learn more about interactive tables.';\n",
              "          element.innerHTML = '';\n",
              "          dataTable['output_type'] = 'display_data';\n",
              "          await google.colab.output.renderOutput(dataTable, element);\n",
              "          const docLink = document.createElement('div');\n",
              "          docLink.innerHTML = docLinkHtml;\n",
              "          element.appendChild(docLink);\n",
              "        }\n",
              "      </script>\n",
              "    </div>\n",
              "  </div>\n",
              "  "
            ]
          },
          "metadata": {},
          "execution_count": 34
        }
      ],
      "source": [
        "analyzer = SentimentIntensityAnalyzer()\n",
        "compound = []\n",
        "\n",
        "for i,s in enumerate(tqdm(df_tweets_clean['text'],position=0, leave=True)):\n",
        "    vs = analyzer.polarity_scores(str(s))\n",
        "    compound.append(vs[\"compound\"])\n",
        "\n",
        "df_tweets_clean[\"compound\"] = compound\n",
        "df_tweets_clean.head()"
      ]
    },
    {
      "cell_type": "markdown",
      "metadata": {
        "id": "Ox7WO5tHeNnz"
      },
      "source": [
        "**Score determination**\n",
        "\n",
        "We will use this sentiment analysis of the tweets to calculate a score that will represent the importance of each tweet.\n",
        "\n",
        "To calculate the score for each tweet, we use different variables to which we had a weight based on its importance.\n",
        "\n",
        "The compound column represents the sentiment of the tweets and its value is between -1 and 1.\n",
        "\n",
        "We also use the number of retweets, the number of likes, and the number of users that follow the tweet's author.\n",
        "\n",
        "$score = compound \\times N_{followers}\\frac{N_{likes}+1}{\\left(N_{followers}+1\\right)\\left(\\mathbb{1}_{isRT}+1\\right)}$"
      ]
    },
    {
      "cell_type": "code",
      "execution_count": 35,
      "metadata": {
        "colab": {
          "base_uri": "https://localhost:8080/",
          "height": 670
        },
        "id": "9ejbTwtqzMqG",
        "outputId": "412c9fe8-5275-4157-eb84-d71c8b15c341"
      },
      "outputs": [
        {
          "output_type": "stream",
          "name": "stderr",
          "text": [
            "100%|██████████| 28305/28305 [00:02<00:00, 13221.88it/s]\n"
          ]
        },
        {
          "output_type": "execute_result",
          "data": {
            "text/plain": [
              "     user_name                   user_location  \\\n",
              "0      Dani VB                             NaN   \n",
              "1  geniusgyani                  Haryana, India   \n",
              "2       Rayhan  1342/15 , Chandpur , Banglades   \n",
              "3          ₿ 🟩                     The Citadel   \n",
              "4     Nagatø 法                          Greece   \n",
              "\n",
              "                                    user_description         user_created  \\\n",
              "0  @Dogecola - #DogeCola - #DogeColaNFT / #BNB / ...  2021-08-21 14:11:22   \n",
              "1                  On a mission of #inspiring people  2020-05-15 23:12:18   \n",
              "2                           Got a worst mind just...  2015-07-19 06:11:48   \n",
              "3  Founder of @shoesinbitcoin & Marketing @btcres...  2018-08-09 19:52:57   \n",
              "4  #Bitcoin | Writing articles & FA ✍️ | Digging ...  2017-12-04 08:24:56   \n",
              "\n",
              "   user_followers  user_friends  user_favourites user_verified  \\\n",
              "0           380.0        1130.0          27815.0         False   \n",
              "1             8.0         164.0             18.0         False   \n",
              "2            39.0          88.0            196.0         False   \n",
              "3           401.0         970.0           5205.0         False   \n",
              "4         10752.0        2407.0          23707.0         False   \n",
              "\n",
              "                  date                                               text  \\\n",
              "0  2022-03-07 12:48:32  My favorite project is DogeCola, they will soo...   \n",
              "1  2021-07-19 12:41:24                 Best time to buy bitcoin right now   \n",
              "2  2022-04-15 14:55:38  Pi Network is booming platform, Always with my...   \n",
              "3  2021-08-18 11:16:41  It takes time to start trusting a human being....   \n",
              "4  2021-07-29 22:46:22  4/ $KAR | What I'm mostly interested in is the...   \n",
              "\n",
              "                                            hashtags               source  \\\n",
              "0  ['DogeCola', 'DogeColaNFT', 'NFTs', 'NFT', 'NF...      Twitter Web App   \n",
              "1                                        ['bitcoin']   Twitter for iPhone   \n",
              "2                        ['PiNetwork', 'BTC', 'BNB']  Twitter for Android   \n",
              "3                                        ['Bitcoin']      Twitter Web App   \n",
              "4                                            ['BTC']      Twitter Web App   \n",
              "\n",
              "  is_retweet  compound         score  \n",
              "0      False    0.4588  12728.484787  \n",
              "1      False    0.6369     10.756533  \n",
              "2      False    0.4019     77.194942  \n",
              "3      False    0.8024   4166.903120  \n",
              "4      False    0.8591  20365.648673  "
            ],
            "text/html": [
              "\n",
              "  <div id=\"df-4725f25f-b4d7-48ed-a2c1-ff92c0d4ece0\">\n",
              "    <div class=\"colab-df-container\">\n",
              "      <div>\n",
              "<style scoped>\n",
              "    .dataframe tbody tr th:only-of-type {\n",
              "        vertical-align: middle;\n",
              "    }\n",
              "\n",
              "    .dataframe tbody tr th {\n",
              "        vertical-align: top;\n",
              "    }\n",
              "\n",
              "    .dataframe thead th {\n",
              "        text-align: right;\n",
              "    }\n",
              "</style>\n",
              "<table border=\"1\" class=\"dataframe\">\n",
              "  <thead>\n",
              "    <tr style=\"text-align: right;\">\n",
              "      <th></th>\n",
              "      <th>user_name</th>\n",
              "      <th>user_location</th>\n",
              "      <th>user_description</th>\n",
              "      <th>user_created</th>\n",
              "      <th>user_followers</th>\n",
              "      <th>user_friends</th>\n",
              "      <th>user_favourites</th>\n",
              "      <th>user_verified</th>\n",
              "      <th>date</th>\n",
              "      <th>text</th>\n",
              "      <th>hashtags</th>\n",
              "      <th>source</th>\n",
              "      <th>is_retweet</th>\n",
              "      <th>compound</th>\n",
              "      <th>score</th>\n",
              "    </tr>\n",
              "  </thead>\n",
              "  <tbody>\n",
              "    <tr>\n",
              "      <th>0</th>\n",
              "      <td>Dani VB</td>\n",
              "      <td>NaN</td>\n",
              "      <td>@Dogecola - #DogeCola - #DogeColaNFT / #BNB / ...</td>\n",
              "      <td>2021-08-21 14:11:22</td>\n",
              "      <td>380.0</td>\n",
              "      <td>1130.0</td>\n",
              "      <td>27815.0</td>\n",
              "      <td>False</td>\n",
              "      <td>2022-03-07 12:48:32</td>\n",
              "      <td>My favorite project is DogeCola, they will soo...</td>\n",
              "      <td>['DogeCola', 'DogeColaNFT', 'NFTs', 'NFT', 'NF...</td>\n",
              "      <td>Twitter Web App</td>\n",
              "      <td>False</td>\n",
              "      <td>0.4588</td>\n",
              "      <td>12728.484787</td>\n",
              "    </tr>\n",
              "    <tr>\n",
              "      <th>1</th>\n",
              "      <td>geniusgyani</td>\n",
              "      <td>Haryana, India</td>\n",
              "      <td>On a mission of #inspiring people</td>\n",
              "      <td>2020-05-15 23:12:18</td>\n",
              "      <td>8.0</td>\n",
              "      <td>164.0</td>\n",
              "      <td>18.0</td>\n",
              "      <td>False</td>\n",
              "      <td>2021-07-19 12:41:24</td>\n",
              "      <td>Best time to buy bitcoin right now</td>\n",
              "      <td>['bitcoin']</td>\n",
              "      <td>Twitter for iPhone</td>\n",
              "      <td>False</td>\n",
              "      <td>0.6369</td>\n",
              "      <td>10.756533</td>\n",
              "    </tr>\n",
              "    <tr>\n",
              "      <th>2</th>\n",
              "      <td>Rayhan</td>\n",
              "      <td>1342/15 , Chandpur , Banglades</td>\n",
              "      <td>Got a worst mind just...</td>\n",
              "      <td>2015-07-19 06:11:48</td>\n",
              "      <td>39.0</td>\n",
              "      <td>88.0</td>\n",
              "      <td>196.0</td>\n",
              "      <td>False</td>\n",
              "      <td>2022-04-15 14:55:38</td>\n",
              "      <td>Pi Network is booming platform, Always with my...</td>\n",
              "      <td>['PiNetwork', 'BTC', 'BNB']</td>\n",
              "      <td>Twitter for Android</td>\n",
              "      <td>False</td>\n",
              "      <td>0.4019</td>\n",
              "      <td>77.194942</td>\n",
              "    </tr>\n",
              "    <tr>\n",
              "      <th>3</th>\n",
              "      <td>₿ 🟩</td>\n",
              "      <td>The Citadel</td>\n",
              "      <td>Founder of @shoesinbitcoin &amp; Marketing @btcres...</td>\n",
              "      <td>2018-08-09 19:52:57</td>\n",
              "      <td>401.0</td>\n",
              "      <td>970.0</td>\n",
              "      <td>5205.0</td>\n",
              "      <td>False</td>\n",
              "      <td>2021-08-18 11:16:41</td>\n",
              "      <td>It takes time to start trusting a human being....</td>\n",
              "      <td>['Bitcoin']</td>\n",
              "      <td>Twitter Web App</td>\n",
              "      <td>False</td>\n",
              "      <td>0.8024</td>\n",
              "      <td>4166.903120</td>\n",
              "    </tr>\n",
              "    <tr>\n",
              "      <th>4</th>\n",
              "      <td>Nagatø 法</td>\n",
              "      <td>Greece</td>\n",
              "      <td>#Bitcoin | Writing articles &amp; FA ✍️ | Digging ...</td>\n",
              "      <td>2017-12-04 08:24:56</td>\n",
              "      <td>10752.0</td>\n",
              "      <td>2407.0</td>\n",
              "      <td>23707.0</td>\n",
              "      <td>False</td>\n",
              "      <td>2021-07-29 22:46:22</td>\n",
              "      <td>4/ $KAR | What I'm mostly interested in is the...</td>\n",
              "      <td>['BTC']</td>\n",
              "      <td>Twitter Web App</td>\n",
              "      <td>False</td>\n",
              "      <td>0.8591</td>\n",
              "      <td>20365.648673</td>\n",
              "    </tr>\n",
              "  </tbody>\n",
              "</table>\n",
              "</div>\n",
              "      <button class=\"colab-df-convert\" onclick=\"convertToInteractive('df-4725f25f-b4d7-48ed-a2c1-ff92c0d4ece0')\"\n",
              "              title=\"Convert this dataframe to an interactive table.\"\n",
              "              style=\"display:none;\">\n",
              "        \n",
              "  <svg xmlns=\"http://www.w3.org/2000/svg\" height=\"24px\"viewBox=\"0 0 24 24\"\n",
              "       width=\"24px\">\n",
              "    <path d=\"M0 0h24v24H0V0z\" fill=\"none\"/>\n",
              "    <path d=\"M18.56 5.44l.94 2.06.94-2.06 2.06-.94-2.06-.94-.94-2.06-.94 2.06-2.06.94zm-11 1L8.5 8.5l.94-2.06 2.06-.94-2.06-.94L8.5 2.5l-.94 2.06-2.06.94zm10 10l.94 2.06.94-2.06 2.06-.94-2.06-.94-.94-2.06-.94 2.06-2.06.94z\"/><path d=\"M17.41 7.96l-1.37-1.37c-.4-.4-.92-.59-1.43-.59-.52 0-1.04.2-1.43.59L10.3 9.45l-7.72 7.72c-.78.78-.78 2.05 0 2.83L4 21.41c.39.39.9.59 1.41.59.51 0 1.02-.2 1.41-.59l7.78-7.78 2.81-2.81c.8-.78.8-2.07 0-2.86zM5.41 20L4 18.59l7.72-7.72 1.47 1.35L5.41 20z\"/>\n",
              "  </svg>\n",
              "      </button>\n",
              "      \n",
              "  <style>\n",
              "    .colab-df-container {\n",
              "      display:flex;\n",
              "      flex-wrap:wrap;\n",
              "      gap: 12px;\n",
              "    }\n",
              "\n",
              "    .colab-df-convert {\n",
              "      background-color: #E8F0FE;\n",
              "      border: none;\n",
              "      border-radius: 50%;\n",
              "      cursor: pointer;\n",
              "      display: none;\n",
              "      fill: #1967D2;\n",
              "      height: 32px;\n",
              "      padding: 0 0 0 0;\n",
              "      width: 32px;\n",
              "    }\n",
              "\n",
              "    .colab-df-convert:hover {\n",
              "      background-color: #E2EBFA;\n",
              "      box-shadow: 0px 1px 2px rgba(60, 64, 67, 0.3), 0px 1px 3px 1px rgba(60, 64, 67, 0.15);\n",
              "      fill: #174EA6;\n",
              "    }\n",
              "\n",
              "    [theme=dark] .colab-df-convert {\n",
              "      background-color: #3B4455;\n",
              "      fill: #D2E3FC;\n",
              "    }\n",
              "\n",
              "    [theme=dark] .colab-df-convert:hover {\n",
              "      background-color: #434B5C;\n",
              "      box-shadow: 0px 1px 3px 1px rgba(0, 0, 0, 0.15);\n",
              "      filter: drop-shadow(0px 1px 2px rgba(0, 0, 0, 0.3));\n",
              "      fill: #FFFFFF;\n",
              "    }\n",
              "  </style>\n",
              "\n",
              "      <script>\n",
              "        const buttonEl =\n",
              "          document.querySelector('#df-4725f25f-b4d7-48ed-a2c1-ff92c0d4ece0 button.colab-df-convert');\n",
              "        buttonEl.style.display =\n",
              "          google.colab.kernel.accessAllowed ? 'block' : 'none';\n",
              "\n",
              "        async function convertToInteractive(key) {\n",
              "          const element = document.querySelector('#df-4725f25f-b4d7-48ed-a2c1-ff92c0d4ece0');\n",
              "          const dataTable =\n",
              "            await google.colab.kernel.invokeFunction('convertToInteractive',\n",
              "                                                     [key], {});\n",
              "          if (!dataTable) return;\n",
              "\n",
              "          const docLinkHtml = 'Like what you see? Visit the ' +\n",
              "            '<a target=\"_blank\" href=https://colab.research.google.com/notebooks/data_table.ipynb>data table notebook</a>'\n",
              "            + ' to learn more about interactive tables.';\n",
              "          element.innerHTML = '';\n",
              "          dataTable['output_type'] = 'display_data';\n",
              "          await google.colab.output.renderOutput(dataTable, element);\n",
              "          const docLink = document.createElement('div');\n",
              "          docLink.innerHTML = docLinkHtml;\n",
              "          element.appendChild(docLink);\n",
              "        }\n",
              "      </script>\n",
              "    </div>\n",
              "  </div>\n",
              "  "
            ]
          },
          "metadata": {},
          "execution_count": 35
        }
      ],
      "source": [
        "scores = []\n",
        "\n",
        "for i, s in tqdm(df_tweets_clean.iterrows(), total=df_tweets_clean.shape[0],position=0, leave=True):\n",
        "\n",
        "    try:\n",
        "        scores.append(s[\"compound\"] * ((int(s[\"user_followers\"]))) * ((int(s[\"user_favourites\"])+1)/int(s['user_followers']+1)) *((int(s[\"is_retweet\"])+1)))\n",
        "\n",
        "    except:\n",
        "        scores.append(np.nan)\n",
        "\n",
        "df_tweets_clean[\"score\"] = scores\n",
        "df_tweets_clean.head()"
      ]
    },
    {
      "cell_type": "markdown",
      "metadata": {
        "id": "JAR0SYT6eNnz"
      },
      "source": [
        "### b. Analyse Bitcoin price"
      ]
    },
    {
      "cell_type": "code",
      "execution_count": 36,
      "metadata": {
        "colab": {
          "base_uri": "https://localhost:8080/",
          "height": 206
        },
        "id": "HSsulbOYzzdy",
        "outputId": "852bf936-1a29-4b4e-a2d9-27e051102998"
      },
      "outputs": [
        {
          "output_type": "execute_result",
          "data": {
            "text/plain": [
              "        Date        Open        High         Low       Close   Adj Close  \\\n",
              "0 2014-09-17  465.864014  468.174011  452.421997  457.334015  457.334015   \n",
              "1 2014-09-18  456.859985  456.859985  413.104004  424.440002  424.440002   \n",
              "2 2014-09-19  424.102997  427.834991  384.532013  394.795990  394.795990   \n",
              "3 2014-09-20  394.673004  423.295990  389.882996  408.903992  408.903992   \n",
              "4 2014-09-21  408.084991  412.425995  393.181000  398.821014  398.821014   \n",
              "\n",
              "     Volume  \n",
              "0  21056800  \n",
              "1  34483200  \n",
              "2  37919700  \n",
              "3  36863600  \n",
              "4  26580100  "
            ],
            "text/html": [
              "\n",
              "  <div id=\"df-2ce2cfb3-997a-4892-bce6-c1fd4751745c\">\n",
              "    <div class=\"colab-df-container\">\n",
              "      <div>\n",
              "<style scoped>\n",
              "    .dataframe tbody tr th:only-of-type {\n",
              "        vertical-align: middle;\n",
              "    }\n",
              "\n",
              "    .dataframe tbody tr th {\n",
              "        vertical-align: top;\n",
              "    }\n",
              "\n",
              "    .dataframe thead th {\n",
              "        text-align: right;\n",
              "    }\n",
              "</style>\n",
              "<table border=\"1\" class=\"dataframe\">\n",
              "  <thead>\n",
              "    <tr style=\"text-align: right;\">\n",
              "      <th></th>\n",
              "      <th>Date</th>\n",
              "      <th>Open</th>\n",
              "      <th>High</th>\n",
              "      <th>Low</th>\n",
              "      <th>Close</th>\n",
              "      <th>Adj Close</th>\n",
              "      <th>Volume</th>\n",
              "    </tr>\n",
              "  </thead>\n",
              "  <tbody>\n",
              "    <tr>\n",
              "      <th>0</th>\n",
              "      <td>2014-09-17</td>\n",
              "      <td>465.864014</td>\n",
              "      <td>468.174011</td>\n",
              "      <td>452.421997</td>\n",
              "      <td>457.334015</td>\n",
              "      <td>457.334015</td>\n",
              "      <td>21056800</td>\n",
              "    </tr>\n",
              "    <tr>\n",
              "      <th>1</th>\n",
              "      <td>2014-09-18</td>\n",
              "      <td>456.859985</td>\n",
              "      <td>456.859985</td>\n",
              "      <td>413.104004</td>\n",
              "      <td>424.440002</td>\n",
              "      <td>424.440002</td>\n",
              "      <td>34483200</td>\n",
              "    </tr>\n",
              "    <tr>\n",
              "      <th>2</th>\n",
              "      <td>2014-09-19</td>\n",
              "      <td>424.102997</td>\n",
              "      <td>427.834991</td>\n",
              "      <td>384.532013</td>\n",
              "      <td>394.795990</td>\n",
              "      <td>394.795990</td>\n",
              "      <td>37919700</td>\n",
              "    </tr>\n",
              "    <tr>\n",
              "      <th>3</th>\n",
              "      <td>2014-09-20</td>\n",
              "      <td>394.673004</td>\n",
              "      <td>423.295990</td>\n",
              "      <td>389.882996</td>\n",
              "      <td>408.903992</td>\n",
              "      <td>408.903992</td>\n",
              "      <td>36863600</td>\n",
              "    </tr>\n",
              "    <tr>\n",
              "      <th>4</th>\n",
              "      <td>2014-09-21</td>\n",
              "      <td>408.084991</td>\n",
              "      <td>412.425995</td>\n",
              "      <td>393.181000</td>\n",
              "      <td>398.821014</td>\n",
              "      <td>398.821014</td>\n",
              "      <td>26580100</td>\n",
              "    </tr>\n",
              "  </tbody>\n",
              "</table>\n",
              "</div>\n",
              "      <button class=\"colab-df-convert\" onclick=\"convertToInteractive('df-2ce2cfb3-997a-4892-bce6-c1fd4751745c')\"\n",
              "              title=\"Convert this dataframe to an interactive table.\"\n",
              "              style=\"display:none;\">\n",
              "        \n",
              "  <svg xmlns=\"http://www.w3.org/2000/svg\" height=\"24px\"viewBox=\"0 0 24 24\"\n",
              "       width=\"24px\">\n",
              "    <path d=\"M0 0h24v24H0V0z\" fill=\"none\"/>\n",
              "    <path d=\"M18.56 5.44l.94 2.06.94-2.06 2.06-.94-2.06-.94-.94-2.06-.94 2.06-2.06.94zm-11 1L8.5 8.5l.94-2.06 2.06-.94-2.06-.94L8.5 2.5l-.94 2.06-2.06.94zm10 10l.94 2.06.94-2.06 2.06-.94-2.06-.94-.94-2.06-.94 2.06-2.06.94z\"/><path d=\"M17.41 7.96l-1.37-1.37c-.4-.4-.92-.59-1.43-.59-.52 0-1.04.2-1.43.59L10.3 9.45l-7.72 7.72c-.78.78-.78 2.05 0 2.83L4 21.41c.39.39.9.59 1.41.59.51 0 1.02-.2 1.41-.59l7.78-7.78 2.81-2.81c.8-.78.8-2.07 0-2.86zM5.41 20L4 18.59l7.72-7.72 1.47 1.35L5.41 20z\"/>\n",
              "  </svg>\n",
              "      </button>\n",
              "      \n",
              "  <style>\n",
              "    .colab-df-container {\n",
              "      display:flex;\n",
              "      flex-wrap:wrap;\n",
              "      gap: 12px;\n",
              "    }\n",
              "\n",
              "    .colab-df-convert {\n",
              "      background-color: #E8F0FE;\n",
              "      border: none;\n",
              "      border-radius: 50%;\n",
              "      cursor: pointer;\n",
              "      display: none;\n",
              "      fill: #1967D2;\n",
              "      height: 32px;\n",
              "      padding: 0 0 0 0;\n",
              "      width: 32px;\n",
              "    }\n",
              "\n",
              "    .colab-df-convert:hover {\n",
              "      background-color: #E2EBFA;\n",
              "      box-shadow: 0px 1px 2px rgba(60, 64, 67, 0.3), 0px 1px 3px 1px rgba(60, 64, 67, 0.15);\n",
              "      fill: #174EA6;\n",
              "    }\n",
              "\n",
              "    [theme=dark] .colab-df-convert {\n",
              "      background-color: #3B4455;\n",
              "      fill: #D2E3FC;\n",
              "    }\n",
              "\n",
              "    [theme=dark] .colab-df-convert:hover {\n",
              "      background-color: #434B5C;\n",
              "      box-shadow: 0px 1px 3px 1px rgba(0, 0, 0, 0.15);\n",
              "      filter: drop-shadow(0px 1px 2px rgba(0, 0, 0, 0.3));\n",
              "      fill: #FFFFFF;\n",
              "    }\n",
              "  </style>\n",
              "\n",
              "      <script>\n",
              "        const buttonEl =\n",
              "          document.querySelector('#df-2ce2cfb3-997a-4892-bce6-c1fd4751745c button.colab-df-convert');\n",
              "        buttonEl.style.display =\n",
              "          google.colab.kernel.accessAllowed ? 'block' : 'none';\n",
              "\n",
              "        async function convertToInteractive(key) {\n",
              "          const element = document.querySelector('#df-2ce2cfb3-997a-4892-bce6-c1fd4751745c');\n",
              "          const dataTable =\n",
              "            await google.colab.kernel.invokeFunction('convertToInteractive',\n",
              "                                                     [key], {});\n",
              "          if (!dataTable) return;\n",
              "\n",
              "          const docLinkHtml = 'Like what you see? Visit the ' +\n",
              "            '<a target=\"_blank\" href=https://colab.research.google.com/notebooks/data_table.ipynb>data table notebook</a>'\n",
              "            + ' to learn more about interactive tables.';\n",
              "          element.innerHTML = '';\n",
              "          dataTable['output_type'] = 'display_data';\n",
              "          await google.colab.output.renderOutput(dataTable, element);\n",
              "          const docLink = document.createElement('div');\n",
              "          docLink.innerHTML = docLinkHtml;\n",
              "          element.appendChild(docLink);\n",
              "        }\n",
              "      </script>\n",
              "    </div>\n",
              "  </div>\n",
              "  "
            ]
          },
          "metadata": {},
          "execution_count": 36
        }
      ],
      "source": [
        "df_price.Date = pd.to_datetime(df_price.Date)\n",
        "\n",
        "df_price.head()"
      ]
    },
    {
      "cell_type": "markdown",
      "metadata": {
        "id": "Z0ftI2GZeNnz"
      },
      "source": [
        "**Sentiment analysis impact on Bitcoin price**"
      ]
    },
    {
      "cell_type": "code",
      "execution_count": 37,
      "metadata": {
        "id": "hJ9PakLi_cWj"
      },
      "outputs": [],
      "source": [
        "df_tweets_clean = df_tweets_clean.drop_duplicates()"
      ]
    },
    {
      "cell_type": "code",
      "execution_count": 38,
      "metadata": {
        "id": "OVNlDYaDeNn0"
      },
      "outputs": [],
      "source": [
        "# Reorganization in relation to the date of Bitcoin Tweets\n",
        "\n",
        "tweets = df_tweets_clean.copy()\n",
        "tweets['date'] = pd.to_datetime(tweets['date'],utc=True)\n",
        "tweets.date = tweets.date.dt.tz_localize(None)\n",
        "tweets.index = tweets['date']"
      ]
    },
    {
      "cell_type": "code",
      "execution_count": 39,
      "metadata": {
        "id": "pCiTsRiheNn0"
      },
      "outputs": [],
      "source": [
        "# Hourly grouping of Bitcoin Tweets\n",
        "\n",
        "tweets_grouped = tweets.resample('1h').sum()"
      ]
    },
    {
      "cell_type": "code",
      "execution_count": 40,
      "metadata": {
        "colab": {
          "base_uri": "https://localhost:8080/",
          "height": 237
        },
        "id": "VatTDJVQ_i9B",
        "outputId": "c537f4a0-0d6d-4ca2-dc94-7dfd5f06c1b9"
      },
      "outputs": [
        {
          "output_type": "execute_result",
          "data": {
            "text/plain": [
              "                     user_followers  user_friends  user_favourites  compound  \\\n",
              "date                                                                           \n",
              "2021-02-05 11:00:00           139.0          29.0             57.0    0.2960   \n",
              "2021-02-05 12:00:00          5671.0         779.0           6397.0   -0.4588   \n",
              "2021-02-05 13:00:00          2906.0        2930.0          57653.0   -0.3447   \n",
              "2021-02-05 14:00:00           100.0         388.0           3401.0    0.0000   \n",
              "2021-02-05 15:00:00           114.0         284.0            648.0    0.0000   \n",
              "\n",
              "                            score  \n",
              "date                               \n",
              "2021-02-05 11:00:00     17.045371  \n",
              "2021-02-05 12:00:00  -1204.308581  \n",
              "2021-02-05 13:00:00 -19866.497428  \n",
              "2021-02-05 14:00:00      0.000000  \n",
              "2021-02-05 15:00:00      0.000000  "
            ],
            "text/html": [
              "\n",
              "  <div id=\"df-84c39283-7611-43f0-a0a4-cd084a49caa6\">\n",
              "    <div class=\"colab-df-container\">\n",
              "      <div>\n",
              "<style scoped>\n",
              "    .dataframe tbody tr th:only-of-type {\n",
              "        vertical-align: middle;\n",
              "    }\n",
              "\n",
              "    .dataframe tbody tr th {\n",
              "        vertical-align: top;\n",
              "    }\n",
              "\n",
              "    .dataframe thead th {\n",
              "        text-align: right;\n",
              "    }\n",
              "</style>\n",
              "<table border=\"1\" class=\"dataframe\">\n",
              "  <thead>\n",
              "    <tr style=\"text-align: right;\">\n",
              "      <th></th>\n",
              "      <th>user_followers</th>\n",
              "      <th>user_friends</th>\n",
              "      <th>user_favourites</th>\n",
              "      <th>compound</th>\n",
              "      <th>score</th>\n",
              "    </tr>\n",
              "    <tr>\n",
              "      <th>date</th>\n",
              "      <th></th>\n",
              "      <th></th>\n",
              "      <th></th>\n",
              "      <th></th>\n",
              "      <th></th>\n",
              "    </tr>\n",
              "  </thead>\n",
              "  <tbody>\n",
              "    <tr>\n",
              "      <th>2021-02-05 11:00:00</th>\n",
              "      <td>139.0</td>\n",
              "      <td>29.0</td>\n",
              "      <td>57.0</td>\n",
              "      <td>0.2960</td>\n",
              "      <td>17.045371</td>\n",
              "    </tr>\n",
              "    <tr>\n",
              "      <th>2021-02-05 12:00:00</th>\n",
              "      <td>5671.0</td>\n",
              "      <td>779.0</td>\n",
              "      <td>6397.0</td>\n",
              "      <td>-0.4588</td>\n",
              "      <td>-1204.308581</td>\n",
              "    </tr>\n",
              "    <tr>\n",
              "      <th>2021-02-05 13:00:00</th>\n",
              "      <td>2906.0</td>\n",
              "      <td>2930.0</td>\n",
              "      <td>57653.0</td>\n",
              "      <td>-0.3447</td>\n",
              "      <td>-19866.497428</td>\n",
              "    </tr>\n",
              "    <tr>\n",
              "      <th>2021-02-05 14:00:00</th>\n",
              "      <td>100.0</td>\n",
              "      <td>388.0</td>\n",
              "      <td>3401.0</td>\n",
              "      <td>0.0000</td>\n",
              "      <td>0.000000</td>\n",
              "    </tr>\n",
              "    <tr>\n",
              "      <th>2021-02-05 15:00:00</th>\n",
              "      <td>114.0</td>\n",
              "      <td>284.0</td>\n",
              "      <td>648.0</td>\n",
              "      <td>0.0000</td>\n",
              "      <td>0.000000</td>\n",
              "    </tr>\n",
              "  </tbody>\n",
              "</table>\n",
              "</div>\n",
              "      <button class=\"colab-df-convert\" onclick=\"convertToInteractive('df-84c39283-7611-43f0-a0a4-cd084a49caa6')\"\n",
              "              title=\"Convert this dataframe to an interactive table.\"\n",
              "              style=\"display:none;\">\n",
              "        \n",
              "  <svg xmlns=\"http://www.w3.org/2000/svg\" height=\"24px\"viewBox=\"0 0 24 24\"\n",
              "       width=\"24px\">\n",
              "    <path d=\"M0 0h24v24H0V0z\" fill=\"none\"/>\n",
              "    <path d=\"M18.56 5.44l.94 2.06.94-2.06 2.06-.94-2.06-.94-.94-2.06-.94 2.06-2.06.94zm-11 1L8.5 8.5l.94-2.06 2.06-.94-2.06-.94L8.5 2.5l-.94 2.06-2.06.94zm10 10l.94 2.06.94-2.06 2.06-.94-2.06-.94-.94-2.06-.94 2.06-2.06.94z\"/><path d=\"M17.41 7.96l-1.37-1.37c-.4-.4-.92-.59-1.43-.59-.52 0-1.04.2-1.43.59L10.3 9.45l-7.72 7.72c-.78.78-.78 2.05 0 2.83L4 21.41c.39.39.9.59 1.41.59.51 0 1.02-.2 1.41-.59l7.78-7.78 2.81-2.81c.8-.78.8-2.07 0-2.86zM5.41 20L4 18.59l7.72-7.72 1.47 1.35L5.41 20z\"/>\n",
              "  </svg>\n",
              "      </button>\n",
              "      \n",
              "  <style>\n",
              "    .colab-df-container {\n",
              "      display:flex;\n",
              "      flex-wrap:wrap;\n",
              "      gap: 12px;\n",
              "    }\n",
              "\n",
              "    .colab-df-convert {\n",
              "      background-color: #E8F0FE;\n",
              "      border: none;\n",
              "      border-radius: 50%;\n",
              "      cursor: pointer;\n",
              "      display: none;\n",
              "      fill: #1967D2;\n",
              "      height: 32px;\n",
              "      padding: 0 0 0 0;\n",
              "      width: 32px;\n",
              "    }\n",
              "\n",
              "    .colab-df-convert:hover {\n",
              "      background-color: #E2EBFA;\n",
              "      box-shadow: 0px 1px 2px rgba(60, 64, 67, 0.3), 0px 1px 3px 1px rgba(60, 64, 67, 0.15);\n",
              "      fill: #174EA6;\n",
              "    }\n",
              "\n",
              "    [theme=dark] .colab-df-convert {\n",
              "      background-color: #3B4455;\n",
              "      fill: #D2E3FC;\n",
              "    }\n",
              "\n",
              "    [theme=dark] .colab-df-convert:hover {\n",
              "      background-color: #434B5C;\n",
              "      box-shadow: 0px 1px 3px 1px rgba(0, 0, 0, 0.15);\n",
              "      filter: drop-shadow(0px 1px 2px rgba(0, 0, 0, 0.3));\n",
              "      fill: #FFFFFF;\n",
              "    }\n",
              "  </style>\n",
              "\n",
              "      <script>\n",
              "        const buttonEl =\n",
              "          document.querySelector('#df-84c39283-7611-43f0-a0a4-cd084a49caa6 button.colab-df-convert');\n",
              "        buttonEl.style.display =\n",
              "          google.colab.kernel.accessAllowed ? 'block' : 'none';\n",
              "\n",
              "        async function convertToInteractive(key) {\n",
              "          const element = document.querySelector('#df-84c39283-7611-43f0-a0a4-cd084a49caa6');\n",
              "          const dataTable =\n",
              "            await google.colab.kernel.invokeFunction('convertToInteractive',\n",
              "                                                     [key], {});\n",
              "          if (!dataTable) return;\n",
              "\n",
              "          const docLinkHtml = 'Like what you see? Visit the ' +\n",
              "            '<a target=\"_blank\" href=https://colab.research.google.com/notebooks/data_table.ipynb>data table notebook</a>'\n",
              "            + ' to learn more about interactive tables.';\n",
              "          element.innerHTML = '';\n",
              "          dataTable['output_type'] = 'display_data';\n",
              "          await google.colab.output.renderOutput(dataTable, element);\n",
              "          const docLink = document.createElement('div');\n",
              "          docLink.innerHTML = docLinkHtml;\n",
              "          element.appendChild(docLink);\n",
              "        }\n",
              "      </script>\n",
              "    </div>\n",
              "  </div>\n",
              "  "
            ]
          },
          "metadata": {},
          "execution_count": 40
        }
      ],
      "source": [
        "tweets_grouped.head()"
      ]
    },
    {
      "cell_type": "code",
      "execution_count": 41,
      "metadata": {
        "id": "uJyungcweNn0"
      },
      "outputs": [],
      "source": [
        "# Reorganization in relation to the date of Bitcoin price\n",
        "\n",
        "crypto_usd = df_price.copy()\n",
        "crypto_usd['Date'] = pd.to_datetime(crypto_usd['Date'], unit='s')\n",
        "crypto_usd.index = crypto_usd['Date']"
      ]
    },
    {
      "cell_type": "code",
      "execution_count": 42,
      "metadata": {
        "id": "X_kZuOfUeNn0"
      },
      "outputs": [],
      "source": [
        "# Hourly grouping of Bitcoin Price\n",
        "\n",
        "crypto_usd_grouped = crypto_usd.resample('D')['Close'].mean()"
      ]
    },
    {
      "cell_type": "code",
      "execution_count": 43,
      "metadata": {
        "id": "hKeWY9KneNn0",
        "colab": {
          "base_uri": "https://localhost:8080/"
        },
        "outputId": "e0766b26-c535-4c62-da2c-b25b9c970809"
      },
      "outputs": [
        {
          "output_type": "execute_result",
          "data": {
            "text/plain": [
              "Date\n",
              "2014-09-17    457.334015\n",
              "2014-09-18    424.440002\n",
              "2014-09-19    394.795990\n",
              "2014-09-20    408.903992\n",
              "2014-09-21    398.821014\n",
              "Freq: D, Name: Close, dtype: float64"
            ]
          },
          "metadata": {},
          "execution_count": 43
        }
      ],
      "source": [
        "crypto_usd_grouped.head()"
      ]
    },
    {
      "cell_type": "markdown",
      "metadata": {
        "id": "Bpx7gungeNn0"
      },
      "source": [
        "**Study window**"
      ]
    },
    {
      "cell_type": "code",
      "execution_count": 44,
      "metadata": {
        "id": "HMFxKy7tACGe"
      },
      "outputs": [],
      "source": [
        "# Beginning = MAX( MIN( tweets.date ), MIN( price.date ) )\n",
        "beggining = max(tweets_grouped.index.min().replace(tzinfo=None), crypto_usd_grouped.index.min())\n",
        "\n",
        "# End = MIN( MAX( tweets.date ), MAX( price.date ) )\n",
        "end = min(tweets_grouped.index.max().replace(tzinfo=None), crypto_usd_grouped.index.max())\n",
        "\n",
        "# Resampling our datasets on our window\n",
        "tweets_grouped = tweets_grouped[beggining:end]\n",
        "crypto_usd_grouped = crypto_usd_grouped[beggining:end]"
      ]
    },
    {
      "cell_type": "markdown",
      "metadata": {
        "id": "5FRARtXBeNn1"
      },
      "source": [
        "**Plotting raw sentiment analysis impact**"
      ]
    },
    {
      "cell_type": "code",
      "execution_count": 45,
      "metadata": {
        "colab": {
          "base_uri": "https://localhost:8080/",
          "height": 614
        },
        "id": "MW_mC9ZLAVWl",
        "outputId": "c9895729-d5e8-40d9-c776-30c4a88e93f3"
      },
      "outputs": [
        {
          "output_type": "display_data",
          "data": {
            "text/plain": [
              "<Figure size 1440x720 with 2 Axes>"
            ],
            "image/png": "[encoded data removed]"
          },
          "metadata": {
            "needs_background": "light"
          }
        }
      ],
      "source": [
        "fig, ax1 = plt.subplots(figsize=(20,10))\n",
        "\n",
        "ax1.set_title(\"Crypto currency evolution compared to twitter sentiment\", fontsize=18)\n",
        "\n",
        "ax1.tick_params(labelsize=14)\n",
        "ax2 = ax1.twinx()\n",
        "\n",
        "ax1.plot_date(tweets_grouped.index, tweets_grouped, 'g-')\n",
        "ax2.plot_date(crypto_usd_grouped.index, crypto_usd_grouped, 'b-')\n",
        "\n",
        "ax1.set_ylabel(\"Sentiment\", color='g', fontsize=16)\n",
        "ax2.set_ylabel(\"Bitcoin [$]\", color='b', fontsize=16)\n",
        "\n",
        "plt.show()"
      ]
    },
    {
      "cell_type": "markdown",
      "metadata": {
        "id": "JXYlDaQVeNn1"
      },
      "source": [
        "So we can see that there is a correlation between the price of Bitcoin and the tweets about it."
      ]
    },
    {
      "cell_type": "markdown",
      "metadata": {
        "id": "-5UkzfvneNn1"
      },
      "source": [
        "## **5. NLP modeling for prediction of tweets' sentiment**"
      ]
    },
    {
      "cell_type": "markdown",
      "source": [
        "### a. Data preprocessing"
      ],
      "metadata": {
        "id": "VLk8gTRvpnHl"
      }
    },
    {
      "cell_type": "code",
      "execution_count": 46,
      "metadata": {
        "id": "iNzq2v2QeNn1",
        "colab": {
          "base_uri": "https://localhost:8080/"
        },
        "outputId": "33376025-d073-40ab-f8c9-0661548b03fe"
      },
      "outputs": [
        {
          "output_type": "stream",
          "name": "stdout",
          "text": [
            "Requirement already satisfied: textblob in /usr/local/lib/python3.7/dist-packages (0.15.3)\n",
            "Requirement already satisfied: nltk>=3.1 in /usr/local/lib/python3.7/dist-packages (from textblob) (3.2.5)\n",
            "Requirement already satisfied: six in /usr/local/lib/python3.7/dist-packages (from nltk>=3.1->textblob) (1.15.0)\n"
          ]
        }
      ],
      "source": [
        "! pip install textblob\n",
        "\n",
        "from textblob import TextBlob"
      ]
    },
    {
      "cell_type": "markdown",
      "source": [
        "TextBlob is a python library and offers a simple API to\n",
        "access its methods and perform basic NLP tasks, such as sentiment analysis. A good\n",
        "thing about TextBlob is that they are just like python\n",
        "strings. Usage of the TextBlob becomes simple."
      ],
      "metadata": {
        "id": "nlOlrw5RqeyN"
      }
    },
    {
      "cell_type": "markdown",
      "source": [
        "**Cleaning the tweets**"
      ],
      "metadata": {
        "id": "bTeMoUc6s4Fi"
      }
    },
    {
      "cell_type": "code",
      "execution_count": 47,
      "metadata": {
        "colab": {
          "base_uri": "https://localhost:8080/",
          "height": 206
        },
        "id": "jMgvu0OjEey8",
        "outputId": "45ae95f7-6dbb-4d8d-f1af-c81f92ec8dc2"
      },
      "outputs": [
        {
          "output_type": "execute_result",
          "data": {
            "text/plain": [
              "                                              tweets\n",
              "0  My favorite project is DogeCola, they will soo...\n",
              "1                 Best time to buy bitcoin right now\n",
              "2  Pi Network is booming platform, Always with my...\n",
              "3  It takes time to start trusting a human being....\n",
              "4  4/ $KAR | What I'm mostly interested in is the..."
            ],
            "text/html": [
              "\n",
              "  <div id=\"df-d9c805db-a2fb-403a-b1da-f754b08a46d5\">\n",
              "    <div class=\"colab-df-container\">\n",
              "      <div>\n",
              "<style scoped>\n",
              "    .dataframe tbody tr th:only-of-type {\n",
              "        vertical-align: middle;\n",
              "    }\n",
              "\n",
              "    .dataframe tbody tr th {\n",
              "        vertical-align: top;\n",
              "    }\n",
              "\n",
              "    .dataframe thead th {\n",
              "        text-align: right;\n",
              "    }\n",
              "</style>\n",
              "<table border=\"1\" class=\"dataframe\">\n",
              "  <thead>\n",
              "    <tr style=\"text-align: right;\">\n",
              "      <th></th>\n",
              "      <th>tweets</th>\n",
              "    </tr>\n",
              "  </thead>\n",
              "  <tbody>\n",
              "    <tr>\n",
              "      <th>0</th>\n",
              "      <td>My favorite project is DogeCola, they will soo...</td>\n",
              "    </tr>\n",
              "    <tr>\n",
              "      <th>1</th>\n",
              "      <td>Best time to buy bitcoin right now</td>\n",
              "    </tr>\n",
              "    <tr>\n",
              "      <th>2</th>\n",
              "      <td>Pi Network is booming platform, Always with my...</td>\n",
              "    </tr>\n",
              "    <tr>\n",
              "      <th>3</th>\n",
              "      <td>It takes time to start trusting a human being....</td>\n",
              "    </tr>\n",
              "    <tr>\n",
              "      <th>4</th>\n",
              "      <td>4/ $KAR | What I'm mostly interested in is the...</td>\n",
              "    </tr>\n",
              "  </tbody>\n",
              "</table>\n",
              "</div>\n",
              "      <button class=\"colab-df-convert\" onclick=\"convertToInteractive('df-d9c805db-a2fb-403a-b1da-f754b08a46d5')\"\n",
              "              title=\"Convert this dataframe to an interactive table.\"\n",
              "              style=\"display:none;\">\n",
              "        \n",
              "  <svg xmlns=\"http://www.w3.org/2000/svg\" height=\"24px\"viewBox=\"0 0 24 24\"\n",
              "       width=\"24px\">\n",
              "    <path d=\"M0 0h24v24H0V0z\" fill=\"none\"/>\n",
              "    <path d=\"M18.56 5.44l.94 2.06.94-2.06 2.06-.94-2.06-.94-.94-2.06-.94 2.06-2.06.94zm-11 1L8.5 8.5l.94-2.06 2.06-.94-2.06-.94L8.5 2.5l-.94 2.06-2.06.94zm10 10l.94 2.06.94-2.06 2.06-.94-2.06-.94-.94-2.06-.94 2.06-2.06.94z\"/><path d=\"M17.41 7.96l-1.37-1.37c-.4-.4-.92-.59-1.43-.59-.52 0-1.04.2-1.43.59L10.3 9.45l-7.72 7.72c-.78.78-.78 2.05 0 2.83L4 21.41c.39.39.9.59 1.41.59.51 0 1.02-.2 1.41-.59l7.78-7.78 2.81-2.81c.8-.78.8-2.07 0-2.86zM5.41 20L4 18.59l7.72-7.72 1.47 1.35L5.41 20z\"/>\n",
              "  </svg>\n",
              "      </button>\n",
              "      \n",
              "  <style>\n",
              "    .colab-df-container {\n",
              "      display:flex;\n",
              "      flex-wrap:wrap;\n",
              "      gap: 12px;\n",
              "    }\n",
              "\n",
              "    .colab-df-convert {\n",
              "      background-color: #E8F0FE;\n",
              "      border: none;\n",
              "      border-radius: 50%;\n",
              "      cursor: pointer;\n",
              "      display: none;\n",
              "      fill: #1967D2;\n",
              "      height: 32px;\n",
              "      padding: 0 0 0 0;\n",
              "      width: 32px;\n",
              "    }\n",
              "\n",
              "    .colab-df-convert:hover {\n",
              "      background-color: #E2EBFA;\n",
              "      box-shadow: 0px 1px 2px rgba(60, 64, 67, 0.3), 0px 1px 3px 1px rgba(60, 64, 67, 0.15);\n",
              "      fill: #174EA6;\n",
              "    }\n",
              "\n",
              "    [theme=dark] .colab-df-convert {\n",
              "      background-color: #3B4455;\n",
              "      fill: #D2E3FC;\n",
              "    }\n",
              "\n",
              "    [theme=dark] .colab-df-convert:hover {\n",
              "      background-color: #434B5C;\n",
              "      box-shadow: 0px 1px 3px 1px rgba(0, 0, 0, 0.15);\n",
              "      filter: drop-shadow(0px 1px 2px rgba(0, 0, 0, 0.3));\n",
              "      fill: #FFFFFF;\n",
              "    }\n",
              "  </style>\n",
              "\n",
              "      <script>\n",
              "        const buttonEl =\n",
              "          document.querySelector('#df-d9c805db-a2fb-403a-b1da-f754b08a46d5 button.colab-df-convert');\n",
              "        buttonEl.style.display =\n",
              "          google.colab.kernel.accessAllowed ? 'block' : 'none';\n",
              "\n",
              "        async function convertToInteractive(key) {\n",
              "          const element = document.querySelector('#df-d9c805db-a2fb-403a-b1da-f754b08a46d5');\n",
              "          const dataTable =\n",
              "            await google.colab.kernel.invokeFunction('convertToInteractive',\n",
              "                                                     [key], {});\n",
              "          if (!dataTable) return;\n",
              "\n",
              "          const docLinkHtml = 'Like what you see? Visit the ' +\n",
              "            '<a target=\"_blank\" href=https://colab.research.google.com/notebooks/data_table.ipynb>data table notebook</a>'\n",
              "            + ' to learn more about interactive tables.';\n",
              "          element.innerHTML = '';\n",
              "          dataTable['output_type'] = 'display_data';\n",
              "          await google.colab.output.renderOutput(dataTable, element);\n",
              "          const docLink = document.createElement('div');\n",
              "          docLink.innerHTML = docLinkHtml;\n",
              "          element.appendChild(docLink);\n",
              "        }\n",
              "      </script>\n",
              "    </div>\n",
              "  </div>\n",
              "  "
            ]
          },
          "metadata": {},
          "execution_count": 47
        }
      ],
      "source": [
        "df = df_tweets_clean.copy()\n",
        "\n",
        "# We're taking only tweets with hashtags\n",
        "df.dropna(subset=['hashtags'], inplace=True)\n",
        "\n",
        "# We only keeping tweets\n",
        "df = df[['text']] \n",
        "df.columns = ['tweets']\n",
        "df.head()"
      ]
    },
    {
      "cell_type": "code",
      "execution_count": 48,
      "metadata": {
        "colab": {
          "base_uri": "https://localhost:8080/"
        },
        "id": "QJzwAfBaEqaa",
        "outputId": "b95cb875-93c1-4fe2-a5aa-5d83e1cf9f8d"
      },
      "outputs": [
        {
          "output_type": "stream",
          "name": "stdout",
          "text": [
            "[nltk_data] Downloading package wordnet to /root/nltk_data...\n",
            "[nltk_data]   Unzipping corpora/wordnet.zip.\n",
            "[nltk_data] Downloading package stopwords to /root/nltk_data...\n",
            "[nltk_data]   Unzipping corpora/stopwords.zip.\n",
            "['i', 'me', 'my', 'myself', 'we', 'our', 'ours', 'ourselves', 'you', \"you're\", \"you've\", \"you'll\", \"you'd\", 'your', 'yours', 'yourself', 'yourselves', 'he', 'him', 'his', 'himself', 'she', \"she's\", 'her', 'hers', 'herself', 'it', \"it's\", 'its', 'itself', 'they', 'them', 'their', 'theirs', 'themselves', 'what', 'which', 'who', 'whom', 'this', 'that', \"that'll\", 'these', 'those', 'am', 'is', 'are', 'was', 'were', 'be', 'been', 'being', 'have', 'has', 'had', 'having', 'do', 'does', 'did', 'doing', 'a', 'an', 'the', 'and', 'but', 'if', 'or', 'because', 'as', 'until', 'while', 'of', 'at', 'by', 'for', 'with', 'about', 'against', 'between', 'into', 'through', 'during', 'before', 'after', 'above', 'below', 'to', 'from', 'up', 'down', 'in', 'out', 'on', 'off', 'over', 'under', 'again', 'further', 'then', 'once', 'here', 'there', 'when', 'where', 'why', 'how', 'all', 'any', 'both', 'each', 'few', 'more', 'most', 'other', 'some', 'such', 'no', 'nor', 'not', 'only', 'own', 'same', 'so', 'than', 'too', 'very', 's', 't', 'can', 'will', 'just', 'don', \"don't\", 'should', \"should've\", 'now', 'd', 'll', 'm', 'o', 're', 've', 'y', 'ain', 'aren', \"aren't\", 'couldn', \"couldn't\", 'didn', \"didn't\", 'doesn', \"doesn't\", 'hadn', \"hadn't\", 'hasn', \"hasn't\", 'haven', \"haven't\", 'isn', \"isn't\", 'ma', 'mightn', \"mightn't\", 'mustn', \"mustn't\", 'needn', \"needn't\", 'shan', \"shan't\", 'shouldn', \"shouldn't\", 'wasn', \"wasn't\", 'weren', \"weren't\", 'won', \"won't\", 'wouldn', \"wouldn't\"]\n"
          ]
        }
      ],
      "source": [
        "\n",
        "nltk.download('wordnet')\n",
        "nltk.download('stopwords')\n",
        "\n",
        "stop_words = nltk.corpus.stopwords.words(['english'])\n",
        "\n",
        "print(stop_words)"
      ]
    },
    {
      "cell_type": "code",
      "execution_count": 49,
      "metadata": {
        "id": "ZKE8TRTfEwP_"
      },
      "outputs": [],
      "source": [
        "from nltk.stem.wordnet import WordNetLemmatizer\n",
        "\n",
        "lem = WordNetLemmatizer()\n",
        "\n",
        "def cleaning(data):\n",
        "    #Remove URLs\n",
        "    tweet_without_url = re.sub(r'http\\S+',' ', data)\n",
        "\n",
        "    #Remove hashtags\n",
        "    tweet_without_hashtag = re.sub(r'#\\w+', ' ', tweet_without_url)\n",
        "\n",
        "    #1. Remove mentions and characters that not in the English alphabets\n",
        "    tweet_without_mentions = re.sub(r'@\\w+',' ', tweet_without_hashtag)\n",
        "    precleaned_tweet = re.sub('[^A-Za-z]+', ' ', tweet_without_mentions)\n",
        "\n",
        "    #2. Tokenize\n",
        "    tweet_tokens = TweetTokenizer().tokenize(precleaned_tweet)\n",
        "\n",
        "    #3. Remove Puncs and lower all tokens\n",
        "    tokens_without_punc = [w.lower() for w in tweet_tokens if w.isalpha()]\n",
        "\n",
        "    #4. Removing Stopwords\n",
        "    tokens_without_sw = [t for t in tokens_without_punc if t not in stop_words]\n",
        "\n",
        "    #5. Lemma\n",
        "    text_cleaned = [lem.lemmatize(t) for t in tokens_without_sw]\n",
        "\n",
        "    #6. Joining\n",
        "    return \" \".join(text_cleaned)"
      ]
    },
    {
      "cell_type": "code",
      "execution_count": 50,
      "metadata": {
        "colab": {
          "base_uri": "https://localhost:8080/",
          "height": 206
        },
        "id": "DqEzAn6xE3D2",
        "outputId": "58301ad6-97ee-45c0-961a-48681eca2084"
      },
      "outputs": [
        {
          "output_type": "execute_result",
          "data": {
            "text/plain": [
              "                                              tweets  \\\n",
              "0  My favorite project is DogeCola, they will soo...   \n",
              "1                 Best time to buy bitcoin right now   \n",
              "2  Pi Network is booming platform, Always with my...   \n",
              "3  It takes time to start trusting a human being....   \n",
              "4  4/ $KAR | What I'm mostly interested in is the...   \n",
              "\n",
              "                                      cleaned_tweets  date_clean  \n",
              "0  favorite project dogecola soon release collect...  2022-03-07  \n",
              "1                        best time buy bitcoin right  2021-07-19  \n",
              "2  pi network booming platform always loveable su...  2022-04-15  \n",
              "3  take time start trusting human bitcoin nature ...  2021-08-18  \n",
              "4  kar mostly interested initial lp incentive pro...  2021-07-29  "
            ],
            "text/html": [
              "\n",
              "  <div id=\"df-aeadeab2-767f-431f-b399-bc1a592358bc\">\n",
              "    <div class=\"colab-df-container\">\n",
              "      <div>\n",
              "<style scoped>\n",
              "    .dataframe tbody tr th:only-of-type {\n",
              "        vertical-align: middle;\n",
              "    }\n",
              "\n",
              "    .dataframe tbody tr th {\n",
              "        vertical-align: top;\n",
              "    }\n",
              "\n",
              "    .dataframe thead th {\n",
              "        text-align: right;\n",
              "    }\n",
              "</style>\n",
              "<table border=\"1\" class=\"dataframe\">\n",
              "  <thead>\n",
              "    <tr style=\"text-align: right;\">\n",
              "      <th></th>\n",
              "      <th>tweets</th>\n",
              "      <th>cleaned_tweets</th>\n",
              "      <th>date_clean</th>\n",
              "    </tr>\n",
              "  </thead>\n",
              "  <tbody>\n",
              "    <tr>\n",
              "      <th>0</th>\n",
              "      <td>My favorite project is DogeCola, they will soo...</td>\n",
              "      <td>favorite project dogecola soon release collect...</td>\n",
              "      <td>2022-03-07</td>\n",
              "    </tr>\n",
              "    <tr>\n",
              "      <th>1</th>\n",
              "      <td>Best time to buy bitcoin right now</td>\n",
              "      <td>best time buy bitcoin right</td>\n",
              "      <td>2021-07-19</td>\n",
              "    </tr>\n",
              "    <tr>\n",
              "      <th>2</th>\n",
              "      <td>Pi Network is booming platform, Always with my...</td>\n",
              "      <td>pi network booming platform always loveable su...</td>\n",
              "      <td>2022-04-15</td>\n",
              "    </tr>\n",
              "    <tr>\n",
              "      <th>3</th>\n",
              "      <td>It takes time to start trusting a human being....</td>\n",
              "      <td>take time start trusting human bitcoin nature ...</td>\n",
              "      <td>2021-08-18</td>\n",
              "    </tr>\n",
              "    <tr>\n",
              "      <th>4</th>\n",
              "      <td>4/ $KAR | What I'm mostly interested in is the...</td>\n",
              "      <td>kar mostly interested initial lp incentive pro...</td>\n",
              "      <td>2021-07-29</td>\n",
              "    </tr>\n",
              "  </tbody>\n",
              "</table>\n",
              "</div>\n",
              "      <button class=\"colab-df-convert\" onclick=\"convertToInteractive('df-aeadeab2-767f-431f-b399-bc1a592358bc')\"\n",
              "              title=\"Convert this dataframe to an interactive table.\"\n",
              "              style=\"display:none;\">\n",
              "        \n",
              "  <svg xmlns=\"http://www.w3.org/2000/svg\" height=\"24px\"viewBox=\"0 0 24 24\"\n",
              "       width=\"24px\">\n",
              "    <path d=\"M0 0h24v24H0V0z\" fill=\"none\"/>\n",
              "    <path d=\"M18.56 5.44l.94 2.06.94-2.06 2.06-.94-2.06-.94-.94-2.06-.94 2.06-2.06.94zm-11 1L8.5 8.5l.94-2.06 2.06-.94-2.06-.94L8.5 2.5l-.94 2.06-2.06.94zm10 10l.94 2.06.94-2.06 2.06-.94-2.06-.94-.94-2.06-.94 2.06-2.06.94z\"/><path d=\"M17.41 7.96l-1.37-1.37c-.4-.4-.92-.59-1.43-.59-.52 0-1.04.2-1.43.59L10.3 9.45l-7.72 7.72c-.78.78-.78 2.05 0 2.83L4 21.41c.39.39.9.59 1.41.59.51 0 1.02-.2 1.41-.59l7.78-7.78 2.81-2.81c.8-.78.8-2.07 0-2.86zM5.41 20L4 18.59l7.72-7.72 1.47 1.35L5.41 20z\"/>\n",
              "  </svg>\n",
              "      </button>\n",
              "      \n",
              "  <style>\n",
              "    .colab-df-container {\n",
              "      display:flex;\n",
              "      flex-wrap:wrap;\n",
              "      gap: 12px;\n",
              "    }\n",
              "\n",
              "    .colab-df-convert {\n",
              "      background-color: #E8F0FE;\n",
              "      border: none;\n",
              "      border-radius: 50%;\n",
              "      cursor: pointer;\n",
              "      display: none;\n",
              "      fill: #1967D2;\n",
              "      height: 32px;\n",
              "      padding: 0 0 0 0;\n",
              "      width: 32px;\n",
              "    }\n",
              "\n",
              "    .colab-df-convert:hover {\n",
              "      background-color: #E2EBFA;\n",
              "      box-shadow: 0px 1px 2px rgba(60, 64, 67, 0.3), 0px 1px 3px 1px rgba(60, 64, 67, 0.15);\n",
              "      fill: #174EA6;\n",
              "    }\n",
              "\n",
              "    [theme=dark] .colab-df-convert {\n",
              "      background-color: #3B4455;\n",
              "      fill: #D2E3FC;\n",
              "    }\n",
              "\n",
              "    [theme=dark] .colab-df-convert:hover {\n",
              "      background-color: #434B5C;\n",
              "      box-shadow: 0px 1px 3px 1px rgba(0, 0, 0, 0.15);\n",
              "      filter: drop-shadow(0px 1px 2px rgba(0, 0, 0, 0.3));\n",
              "      fill: #FFFFFF;\n",
              "    }\n",
              "  </style>\n",
              "\n",
              "      <script>\n",
              "        const buttonEl =\n",
              "          document.querySelector('#df-aeadeab2-767f-431f-b399-bc1a592358bc button.colab-df-convert');\n",
              "        buttonEl.style.display =\n",
              "          google.colab.kernel.accessAllowed ? 'block' : 'none';\n",
              "\n",
              "        async function convertToInteractive(key) {\n",
              "          const element = document.querySelector('#df-aeadeab2-767f-431f-b399-bc1a592358bc');\n",
              "          const dataTable =\n",
              "            await google.colab.kernel.invokeFunction('convertToInteractive',\n",
              "                                                     [key], {});\n",
              "          if (!dataTable) return;\n",
              "\n",
              "          const docLinkHtml = 'Like what you see? Visit the ' +\n",
              "            '<a target=\"_blank\" href=https://colab.research.google.com/notebooks/data_table.ipynb>data table notebook</a>'\n",
              "            + ' to learn more about interactive tables.';\n",
              "          element.innerHTML = '';\n",
              "          dataTable['output_type'] = 'display_data';\n",
              "          await google.colab.output.renderOutput(dataTable, element);\n",
              "          const docLink = document.createElement('div');\n",
              "          docLink.innerHTML = docLinkHtml;\n",
              "          element.appendChild(docLink);\n",
              "        }\n",
              "      </script>\n",
              "    </div>\n",
              "  </div>\n",
              "  "
            ]
          },
          "metadata": {},
          "execution_count": 50
        }
      ],
      "source": [
        "df['cleaned_tweets'] = df['tweets'].apply(cleaning)\n",
        "df['date'] = df_tweets_clean['date']\n",
        "df['date_clean'] = pd.to_datetime(df['date']).dt.strftime('%Y-%m-%d')\n",
        "df.drop(columns='date',inplace=True)\n",
        "df.head()"
      ]
    },
    {
      "cell_type": "markdown",
      "source": [
        "**Using TextBlob library to get subjectivity and polarity**"
      ],
      "metadata": {
        "id": "Nuk1nkhMrzf6"
      }
    },
    {
      "cell_type": "code",
      "execution_count": 51,
      "metadata": {
        "id": "KUSkiza8FP1c"
      },
      "outputs": [],
      "source": [
        "def getSubjectivity(tweet):\n",
        "    return TextBlob(tweet).sentiment.subjectivity\n",
        "\n",
        "def getPolarity(tweet):\n",
        "    return TextBlob(tweet).sentiment.polarity"
      ]
    },
    {
      "cell_type": "code",
      "execution_count": 52,
      "metadata": {
        "colab": {
          "base_uri": "https://localhost:8080/",
          "height": 206
        },
        "id": "nzODl5UgFdXP",
        "outputId": "d693a622-f4be-437b-8b32-9579b37cc7c3"
      },
      "outputs": [
        {
          "output_type": "execute_result",
          "data": {
            "text/plain": [
              "                                              tweets  \\\n",
              "0  My favorite project is DogeCola, they will soo...   \n",
              "1                 Best time to buy bitcoin right now   \n",
              "2  Pi Network is booming platform, Always with my...   \n",
              "3  It takes time to start trusting a human being....   \n",
              "4  4/ $KAR | What I'm mostly interested in is the...   \n",
              "\n",
              "                                      cleaned_tweets  date_clean  \\\n",
              "0  favorite project dogecola soon release collect...  2022-03-07   \n",
              "1                        best time buy bitcoin right  2021-07-19   \n",
              "2  pi network booming platform always loveable su...  2022-04-15   \n",
              "3  take time start trusting human bitcoin nature ...  2021-08-18   \n",
              "4  kar mostly interested initial lp incentive pro...  2021-07-29   \n",
              "\n",
              "   subjectivity  polarity  \n",
              "0      1.000000  0.500000  \n",
              "1      0.417857  0.642857  \n",
              "2      0.100000  0.000000  \n",
              "3      0.616667  0.136667  \n",
              "4      0.470833  0.258333  "
            ],
            "text/html": [
              "\n",
              "  <div id=\"df-881689d7-0627-43e3-9749-47ce49717d56\">\n",
              "    <div class=\"colab-df-container\">\n",
              "      <div>\n",
              "<style scoped>\n",
              "    .dataframe tbody tr th:only-of-type {\n",
              "        vertical-align: middle;\n",
              "    }\n",
              "\n",
              "    .dataframe tbody tr th {\n",
              "        vertical-align: top;\n",
              "    }\n",
              "\n",
              "    .dataframe thead th {\n",
              "        text-align: right;\n",
              "    }\n",
              "</style>\n",
              "<table border=\"1\" class=\"dataframe\">\n",
              "  <thead>\n",
              "    <tr style=\"text-align: right;\">\n",
              "      <th></th>\n",
              "      <th>tweets</th>\n",
              "      <th>cleaned_tweets</th>\n",
              "      <th>date_clean</th>\n",
              "      <th>subjectivity</th>\n",
              "      <th>polarity</th>\n",
              "    </tr>\n",
              "  </thead>\n",
              "  <tbody>\n",
              "    <tr>\n",
              "      <th>0</th>\n",
              "      <td>My favorite project is DogeCola, they will soo...</td>\n",
              "      <td>favorite project dogecola soon release collect...</td>\n",
              "      <td>2022-03-07</td>\n",
              "      <td>1.000000</td>\n",
              "      <td>0.500000</td>\n",
              "    </tr>\n",
              "    <tr>\n",
              "      <th>1</th>\n",
              "      <td>Best time to buy bitcoin right now</td>\n",
              "      <td>best time buy bitcoin right</td>\n",
              "      <td>2021-07-19</td>\n",
              "      <td>0.417857</td>\n",
              "      <td>0.642857</td>\n",
              "    </tr>\n",
              "    <tr>\n",
              "      <th>2</th>\n",
              "      <td>Pi Network is booming platform, Always with my...</td>\n",
              "      <td>pi network booming platform always loveable su...</td>\n",
              "      <td>2022-04-15</td>\n",
              "      <td>0.100000</td>\n",
              "      <td>0.000000</td>\n",
              "    </tr>\n",
              "    <tr>\n",
              "      <th>3</th>\n",
              "      <td>It takes time to start trusting a human being....</td>\n",
              "      <td>take time start trusting human bitcoin nature ...</td>\n",
              "      <td>2021-08-18</td>\n",
              "      <td>0.616667</td>\n",
              "      <td>0.136667</td>\n",
              "    </tr>\n",
              "    <tr>\n",
              "      <th>4</th>\n",
              "      <td>4/ $KAR | What I'm mostly interested in is the...</td>\n",
              "      <td>kar mostly interested initial lp incentive pro...</td>\n",
              "      <td>2021-07-29</td>\n",
              "      <td>0.470833</td>\n",
              "      <td>0.258333</td>\n",
              "    </tr>\n",
              "  </tbody>\n",
              "</table>\n",
              "</div>\n",
              "      <button class=\"colab-df-convert\" onclick=\"convertToInteractive('df-881689d7-0627-43e3-9749-47ce49717d56')\"\n",
              "              title=\"Convert this dataframe to an interactive table.\"\n",
              "              style=\"display:none;\">\n",
              "        \n",
              "  <svg xmlns=\"http://www.w3.org/2000/svg\" height=\"24px\"viewBox=\"0 0 24 24\"\n",
              "       width=\"24px\">\n",
              "    <path d=\"M0 0h24v24H0V0z\" fill=\"none\"/>\n",
              "    <path d=\"M18.56 5.44l.94 2.06.94-2.06 2.06-.94-2.06-.94-.94-2.06-.94 2.06-2.06.94zm-11 1L8.5 8.5l.94-2.06 2.06-.94-2.06-.94L8.5 2.5l-.94 2.06-2.06.94zm10 10l.94 2.06.94-2.06 2.06-.94-2.06-.94-.94-2.06-.94 2.06-2.06.94z\"/><path d=\"M17.41 7.96l-1.37-1.37c-.4-.4-.92-.59-1.43-.59-.52 0-1.04.2-1.43.59L10.3 9.45l-7.72 7.72c-.78.78-.78 2.05 0 2.83L4 21.41c.39.39.9.59 1.41.59.51 0 1.02-.2 1.41-.59l7.78-7.78 2.81-2.81c.8-.78.8-2.07 0-2.86zM5.41 20L4 18.59l7.72-7.72 1.47 1.35L5.41 20z\"/>\n",
              "  </svg>\n",
              "      </button>\n",
              "      \n",
              "  <style>\n",
              "    .colab-df-container {\n",
              "      display:flex;\n",
              "      flex-wrap:wrap;\n",
              "      gap: 12px;\n",
              "    }\n",
              "\n",
              "    .colab-df-convert {\n",
              "      background-color: #E8F0FE;\n",
              "      border: none;\n",
              "      border-radius: 50%;\n",
              "      cursor: pointer;\n",
              "      display: none;\n",
              "      fill: #1967D2;\n",
              "      height: 32px;\n",
              "      padding: 0 0 0 0;\n",
              "      width: 32px;\n",
              "    }\n",
              "\n",
              "    .colab-df-convert:hover {\n",
              "      background-color: #E2EBFA;\n",
              "      box-shadow: 0px 1px 2px rgba(60, 64, 67, 0.3), 0px 1px 3px 1px rgba(60, 64, 67, 0.15);\n",
              "      fill: #174EA6;\n",
              "    }\n",
              "\n",
              "    [theme=dark] .colab-df-convert {\n",
              "      background-color: #3B4455;\n",
              "      fill: #D2E3FC;\n",
              "    }\n",
              "\n",
              "    [theme=dark] .colab-df-convert:hover {\n",
              "      background-color: #434B5C;\n",
              "      box-shadow: 0px 1px 3px 1px rgba(0, 0, 0, 0.15);\n",
              "      filter: drop-shadow(0px 1px 2px rgba(0, 0, 0, 0.3));\n",
              "      fill: #FFFFFF;\n",
              "    }\n",
              "  </style>\n",
              "\n",
              "      <script>\n",
              "        const buttonEl =\n",
              "          document.querySelector('#df-881689d7-0627-43e3-9749-47ce49717d56 button.colab-df-convert');\n",
              "        buttonEl.style.display =\n",
              "          google.colab.kernel.accessAllowed ? 'block' : 'none';\n",
              "\n",
              "        async function convertToInteractive(key) {\n",
              "          const element = document.querySelector('#df-881689d7-0627-43e3-9749-47ce49717d56');\n",
              "          const dataTable =\n",
              "            await google.colab.kernel.invokeFunction('convertToInteractive',\n",
              "                                                     [key], {});\n",
              "          if (!dataTable) return;\n",
              "\n",
              "          const docLinkHtml = 'Like what you see? Visit the ' +\n",
              "            '<a target=\"_blank\" href=https://colab.research.google.com/notebooks/data_table.ipynb>data table notebook</a>'\n",
              "            + ' to learn more about interactive tables.';\n",
              "          element.innerHTML = '';\n",
              "          dataTable['output_type'] = 'display_data';\n",
              "          await google.colab.output.renderOutput(dataTable, element);\n",
              "          const docLink = document.createElement('div');\n",
              "          docLink.innerHTML = docLinkHtml;\n",
              "          element.appendChild(docLink);\n",
              "        }\n",
              "      </script>\n",
              "    </div>\n",
              "  </div>\n",
              "  "
            ]
          },
          "metadata": {},
          "execution_count": 52
        }
      ],
      "source": [
        "df['subjectivity'] = df['cleaned_tweets'].apply(getSubjectivity)\n",
        "df['polarity'] = df['cleaned_tweets'].apply(getPolarity)\n",
        "df.head()"
      ]
    },
    {
      "cell_type": "code",
      "execution_count": 53,
      "metadata": {
        "colab": {
          "base_uri": "https://localhost:8080/",
          "height": 610
        },
        "id": "q43ZIwjDF1Zq",
        "outputId": "c4460452-24a2-4c96-ff74-fa2aea0324db"
      },
      "outputs": [
        {
          "output_type": "execute_result",
          "data": {
            "text/plain": [
              "<matplotlib.axes._subplots.AxesSubplot at 0x7fc2cf58ea10>"
            ]
          },
          "metadata": {},
          "execution_count": 53
        },
        {
          "output_type": "display_data",
          "data": {
            "text/plain": [
              "<Figure size 1080x720 with 1 Axes>"
            ],
            "image/png": "[encoded data removed]"
          },
          "metadata": {
            "needs_background": "light"
          }
        }
      ],
      "source": [
        "df[['subjectivity', 'polarity']].plot.density(figsize=(15,10))"
      ]
    },
    {
      "cell_type": "markdown",
      "source": [
        "**Calculate the theoretical sentiment analysis on the price of Bitcoin over time**"
      ],
      "metadata": {
        "id": "P0VPAu3ts9ys"
      }
    },
    {
      "cell_type": "code",
      "execution_count": 54,
      "metadata": {
        "id": "gydRtPP8FUfV"
      },
      "outputs": [],
      "source": [
        "def theoricalSentiment(score):\n",
        "    if score < 1:\n",
        "        return 'negative'\n",
        "    elif score == 1:\n",
        "        return 'neutral'\n",
        "    else:\n",
        "        return 'positive'\n",
        "\n",
        "def observePeriod(period):\n",
        "    res = crypto_usd_grouped.shift(period)/crypto_usd_grouped\n",
        "    res = res.apply(theoricalSentiment)\n",
        "    return res \n",
        "\n",
        "time_sentiment = observePeriod(7) # compare price ratio in 7 days. price_7_days_later/ price_now \n",
        "df['crypto_sentiment'] = df.date_clean.apply(lambda x: time_sentiment[x] if x in time_sentiment else np.nan)"
      ]
    },
    {
      "cell_type": "code",
      "execution_count": 55,
      "metadata": {
        "colab": {
          "base_uri": "https://localhost:8080/"
        },
        "id": "cr0pO_nOFn4W",
        "outputId": "43324094-9207-4e96-bccf-fc35c49ca8d4"
      },
      "outputs": [
        {
          "output_type": "execute_result",
          "data": {
            "text/plain": [
              "negative    11650\n",
              "positive    10707\n",
              "Name: crypto_sentiment, dtype: int64"
            ]
          },
          "metadata": {},
          "execution_count": 55
        }
      ],
      "source": [
        "df.crypto_sentiment.value_counts()"
      ]
    },
    {
      "cell_type": "code",
      "execution_count": 56,
      "metadata": {
        "id": "SWknzS-mHN86"
      },
      "outputs": [],
      "source": [
        "# Checking correspondence between theorical and TextBlob sentiment Analysis\n",
        "\n",
        "def getSentiment(score):\n",
        "    if score < 0:\n",
        "        return 'negative'\n",
        "    elif score == 0:\n",
        "        return 'neutral'\n",
        "    else:\n",
        "        return 'positive'\n",
        "\n",
        "df['sentiment'] = df['polarity'].apply(getSentiment)\n",
        "df['target'] = df['sentiment'] == df['crypto_sentiment']\n",
        "\n",
        "df.to_csv('./df_data.csv')"
      ]
    },
    {
      "cell_type": "markdown",
      "source": [
        "Target will be the fearture representing if a tweet will or not have an impact on Bitcoin price. Indeed, not all the tweets concerning Bitcoin have an impact on it."
      ],
      "metadata": {
        "id": "Zn44rpe10h8Y"
      }
    },
    {
      "cell_type": "markdown",
      "source": [
        "### b. Models"
      ],
      "metadata": {
        "id": "4kgPxa3s35W0"
      }
    },
    {
      "cell_type": "code",
      "execution_count": 57,
      "metadata": {
        "id": "MnqeAa5lHYBu"
      },
      "outputs": [],
      "source": [
        "import tensorflow as tf\n",
        "import tensorflow.keras.backend as K\n",
        "from tensorflow.keras.preprocessing.text import Tokenizer\n",
        "from tensorflow.keras.preprocessing.sequence import pad_sequences\n",
        "import tensorflow.keras.layers as Layers\n",
        "from tensorflow.keras.models import Sequential\n",
        "from tensorflow.keras.losses import SparseCategoricalCrossentropy\n",
        "from tensorflow.keras.optimizers import Adam\n",
        "from tensorflow.keras.layers import Dense, Dropout, Embedding, LSTM, Conv1D, GlobalMaxPooling1D, Bidirectional, SpatialDropout1D, MaxPooling1D\n",
        "from tensorflow.keras.models import load_model\n",
        "\n",
        "from tensorflow.keras.metrics import Precision, Recall\n",
        "from tensorflow.keras.optimizers import SGD\n",
        "from tensorflow.keras.optimizers import RMSprop\n",
        "from tensorflow.keras import datasets\n",
        "from tensorflow.keras.callbacks import LearningRateScheduler\n",
        "from tensorflow.keras.callbacks import History\n",
        "from tensorflow.keras import losses\n",
        "\n",
        "from sklearn.model_selection import train_test_split\n",
        "from sklearn.metrics import accuracy_score\n",
        "from sklearn.metrics import confusion_matrix\n",
        "from sklearn.metrics import classification_report"
      ]
    },
    {
      "cell_type": "markdown",
      "source": [
        "#### ***1. First naive model***"
      ],
      "metadata": {
        "id": "3D7Yv6297u7y"
      }
    },
    {
      "cell_type": "code",
      "source": [
        "df = pd.read_csv('./df_data.csv')"
      ],
      "metadata": {
        "id": "XL7C7OKY5q9v"
      },
      "execution_count": 58,
      "outputs": []
    },
    {
      "cell_type": "code",
      "execution_count": 59,
      "metadata": {
        "colab": {
          "base_uri": "https://localhost:8080/",
          "height": 337
        },
        "id": "LSxh3c_jHYr7",
        "outputId": "991eb7fd-d7e3-4062-8a29-d9b2cea69553"
      },
      "outputs": [
        {
          "output_type": "execute_result",
          "data": {
            "text/plain": [
              "   Unnamed: 0                                             tweets  \\\n",
              "0           0  My favorite project is DogeCola, they will soo...   \n",
              "1           1                 Best time to buy bitcoin right now   \n",
              "2           2  Pi Network is booming platform, Always with my...   \n",
              "3           3  It takes time to start trusting a human being....   \n",
              "4           4  4/ $KAR | What I'm mostly interested in is the...   \n",
              "\n",
              "                                      cleaned_tweets  date_clean  \\\n",
              "0  favorite project dogecola soon release collect...  2022-03-07   \n",
              "1                        best time buy bitcoin right  2021-07-19   \n",
              "2  pi network booming platform always loveable su...  2022-04-15   \n",
              "3  take time start trusting human bitcoin nature ...  2021-08-18   \n",
              "4  kar mostly interested initial lp incentive pro...  2021-07-29   \n",
              "\n",
              "   subjectivity  polarity crypto_sentiment sentiment  target  \n",
              "0      1.000000  0.500000              NaN  positive   False  \n",
              "1      0.417857  0.642857         positive  positive    True  \n",
              "2      0.100000  0.000000              NaN   neutral   False  \n",
              "3      0.616667  0.136667         positive  positive    True  \n",
              "4      0.470833  0.258333         negative  positive   False  "
            ],
            "text/html": [
              "\n",
              "  <div id=\"df-db421388-6e71-4efa-8664-cf7997b6cab3\">\n",
              "    <div class=\"colab-df-container\">\n",
              "      <div>\n",
              "<style scoped>\n",
              "    .dataframe tbody tr th:only-of-type {\n",
              "        vertical-align: middle;\n",
              "    }\n",
              "\n",
              "    .dataframe tbody tr th {\n",
              "        vertical-align: top;\n",
              "    }\n",
              "\n",
              "    .dataframe thead th {\n",
              "        text-align: right;\n",
              "    }\n",
              "</style>\n",
              "<table border=\"1\" class=\"dataframe\">\n",
              "  <thead>\n",
              "    <tr style=\"text-align: right;\">\n",
              "      <th></th>\n",
              "      <th>Unnamed: 0</th>\n",
              "      <th>tweets</th>\n",
              "      <th>cleaned_tweets</th>\n",
              "      <th>date_clean</th>\n",
              "      <th>subjectivity</th>\n",
              "      <th>polarity</th>\n",
              "      <th>crypto_sentiment</th>\n",
              "      <th>sentiment</th>\n",
              "      <th>target</th>\n",
              "    </tr>\n",
              "  </thead>\n",
              "  <tbody>\n",
              "    <tr>\n",
              "      <th>0</th>\n",
              "      <td>0</td>\n",
              "      <td>My favorite project is DogeCola, they will soo...</td>\n",
              "      <td>favorite project dogecola soon release collect...</td>\n",
              "      <td>2022-03-07</td>\n",
              "      <td>1.000000</td>\n",
              "      <td>0.500000</td>\n",
              "      <td>NaN</td>\n",
              "      <td>positive</td>\n",
              "      <td>False</td>\n",
              "    </tr>\n",
              "    <tr>\n",
              "      <th>1</th>\n",
              "      <td>1</td>\n",
              "      <td>Best time to buy bitcoin right now</td>\n",
              "      <td>best time buy bitcoin right</td>\n",
              "      <td>2021-07-19</td>\n",
              "      <td>0.417857</td>\n",
              "      <td>0.642857</td>\n",
              "      <td>positive</td>\n",
              "      <td>positive</td>\n",
              "      <td>True</td>\n",
              "    </tr>\n",
              "    <tr>\n",
              "      <th>2</th>\n",
              "      <td>2</td>\n",
              "      <td>Pi Network is booming platform, Always with my...</td>\n",
              "      <td>pi network booming platform always loveable su...</td>\n",
              "      <td>2022-04-15</td>\n",
              "      <td>0.100000</td>\n",
              "      <td>0.000000</td>\n",
              "      <td>NaN</td>\n",
              "      <td>neutral</td>\n",
              "      <td>False</td>\n",
              "    </tr>\n",
              "    <tr>\n",
              "      <th>3</th>\n",
              "      <td>3</td>\n",
              "      <td>It takes time to start trusting a human being....</td>\n",
              "      <td>take time start trusting human bitcoin nature ...</td>\n",
              "      <td>2021-08-18</td>\n",
              "      <td>0.616667</td>\n",
              "      <td>0.136667</td>\n",
              "      <td>positive</td>\n",
              "      <td>positive</td>\n",
              "      <td>True</td>\n",
              "    </tr>\n",
              "    <tr>\n",
              "      <th>4</th>\n",
              "      <td>4</td>\n",
              "      <td>4/ $KAR | What I'm mostly interested in is the...</td>\n",
              "      <td>kar mostly interested initial lp incentive pro...</td>\n",
              "      <td>2021-07-29</td>\n",
              "      <td>0.470833</td>\n",
              "      <td>0.258333</td>\n",
              "      <td>negative</td>\n",
              "      <td>positive</td>\n",
              "      <td>False</td>\n",
              "    </tr>\n",
              "  </tbody>\n",
              "</table>\n",
              "</div>\n",
              "      <button class=\"colab-df-convert\" onclick=\"convertToInteractive('df-db421388-6e71-4efa-8664-cf7997b6cab3')\"\n",
              "              title=\"Convert this dataframe to an interactive table.\"\n",
              "              style=\"display:none;\">\n",
              "        \n",
              "  <svg xmlns=\"http://www.w3.org/2000/svg\" height=\"24px\"viewBox=\"0 0 24 24\"\n",
              "       width=\"24px\">\n",
              "    <path d=\"M0 0h24v24H0V0z\" fill=\"none\"/>\n",
              "    <path d=\"M18.56 5.44l.94 2.06.94-2.06 2.06-.94-2.06-.94-.94-2.06-.94 2.06-2.06.94zm-11 1L8.5 8.5l.94-2.06 2.06-.94-2.06-.94L8.5 2.5l-.94 2.06-2.06.94zm10 10l.94 2.06.94-2.06 2.06-.94-2.06-.94-.94-2.06-.94 2.06-2.06.94z\"/><path d=\"M17.41 7.96l-1.37-1.37c-.4-.4-.92-.59-1.43-.59-.52 0-1.04.2-1.43.59L10.3 9.45l-7.72 7.72c-.78.78-.78 2.05 0 2.83L4 21.41c.39.39.9.59 1.41.59.51 0 1.02-.2 1.41-.59l7.78-7.78 2.81-2.81c.8-.78.8-2.07 0-2.86zM5.41 20L4 18.59l7.72-7.72 1.47 1.35L5.41 20z\"/>\n",
              "  </svg>\n",
              "      </button>\n",
              "      \n",
              "  <style>\n",
              "    .colab-df-container {\n",
              "      display:flex;\n",
              "      flex-wrap:wrap;\n",
              "      gap: 12px;\n",
              "    }\n",
              "\n",
              "    .colab-df-convert {\n",
              "      background-color: #E8F0FE;\n",
              "      border: none;\n",
              "      border-radius: 50%;\n",
              "      cursor: pointer;\n",
              "      display: none;\n",
              "      fill: #1967D2;\n",
              "      height: 32px;\n",
              "      padding: 0 0 0 0;\n",
              "      width: 32px;\n",
              "    }\n",
              "\n",
              "    .colab-df-convert:hover {\n",
              "      background-color: #E2EBFA;\n",
              "      box-shadow: 0px 1px 2px rgba(60, 64, 67, 0.3), 0px 1px 3px 1px rgba(60, 64, 67, 0.15);\n",
              "      fill: #174EA6;\n",
              "    }\n",
              "\n",
              "    [theme=dark] .colab-df-convert {\n",
              "      background-color: #3B4455;\n",
              "      fill: #D2E3FC;\n",
              "    }\n",
              "\n",
              "    [theme=dark] .colab-df-convert:hover {\n",
              "      background-color: #434B5C;\n",
              "      box-shadow: 0px 1px 3px 1px rgba(0, 0, 0, 0.15);\n",
              "      filter: drop-shadow(0px 1px 2px rgba(0, 0, 0, 0.3));\n",
              "      fill: #FFFFFF;\n",
              "    }\n",
              "  </style>\n",
              "\n",
              "      <script>\n",
              "        const buttonEl =\n",
              "          document.querySelector('#df-db421388-6e71-4efa-8664-cf7997b6cab3 button.colab-df-convert');\n",
              "        buttonEl.style.display =\n",
              "          google.colab.kernel.accessAllowed ? 'block' : 'none';\n",
              "\n",
              "        async function convertToInteractive(key) {\n",
              "          const element = document.querySelector('#df-db421388-6e71-4efa-8664-cf7997b6cab3');\n",
              "          const dataTable =\n",
              "            await google.colab.kernel.invokeFunction('convertToInteractive',\n",
              "                                                     [key], {});\n",
              "          if (!dataTable) return;\n",
              "\n",
              "          const docLinkHtml = 'Like what you see? Visit the ' +\n",
              "            '<a target=\"_blank\" href=https://colab.research.google.com/notebooks/data_table.ipynb>data table notebook</a>'\n",
              "            + ' to learn more about interactive tables.';\n",
              "          element.innerHTML = '';\n",
              "          dataTable['output_type'] = 'display_data';\n",
              "          await google.colab.output.renderOutput(dataTable, element);\n",
              "          const docLink = document.createElement('div');\n",
              "          docLink.innerHTML = docLinkHtml;\n",
              "          element.appendChild(docLink);\n",
              "        }\n",
              "      </script>\n",
              "    </div>\n",
              "  </div>\n",
              "  "
            ]
          },
          "metadata": {},
          "execution_count": 59
        }
      ],
      "source": [
        "df.head()"
      ]
    },
    {
      "cell_type": "code",
      "execution_count": 60,
      "metadata": {
        "id": "YXP0cEyEJd86"
      },
      "outputs": [],
      "source": [
        "X = df['cleaned_tweets']\n",
        "\n",
        "y = pd.get_dummies(df['sentiment']).values\n",
        "\n",
        "num_classes = df['sentiment'].nunique()"
      ]
    },
    {
      "cell_type": "markdown",
      "source": [
        "**Tokenization, padding**"
      ],
      "metadata": {
        "id": "_As0YRwL4adU"
      }
    },
    {
      "cell_type": "code",
      "source": [
        "max_words = 5000\n",
        "max_len=50\n",
        "\n",
        "def tokenize_pad_sequences(text):\n",
        "    # 1. Text tokenization\n",
        "    tokenizer = Tokenizer(num_words=max_words, lower=True, split=' ')\n",
        "    tokenizer.fit_on_texts(text)\n",
        "    # 2. Transforms text to a sequence of integers\n",
        "    X = tokenizer.texts_to_sequences(text)\n",
        "    # 3. Pad sequences to the same length\n",
        "    X = pad_sequences(X, padding='post', maxlen=max_len)\n",
        "    # 4. Return sequences\n",
        "    return X, tokenizer\n",
        "\n",
        "print('Before Tokenization & Padding \\n', df['cleaned_tweets'][0])\n",
        "X, tokenizer = tokenize_pad_sequences(df['cleaned_tweets'])\n",
        "print('After Tokenization & Padding \\n', X[0])"
      ],
      "metadata": {
        "colab": {
          "base_uri": "https://localhost:8080/"
        },
        "outputId": "2a23d203-83ea-46a0-d7e2-00888321b6e2",
        "id": "SgUqlQn0_om-"
      },
      "execution_count": 61,
      "outputs": [
        {
          "output_type": "stream",
          "name": "stdout",
          "text": [
            "Before Tokenization & Padding \n",
            " favorite project dogecola soon release collection nfts eth bridge drink market yecdfnrhus joqvy boi dogecola dogecolanft nfts nft nftcollection eth ethereum btc bnb kvmwnzvemd\n",
            "After Tokenization & Padding \n",
            " [1171    5  968   83 1050  614   28    4 1155 1426   21  968 2494   28\n",
            "   13  473    4    9    2   11    0    0    0    0    0    0    0    0\n",
            "    0    0    0    0    0    0    0    0    0    0    0    0    0    0\n",
            "    0    0    0    0    0    0    0    0]\n"
          ]
        }
      ]
    },
    {
      "cell_type": "markdown",
      "source": [
        "**Train-test split**"
      ],
      "metadata": {
        "id": "svAO8Ca94BdP"
      }
    },
    {
      "cell_type": "code",
      "execution_count": 62,
      "metadata": {
        "colab": {
          "base_uri": "https://localhost:8080/"
        },
        "id": "GAUUfDdzJjaz",
        "outputId": "565c93d1-16ff-4cf8-9c99-e32fc9a34840"
      },
      "outputs": [
        {
          "output_type": "stream",
          "name": "stdout",
          "text": [
            "Train Set:  (22512, 50) (22512, 3)\n",
            "Test Set:  (5629, 50) (5629, 3)\n"
          ]
        }
      ],
      "source": [
        "seed = 40 # fix random seed for reproducibility\n",
        "\n",
        "np.random.seed(seed)\n",
        "\n",
        "X_train, X_test, y_train, y_test = train_test_split(X, y, \n",
        "                                                    train_size=0.8,\n",
        "                                                    stratify=y,\n",
        "                                                    random_state=seed)\n",
        "\n",
        "print('Train Set: ', X_train.shape, y_train.shape)\n",
        "print('Test Set: ', X_test.shape, y_test.shape)"
      ]
    },
    {
      "cell_type": "code",
      "source": [
        "X_train[:2]"
      ],
      "metadata": {
        "colab": {
          "base_uri": "https://localhost:8080/"
        },
        "id": "vZSi9vWv9ET-",
        "outputId": "3914d78f-e199-4b30-80c1-e2f4bbe58d2f"
      },
      "execution_count": 63,
      "outputs": [
        {
          "output_type": "execute_result",
          "data": {
            "text/plain": [
              "array([[2332,  520,    4,  858, 1150,   35, 3314,  124,    2,  353,    1,\n",
              "           0,    0,    0,    0,    0,    0,    0,    0,    0,    0,    0,\n",
              "           0,    0,    0,    0,    0,    0,    0,    0,    0,    0,    0,\n",
              "           0,    0,    0,    0,    0,    0,    0,    0,    0,    0,    0,\n",
              "           0,    0,    0,    0,    0,    0],\n",
              "       [ 338,  251,  256, 3242,  574,  257, 3967, 1867,  489,    1,  112,\n",
              "        3007,    0,    0,    0,    0,    0,    0,    0,    0,    0,    0,\n",
              "           0,    0,    0,    0,    0,    0,    0,    0,    0,    0,    0,\n",
              "           0,    0,    0,    0,    0,    0,    0,    0,    0,    0,    0,\n",
              "           0,    0,    0,    0,    0,    0]], dtype=int32)"
            ]
          },
          "metadata": {},
          "execution_count": 63
        }
      ]
    },
    {
      "cell_type": "code",
      "source": [
        "y_train[:2]"
      ],
      "metadata": {
        "colab": {
          "base_uri": "https://localhost:8080/"
        },
        "id": "l-zsqFvy9KtW",
        "outputId": "734f6761-b3fe-4518-a566-83309f476d08"
      },
      "execution_count": 64,
      "outputs": [
        {
          "output_type": "execute_result",
          "data": {
            "text/plain": [
              "array([[1, 0, 0],\n",
              "       [0, 0, 1]], dtype=uint8)"
            ]
          },
          "metadata": {},
          "execution_count": 64
        }
      ]
    },
    {
      "cell_type": "markdown",
      "source": [
        "**Model creation**"
      ],
      "metadata": {
        "id": "rbf2kjRt4pYg"
      }
    },
    {
      "cell_type": "code",
      "execution_count": 65,
      "metadata": {
        "colab": {
          "base_uri": "https://localhost:8080/"
        },
        "id": "JE6R-wmoKBOK",
        "outputId": "d03b04c4-ec1e-41f4-e6c5-04841788cd9e"
      },
      "outputs": [
        {
          "output_type": "stream",
          "name": "stdout",
          "text": [
            "Model: \"sequential\"\n",
            "_________________________________________________________________\n",
            " Layer (type)                Output Shape              Param #   \n",
            "=================================================================\n",
            " embedding (Embedding)       (None, 50, 100)           2000000   \n",
            "                                                                 \n",
            " conv1d (Conv1D)             (None, 50, 32)            9632      \n",
            "                                                                 \n",
            " max_pooling1d (MaxPooling1D  (None, 25, 32)           0         \n",
            " )                                                               \n",
            "                                                                 \n",
            " lstm (LSTM)                 (None, 100)               53200     \n",
            "                                                                 \n",
            " dense (Dense)               (None, 3)                 303       \n",
            "                                                                 \n",
            "=================================================================\n",
            "Total params: 2,063,135\n",
            "Trainable params: 2,063,135\n",
            "Non-trainable params: 0\n",
            "_________________________________________________________________\n"
          ]
        }
      ],
      "source": [
        "batch_size = 128\n",
        "epochs = 10\n",
        "\n",
        "max_features = 20000\n",
        "embed_dim = 100\n",
        "\n",
        "np.random.seed(seed)\n",
        "K.clear_session()\n",
        "model_1 = Sequential()\n",
        "model_1.add(Embedding(max_features, embed_dim, input_length=X_train.shape[1]))\n",
        "model_1.add(Conv1D(filters=32, kernel_size=3, padding='same', activation='relu'))\n",
        "model_1.add(MaxPooling1D(pool_size=2))\n",
        "model_1.add(LSTM(100, dropout=0.2, recurrent_dropout=0.2))\n",
        "model_1.add(Dense(num_classes, activation='softmax'))\n",
        "model_1.compile(loss='categorical_crossentropy', optimizer='adam', metrics=['accuracy'])\n",
        "model_1.summary()"
      ]
    },
    {
      "cell_type": "markdown",
      "source": [
        "**Model fitting**"
      ],
      "metadata": {
        "id": "Ip12xo9Q5JGU"
      }
    },
    {
      "cell_type": "code",
      "execution_count": 66,
      "metadata": {
        "colab": {
          "base_uri": "https://localhost:8080/"
        },
        "id": "P-5bsDM7KReG",
        "outputId": "69ad891f-79b6-451f-9054-bf0c3c13ec42"
      },
      "outputs": [
        {
          "output_type": "stream",
          "name": "stdout",
          "text": [
            "Epoch 1/10\n",
            "176/176 - 23s - loss: 0.6711 - accuracy: 0.6975 - val_loss: 0.3566 - val_accuracy: 0.8645 - 23s/epoch - 129ms/step\n",
            "Epoch 2/10\n",
            "176/176 - 19s - loss: 0.2874 - accuracy: 0.9005 - val_loss: 0.2440 - val_accuracy: 0.9286 - 19s/epoch - 107ms/step\n",
            "Epoch 3/10\n",
            "176/176 - 19s - loss: 0.1607 - accuracy: 0.9540 - val_loss: 0.2165 - val_accuracy: 0.9456 - 19s/epoch - 106ms/step\n",
            "Epoch 4/10\n",
            "176/176 - 20s - loss: 0.1053 - accuracy: 0.9720 - val_loss: 0.1922 - val_accuracy: 0.9517 - 20s/epoch - 111ms/step\n",
            "Epoch 5/10\n",
            "176/176 - 19s - loss: 0.0747 - accuracy: 0.9797 - val_loss: 0.2009 - val_accuracy: 0.9510 - 19s/epoch - 107ms/step\n",
            "Epoch 6/10\n",
            "176/176 - 19s - loss: 0.0597 - accuracy: 0.9850 - val_loss: 0.2154 - val_accuracy: 0.9483 - 19s/epoch - 106ms/step\n",
            "Epoch 7/10\n",
            "176/176 - 19s - loss: 0.0526 - accuracy: 0.9875 - val_loss: 0.2224 - val_accuracy: 0.9472 - 19s/epoch - 108ms/step\n",
            "Epoch 8/10\n",
            "176/176 - 19s - loss: 0.0420 - accuracy: 0.9894 - val_loss: 0.2416 - val_accuracy: 0.9492 - 19s/epoch - 106ms/step\n",
            "Epoch 9/10\n",
            "176/176 - 20s - loss: 0.0454 - accuracy: 0.9882 - val_loss: 0.2269 - val_accuracy: 0.9529 - 20s/epoch - 114ms/step\n",
            "Epoch 10/10\n",
            "176/176 - 19s - loss: 0.0347 - accuracy: 0.9922 - val_loss: 0.2618 - val_accuracy: 0.9506 - 19s/epoch - 106ms/step\n"
          ]
        }
      ],
      "source": [
        "history = model_1.fit(X_train, y_train, validation_data=(X_test, y_test), \n",
        "                          epochs=epochs, batch_size=batch_size, verbose=2)"
      ]
    },
    {
      "cell_type": "markdown",
      "source": [
        "**Model evaluation**"
      ],
      "metadata": {
        "id": "ALIXf9_35NYI"
      }
    },
    {
      "cell_type": "code",
      "execution_count": 67,
      "metadata": {
        "colab": {
          "base_uri": "https://localhost:8080/",
          "height": 295
        },
        "id": "5gISJjBqK2Sg",
        "outputId": "0e0e5364-4ef7-4925-ce61-ad1cb029667e"
      },
      "outputs": [
        {
          "output_type": "display_data",
          "data": {
            "text/plain": [
              "<Figure size 720x288 with 2 Axes>"
            ],
            "image/png": "[encoded data removed]"
          },
          "metadata": {
            "needs_background": "light"
          }
        }
      ],
      "source": [
        "# Function to plot history for accuracy and loss\n",
        "\n",
        "def plot_training_hist(history):    \n",
        "    fig, ax = plt.subplots(1,2, figsize=(10,4))\n",
        "    # Accuracy plot\n",
        "    ax[0].plot(history.history['accuracy'])\n",
        "    ax[0].plot(history.history['val_accuracy'])\n",
        "    ax[0].set_title('Model Accuracy')\n",
        "    ax[0].set_xlabel('epoch')\n",
        "    ax[0].set_ylabel('accuracy')\n",
        "    ax[0].legend(['train', 'validation'], loc='best')\n",
        "    \n",
        "    # Loss plot\n",
        "    ax[1].plot(history.history['loss'])\n",
        "    ax[1].plot(history.history['val_loss'])\n",
        "    ax[1].set_title('Model Loss')\n",
        "    ax[1].set_xlabel('epoch')\n",
        "    ax[1].set_ylabel('loss')\n",
        "    ax[1].legend(['train', 'validation'], loc='best')\n",
        "    \n",
        "plot_training_hist(history)"
      ]
    },
    {
      "cell_type": "code",
      "execution_count": 68,
      "metadata": {
        "colab": {
          "base_uri": "https://localhost:8080/"
        },
        "id": "2c8dkm-qLBho",
        "outputId": "9c819772-9ac0-4cbb-f235-39b78d89a591"
      },
      "outputs": [
        {
          "output_type": "stream",
          "name": "stdout",
          "text": [
            "Accuracy:\t95.1%\n",
            "              precision    recall  f1-score   support\n",
            "\n",
            "           0       0.90      0.79      0.84       603\n",
            "           1       0.95      0.97      0.96      2247\n",
            "           2       0.96      0.97      0.97      2779\n",
            "\n",
            "    accuracy                           0.95      5629\n",
            "   macro avg       0.94      0.91      0.92      5629\n",
            "weighted avg       0.95      0.95      0.95      5629\n",
            "\n"
          ]
        }
      ],
      "source": [
        "# Predict class with test set\n",
        "\n",
        "y_pred_test =  np.argmax(model_1.predict(X_test), axis=1)\n",
        "print(f'Accuracy:\\t{accuracy_score(np.argmax(y_test,axis=1),y_pred_test)*100:0.1f}%')\n",
        "print(classification_report(np.argmax(y_test,axis=1), y_pred_test))"
      ]
    },
    {
      "cell_type": "code",
      "execution_count": 69,
      "metadata": {
        "colab": {
          "base_uri": "https://localhost:8080/",
          "height": 552
        },
        "id": "mNlXD9G9LJp5",
        "outputId": "d65a63b1-8680-4213-c7a5-6861187f5026"
      },
      "outputs": [
        {
          "output_type": "stream",
          "name": "stdout",
          "text": [
            "2    2779\n",
            "1    2247\n",
            "0     603\n",
            "dtype: int64\n",
            "2    2785\n",
            "1    2313\n",
            "0     531\n",
            "dtype: int64\n"
          ]
        },
        {
          "output_type": "display_data",
          "data": {
            "text/plain": [
              "<Figure size 576x432 with 2 Axes>"
            ],
            "image/png": "[encoded data removed]"
          },
          "metadata": {
            "needs_background": "light"
          }
        }
      ],
      "source": [
        "# Function to plot confusion matrix\n",
        "\n",
        "def plot_confusion_matrix(model, X_test, y_test):\n",
        "    sentiment_classes = ['Negative','Neutral', 'Positive']\n",
        "    # use model to do the prediction\n",
        "    y_pred = model_1.predict(X_test)\n",
        "    # compute confusion matrix\n",
        "    cm = confusion_matrix(np.argmax(y_pred, axis=1),np.argmax(np.array(y_test),axis=1))\n",
        "    \n",
        "    print(pd.Series(np.argmax(np.array(y_test),axis=1)).value_counts())\n",
        "    print(pd.Series(np.argmax(y_pred, axis=1)).value_counts())\n",
        "    \n",
        "    # plot confusion matrix\n",
        "    plt.figure(figsize=(8,6))\n",
        "    sns.heatmap(cm, cmap=plt.cm.Blues, annot=True, fmt='d', \n",
        "                xticklabels=sentiment_classes,\n",
        "                yticklabels=sentiment_classes)\n",
        "    plt.title('Confusion matrix', fontsize=16)\n",
        "    plt.xlabel('Actual label', fontsize=12)\n",
        "    plt.ylabel('Predicted label', fontsize=12)\n",
        "    \n",
        "plot_confusion_matrix(model_1, X_test, y_test)"
      ]
    },
    {
      "cell_type": "markdown",
      "source": [
        "#### ***2. Second model***"
      ],
      "metadata": {
        "id": "GiGeH6LhjNX2"
      }
    },
    {
      "cell_type": "markdown",
      "source": [
        "**Tokenizatin and padding using the same function computed above**"
      ],
      "metadata": {
        "id": "Vf-2sRV48Rpd"
      }
    },
    {
      "cell_type": "code",
      "source": [
        "max_words = 5000\n",
        "max_len=50\n",
        "\n",
        "print('Before Tokenization & Padding \\n', df['cleaned_tweets'][0])\n",
        "\n",
        "X, tokenizer = tokenize_pad_sequences(df['cleaned_tweets'])\n",
        "\n",
        "print('After Tokenization & Padding \\n', X[0])"
      ],
      "metadata": {
        "colab": {
          "base_uri": "https://localhost:8080/"
        },
        "id": "Rt4YIzaXjL4P",
        "outputId": "0c8aace5-37ec-4424-893d-28a53d6237f2"
      },
      "execution_count": 70,
      "outputs": [
        {
          "output_type": "stream",
          "name": "stdout",
          "text": [
            "Before Tokenization & Padding \n",
            " favorite project dogecola soon release collection nfts eth bridge drink market yecdfnrhus joqvy boi dogecola dogecolanft nfts nft nftcollection eth ethereum btc bnb kvmwnzvemd\n",
            "After Tokenization & Padding \n",
            " [1171    5  968   83 1050  614   28    4 1155 1426   21  968 2494   28\n",
            "   13  473    4    9    2   11    0    0    0    0    0    0    0    0\n",
            "    0    0    0    0    0    0    0    0    0    0    0    0    0    0\n",
            "    0    0    0    0    0    0    0    0]\n"
          ]
        }
      ]
    },
    {
      "cell_type": "code",
      "source": [
        "y = pd.get_dummies(df['sentiment'])\n",
        "\n",
        "# Train test split\n",
        "X_train, X_test, y_train, y_test = train_test_split(X, y, train_size=0.8, random_state=10)\n",
        "\n",
        "# Train validation split\n",
        "X_train, X_val, y_train, y_val = train_test_split(X_train, y_train, train_size=0.75, random_state=1)\n",
        "\n",
        "print('Train Set: ', X_train.shape, y_train.shape)\n",
        "print('Validation Set: ', X_val.shape, y_val.shape)\n",
        "print('Test Set: ', X_test.shape, y_test.shape)"
      ],
      "metadata": {
        "colab": {
          "base_uri": "https://localhost:8080/"
        },
        "id": "QhXgNr77jRWa",
        "outputId": "8fe88f23-c9c8-4d4e-cd1d-fc4e740b5758"
      },
      "execution_count": 71,
      "outputs": [
        {
          "output_type": "stream",
          "name": "stdout",
          "text": [
            "Train Set:  (16884, 50) (16884, 3)\n",
            "Validation Set:  (5628, 50) (5628, 3)\n",
            "Test Set:  (5629, 50) (5629, 3)\n"
          ]
        }
      ]
    },
    {
      "cell_type": "code",
      "source": [
        "# Function to calculate f1 score\n",
        "\n",
        "def f1_score(precis, recall): \n",
        "    f1_val = 2*(precis*recall)/(precis+recall+K.epsilon())\n",
        "    return f1_val"
      ],
      "metadata": {
        "id": "BWkk-MvpjWBT"
      },
      "execution_count": 72,
      "outputs": []
    },
    {
      "cell_type": "code",
      "source": [
        "vocab_size = 5000\n",
        "embedding_size = 32\n",
        "epochs = 50\n",
        "learning_rate = 0.01\n",
        "decay_rate = learning_rate / epochs\n",
        "momentum = 0.8"
      ],
      "metadata": {
        "id": "RPbVYJD4jbWS"
      },
      "execution_count": 73,
      "outputs": []
    },
    {
      "cell_type": "code",
      "source": [
        "sgd = SGD(learning_rate=learning_rate, momentum=momentum, decay=decay_rate, nesterov=False)\n",
        "# Build model\n",
        "model_2= Sequential()\n",
        "model_2.add(Embedding(vocab_size, embedding_size, input_length=max_len))\n",
        "model_2.add(Conv1D(filters=32, kernel_size=1, padding='same', activation='relu'))\n",
        "model_2.add(MaxPooling1D(pool_size=2))\n",
        "model_2.add(Bidirectional(LSTM(32)))\n",
        "model_2.add(Dropout(0.4))\n",
        "model_2.add(Dense(3, activation='softmax'))"
      ],
      "metadata": {
        "id": "JvLxWkk2jeR_"
      },
      "execution_count": 74,
      "outputs": []
    },
    {
      "cell_type": "code",
      "source": [
        "model_2.compile(loss='categorical_crossentropy', optimizer=sgd, metrics=['accuracy', Precision(), Recall()])"
      ],
      "metadata": {
        "id": "mSvx_1bSjhP1"
      },
      "execution_count": 75,
      "outputs": []
    },
    {
      "cell_type": "code",
      "source": [
        "history = model_2.fit(X_train,y_train,validation_data=(X_val, y_val),batch_size=batch_size,epochs=epochs,verbose=1)"
      ],
      "metadata": {
        "colab": {
          "base_uri": "https://localhost:8080/"
        },
        "id": "T0dnBCv7jkXm",
        "outputId": "2da08fd5-9c72-4f5b-8aef-a94a76960a14"
      },
      "execution_count": 76,
      "outputs": [
        {
          "output_type": "stream",
          "name": "stdout",
          "text": [
            "Epoch 1/50\n",
            "132/132 [==============================] - 10s 47ms/step - loss: 0.9693 - accuracy: 0.4861 - precision: 0.5055 - recall: 0.1545 - val_loss: 0.9484 - val_accuracy: 0.4947 - val_precision: 0.0000e+00 - val_recall: 0.0000e+00\n",
            "Epoch 2/50\n",
            "132/132 [==============================] - 5s 41ms/step - loss: 0.9512 - accuracy: 0.4997 - precision: 0.5330 - recall: 0.1754 - val_loss: 0.9423 - val_accuracy: 0.4947 - val_precision: 0.6340 - val_recall: 0.3330\n",
            "Epoch 3/50\n",
            "132/132 [==============================] - 5s 39ms/step - loss: 0.9401 - accuracy: 0.5314 - precision: 0.5939 - recall: 0.2522 - val_loss: 0.9222 - val_accuracy: 0.5652 - val_precision: 0.6373 - val_recall: 0.3443\n",
            "Epoch 4/50\n",
            "132/132 [==============================] - 5s 41ms/step - loss: 0.9116 - accuracy: 0.5865 - precision: 0.6339 - recall: 0.4080 - val_loss: 0.8896 - val_accuracy: 0.5929 - val_precision: 0.6475 - val_recall: 0.4687\n",
            "Epoch 5/50\n",
            "132/132 [==============================] - 5s 39ms/step - loss: 0.8926 - accuracy: 0.5988 - precision: 0.6307 - recall: 0.4948 - val_loss: 0.8809 - val_accuracy: 0.5958 - val_precision: 0.6327 - val_recall: 0.5158\n",
            "Epoch 6/50\n",
            "132/132 [==============================] - 5s 39ms/step - loss: 0.8867 - accuracy: 0.6018 - precision: 0.6314 - recall: 0.5153 - val_loss: 0.8781 - val_accuracy: 0.6000 - val_precision: 0.6340 - val_recall: 0.5297\n",
            "Epoch 7/50\n",
            "132/132 [==============================] - 5s 38ms/step - loss: 0.8833 - accuracy: 0.6039 - precision: 0.6366 - recall: 0.5193 - val_loss: 0.8733 - val_accuracy: 0.5991 - val_precision: 0.6371 - val_recall: 0.5227\n",
            "Epoch 8/50\n",
            "132/132 [==============================] - 5s 38ms/step - loss: 0.8788 - accuracy: 0.6066 - precision: 0.6379 - recall: 0.5241 - val_loss: 0.8693 - val_accuracy: 0.6064 - val_precision: 0.6449 - val_recall: 0.5192\n",
            "Epoch 9/50\n",
            "132/132 [==============================] - 5s 38ms/step - loss: 0.8733 - accuracy: 0.6099 - precision: 0.6445 - recall: 0.5254 - val_loss: 0.8622 - val_accuracy: 0.6123 - val_precision: 0.6441 - val_recall: 0.5350\n",
            "Epoch 10/50\n",
            "132/132 [==============================] - 5s 39ms/step - loss: 0.8672 - accuracy: 0.6156 - precision: 0.6461 - recall: 0.5330 - val_loss: 0.8556 - val_accuracy: 0.6132 - val_precision: 0.6538 - val_recall: 0.5252\n",
            "Epoch 11/50\n",
            "132/132 [==============================] - 5s 40ms/step - loss: 0.8608 - accuracy: 0.6176 - precision: 0.6557 - recall: 0.5360 - val_loss: 0.8456 - val_accuracy: 0.6208 - val_precision: 0.6584 - val_recall: 0.5428\n",
            "Epoch 12/50\n",
            "132/132 [==============================] - 5s 40ms/step - loss: 0.8491 - accuracy: 0.6276 - precision: 0.6598 - recall: 0.5441 - val_loss: 0.8345 - val_accuracy: 0.6320 - val_precision: 0.6696 - val_recall: 0.5448\n",
            "Epoch 13/50\n",
            "132/132 [==============================] - 5s 40ms/step - loss: 0.8385 - accuracy: 0.6363 - precision: 0.6730 - recall: 0.5503 - val_loss: 0.8202 - val_accuracy: 0.6459 - val_precision: 0.6729 - val_recall: 0.5581\n",
            "Epoch 14/50\n",
            "132/132 [==============================] - 5s 41ms/step - loss: 0.8258 - accuracy: 0.6437 - precision: 0.6802 - recall: 0.5608 - val_loss: 0.8059 - val_accuracy: 0.6638 - val_precision: 0.6990 - val_recall: 0.5640\n",
            "Epoch 15/50\n",
            "132/132 [==============================] - 5s 40ms/step - loss: 0.8050 - accuracy: 0.6596 - precision: 0.6986 - recall: 0.5717 - val_loss: 0.7818 - val_accuracy: 0.6661 - val_precision: 0.6980 - val_recall: 0.5972\n",
            "Epoch 16/50\n",
            "132/132 [==============================] - 5s 40ms/step - loss: 0.7813 - accuracy: 0.6763 - precision: 0.7138 - recall: 0.5910 - val_loss: 0.7533 - val_accuracy: 0.6940 - val_precision: 0.7328 - val_recall: 0.6146\n",
            "Epoch 17/50\n",
            "132/132 [==============================] - 5s 38ms/step - loss: 0.7542 - accuracy: 0.6931 - precision: 0.7376 - recall: 0.6143 - val_loss: 0.7385 - val_accuracy: 0.6963 - val_precision: 0.7531 - val_recall: 0.6054\n",
            "Epoch 18/50\n",
            "132/132 [==============================] - 5s 38ms/step - loss: 0.7208 - accuracy: 0.7168 - precision: 0.7622 - recall: 0.6421 - val_loss: 0.6988 - val_accuracy: 0.7217 - val_precision: 0.7555 - val_recall: 0.6654\n",
            "Epoch 19/50\n",
            "132/132 [==============================] - 5s 39ms/step - loss: 0.6843 - accuracy: 0.7400 - precision: 0.7830 - recall: 0.6736 - val_loss: 0.6505 - val_accuracy: 0.7552 - val_precision: 0.7903 - val_recall: 0.7011\n",
            "Epoch 20/50\n",
            "132/132 [==============================] - 5s 38ms/step - loss: 0.6408 - accuracy: 0.7636 - precision: 0.8040 - recall: 0.7087 - val_loss: 0.6166 - val_accuracy: 0.7669 - val_precision: 0.8049 - val_recall: 0.7237\n",
            "Epoch 21/50\n",
            "132/132 [==============================] - 5s 39ms/step - loss: 0.6049 - accuracy: 0.7842 - precision: 0.8224 - recall: 0.7373 - val_loss: 0.5787 - val_accuracy: 0.7905 - val_precision: 0.8309 - val_recall: 0.7482\n",
            "Epoch 22/50\n",
            "132/132 [==============================] - 5s 39ms/step - loss: 0.5648 - accuracy: 0.8024 - precision: 0.8421 - recall: 0.7607 - val_loss: 0.5563 - val_accuracy: 0.7958 - val_precision: 0.8306 - val_recall: 0.7603\n",
            "Epoch 23/50\n",
            "132/132 [==============================] - 5s 39ms/step - loss: 0.5340 - accuracy: 0.8161 - precision: 0.8476 - recall: 0.7804 - val_loss: 0.5793 - val_accuracy: 0.7756 - val_precision: 0.7970 - val_recall: 0.7555\n",
            "Epoch 24/50\n",
            "132/132 [==============================] - 5s 40ms/step - loss: 0.5032 - accuracy: 0.8294 - precision: 0.8598 - recall: 0.7980 - val_loss: 0.4982 - val_accuracy: 0.8248 - val_precision: 0.8544 - val_recall: 0.7985\n",
            "Epoch 25/50\n",
            "132/132 [==============================] - 5s 39ms/step - loss: 0.4795 - accuracy: 0.8360 - precision: 0.8672 - recall: 0.8107 - val_loss: 0.4799 - val_accuracy: 0.8310 - val_precision: 0.8633 - val_recall: 0.8044\n",
            "Epoch 26/50\n",
            "132/132 [==============================] - 5s 39ms/step - loss: 0.4542 - accuracy: 0.8458 - precision: 0.8751 - recall: 0.8226 - val_loss: 0.4734 - val_accuracy: 0.8344 - val_precision: 0.8617 - val_recall: 0.8085\n",
            "Epoch 27/50\n",
            "132/132 [==============================] - 5s 40ms/step - loss: 0.4378 - accuracy: 0.8510 - precision: 0.8805 - recall: 0.8292 - val_loss: 0.4535 - val_accuracy: 0.8408 - val_precision: 0.8666 - val_recall: 0.8209\n",
            "Epoch 28/50\n",
            "132/132 [==============================] - 5s 39ms/step - loss: 0.4209 - accuracy: 0.8550 - precision: 0.8853 - recall: 0.8357 - val_loss: 0.4410 - val_accuracy: 0.8438 - val_precision: 0.8713 - val_recall: 0.8213\n",
            "Epoch 29/50\n",
            "132/132 [==============================] - 5s 40ms/step - loss: 0.4023 - accuracy: 0.8592 - precision: 0.8919 - recall: 0.8407 - val_loss: 0.4383 - val_accuracy: 0.8515 - val_precision: 0.8855 - val_recall: 0.8207\n",
            "Epoch 30/50\n",
            "132/132 [==============================] - 5s 39ms/step - loss: 0.3824 - accuracy: 0.8645 - precision: 0.8958 - recall: 0.8472 - val_loss: 0.4248 - val_accuracy: 0.8497 - val_precision: 0.8845 - val_recall: 0.8175\n",
            "Epoch 31/50\n",
            "132/132 [==============================] - 5s 39ms/step - loss: 0.3639 - accuracy: 0.8702 - precision: 0.9001 - recall: 0.8512 - val_loss: 0.4068 - val_accuracy: 0.8527 - val_precision: 0.8849 - val_recall: 0.8337\n",
            "Epoch 32/50\n",
            "132/132 [==============================] - 5s 39ms/step - loss: 0.3545 - accuracy: 0.8735 - precision: 0.9041 - recall: 0.8545 - val_loss: 0.4002 - val_accuracy: 0.8563 - val_precision: 0.8854 - val_recall: 0.8356\n",
            "Epoch 33/50\n",
            "132/132 [==============================] - 5s 39ms/step - loss: 0.3374 - accuracy: 0.8796 - precision: 0.9095 - recall: 0.8596 - val_loss: 0.4018 - val_accuracy: 0.8555 - val_precision: 0.8815 - val_recall: 0.8364\n",
            "Epoch 34/50\n",
            "132/132 [==============================] - 5s 39ms/step - loss: 0.3252 - accuracy: 0.8840 - precision: 0.9129 - recall: 0.8633 - val_loss: 0.3854 - val_accuracy: 0.8643 - val_precision: 0.8884 - val_recall: 0.8387\n",
            "Epoch 35/50\n",
            "132/132 [==============================] - 5s 40ms/step - loss: 0.3184 - accuracy: 0.8892 - precision: 0.9154 - recall: 0.8643 - val_loss: 0.3883 - val_accuracy: 0.8646 - val_precision: 0.8901 - val_recall: 0.8394\n",
            "Epoch 36/50\n",
            "132/132 [==============================] - 5s 39ms/step - loss: 0.3107 - accuracy: 0.8916 - precision: 0.9184 - recall: 0.8682 - val_loss: 0.3860 - val_accuracy: 0.8632 - val_precision: 0.8899 - val_recall: 0.8387\n",
            "Epoch 37/50\n",
            "132/132 [==============================] - 5s 39ms/step - loss: 0.3054 - accuracy: 0.8923 - precision: 0.9178 - recall: 0.8711 - val_loss: 0.3723 - val_accuracy: 0.8696 - val_precision: 0.8940 - val_recall: 0.8493\n",
            "Epoch 38/50\n",
            "132/132 [==============================] - 5s 39ms/step - loss: 0.2956 - accuracy: 0.9003 - precision: 0.9216 - recall: 0.8760 - val_loss: 0.3694 - val_accuracy: 0.8724 - val_precision: 0.8980 - val_recall: 0.8509\n",
            "Epoch 39/50\n",
            "132/132 [==============================] - 5s 38ms/step - loss: 0.2869 - accuracy: 0.9045 - precision: 0.9255 - recall: 0.8802 - val_loss: 0.3759 - val_accuracy: 0.8735 - val_precision: 0.8975 - val_recall: 0.8513\n",
            "Epoch 40/50\n",
            "132/132 [==============================] - 5s 39ms/step - loss: 0.2808 - accuracy: 0.9071 - precision: 0.9269 - recall: 0.8834 - val_loss: 0.3829 - val_accuracy: 0.8737 - val_precision: 0.8874 - val_recall: 0.8557\n",
            "Epoch 41/50\n",
            "132/132 [==============================] - 5s 38ms/step - loss: 0.2729 - accuracy: 0.9106 - precision: 0.9295 - recall: 0.8885 - val_loss: 0.3720 - val_accuracy: 0.8783 - val_precision: 0.8933 - val_recall: 0.8586\n",
            "Epoch 42/50\n",
            "132/132 [==============================] - 5s 40ms/step - loss: 0.2672 - accuracy: 0.9151 - precision: 0.9316 - recall: 0.8934 - val_loss: 0.3739 - val_accuracy: 0.8797 - val_precision: 0.8940 - val_recall: 0.8616\n",
            "Epoch 43/50\n",
            "132/132 [==============================] - 5s 39ms/step - loss: 0.2655 - accuracy: 0.9158 - precision: 0.9300 - recall: 0.8956 - val_loss: 0.3776 - val_accuracy: 0.8769 - val_precision: 0.8919 - val_recall: 0.8575\n",
            "Epoch 44/50\n",
            "132/132 [==============================] - 5s 39ms/step - loss: 0.2664 - accuracy: 0.9149 - precision: 0.9290 - recall: 0.8963 - val_loss: 0.3679 - val_accuracy: 0.8829 - val_precision: 0.8972 - val_recall: 0.8634\n",
            "Epoch 45/50\n",
            "132/132 [==============================] - 5s 39ms/step - loss: 0.2539 - accuracy: 0.9213 - precision: 0.9343 - recall: 0.9023 - val_loss: 0.3761 - val_accuracy: 0.8785 - val_precision: 0.8921 - val_recall: 0.8605\n",
            "Epoch 46/50\n",
            "132/132 [==============================] - 5s 40ms/step - loss: 0.2523 - accuracy: 0.9240 - precision: 0.9358 - recall: 0.9049 - val_loss: 0.3724 - val_accuracy: 0.8801 - val_precision: 0.8948 - val_recall: 0.8658\n",
            "Epoch 47/50\n",
            "132/132 [==============================] - 5s 39ms/step - loss: 0.2474 - accuracy: 0.9258 - precision: 0.9367 - recall: 0.9094 - val_loss: 0.3716 - val_accuracy: 0.8833 - val_precision: 0.8951 - val_recall: 0.8690\n",
            "Epoch 48/50\n",
            "132/132 [==============================] - 5s 40ms/step - loss: 0.2468 - accuracy: 0.9287 - precision: 0.9374 - recall: 0.9110 - val_loss: 0.3698 - val_accuracy: 0.8849 - val_precision: 0.8933 - val_recall: 0.8730\n",
            "Epoch 49/50\n",
            "132/132 [==============================] - 5s 39ms/step - loss: 0.2395 - accuracy: 0.9281 - precision: 0.9379 - recall: 0.9135 - val_loss: 0.3757 - val_accuracy: 0.8813 - val_precision: 0.8909 - val_recall: 0.8676\n",
            "Epoch 50/50\n",
            "132/132 [==============================] - 5s 40ms/step - loss: 0.2378 - accuracy: 0.9314 - precision: 0.9402 - recall: 0.9179 - val_loss: 0.3756 - val_accuracy: 0.8877 - val_precision: 0.8970 - val_recall: 0.8778\n"
          ]
        }
      ]
    },
    {
      "cell_type": "code",
      "source": [
        "# Evaluate model on the test set\n",
        "loss, accuracy, precision, recall = model_2.evaluate(X_test, y_test, verbose=0)\n",
        "# Print metrics\n",
        "print('')\n",
        "print(f'Accuracy  : {accuracy:.4f}')\n",
        "print(f'Precision : {precision:.4f}')\n",
        "print(f'Recall    : {recall:.4f}')\n",
        "print(f'F1 Score  : {f1_score(precision, recall):.4f}')"
      ],
      "metadata": {
        "colab": {
          "base_uri": "https://localhost:8080/"
        },
        "id": "EP5mhkOkjnO6",
        "outputId": "c5055df6-734a-4540-d610-8e98cb505aa2"
      },
      "execution_count": 77,
      "outputs": [
        {
          "output_type": "stream",
          "name": "stdout",
          "text": [
            "\n",
            "Accuracy  : 0.8797\n",
            "Precision : 0.8893\n",
            "Recall    : 0.8701\n",
            "F1 Score  : 0.8796\n"
          ]
        }
      ]
    },
    {
      "cell_type": "code",
      "source": [
        "plot_training_hist(history)"
      ],
      "metadata": {
        "colab": {
          "base_uri": "https://localhost:8080/",
          "height": 295
        },
        "id": "hOMompTdjroX",
        "outputId": "f203f039-48f8-4dc4-92aa-22a714d9d0ac"
      },
      "execution_count": 78,
      "outputs": [
        {
          "output_type": "display_data",
          "data": {
            "text/plain": [
              "<Figure size 720x288 with 2 Axes>"
            ],
            "image/png": "[encoded data removed]"
          },
          "metadata": {
            "needs_background": "light"
          }
        }
      ]
    },
    {
      "cell_type": "code",
      "source": [
        "plot_confusion_matrix(model_2, X_test, y_test)"
      ],
      "metadata": {
        "colab": {
          "base_uri": "https://localhost:8080/",
          "height": 552
        },
        "id": "HqzRc3KfjyJ4",
        "outputId": "780f89c7-3944-46ab-e82a-c9717bb06a79"
      },
      "execution_count": 79,
      "outputs": [
        {
          "output_type": "stream",
          "name": "stdout",
          "text": [
            "2    2780\n",
            "1    2217\n",
            "0     632\n",
            "dtype: int64\n",
            "2    2775\n",
            "1    2233\n",
            "0     621\n",
            "dtype: int64\n"
          ]
        },
        {
          "output_type": "display_data",
          "data": {
            "text/plain": [
              "<Figure size 576x432 with 2 Axes>"
            ],
            "image/png": "[encoded data removed]"
          },
          "metadata": {
            "needs_background": "light"
          }
        }
      ]
    },
    {
      "cell_type": "markdown",
      "source": [
        "### c. Models schemas comparision"
      ],
      "metadata": {
        "id": "OA-hKoWX8r59"
      }
    },
    {
      "cell_type": "markdown",
      "source": [
        "**First model**"
      ],
      "metadata": {
        "id": "LVrxw5ou8zQf"
      }
    },
    {
      "cell_type": "code",
      "source": [
        "tf.keras.utils.plot_model(model_1, show_shapes=True)"
      ],
      "metadata": {
        "colab": {
          "base_uri": "https://localhost:8080/",
          "height": 644
        },
        "id": "O3Pw-tQ18xyi",
        "outputId": "5f0a93ef-351f-4903-b8da-64af21726a74"
      },
      "execution_count": 80,
      "outputs": [
        {
          "output_type": "execute_result",
          "data": {
            "text/plain": [
              "<IPython.core.display.Image object>"
            ],
            "image/png": "[encoded data removed]"
          },
          "metadata": {},
          "execution_count": 80
        }
      ]
    },
    {
      "cell_type": "markdown",
      "source": [
        "**Second model**"
      ],
      "metadata": {
        "id": "N1rBSfGs9vf6"
      }
    },
    {
      "cell_type": "code",
      "source": [
        "tf.keras.utils.plot_model(model_2, show_shapes=True)"
      ],
      "metadata": {
        "colab": {
          "base_uri": "https://localhost:8080/",
          "height": 754
        },
        "id": "-7PB9Ig59uMB",
        "outputId": "49506a07-f8eb-4b52-ed76-4797ade6b482"
      },
      "execution_count": 81,
      "outputs": [
        {
          "output_type": "execute_result",
          "data": {
            "text/plain": [
              "<IPython.core.display.Image object>"
            ],
            "image/png": "[encoded data removed]"
          },
          "metadata": {},
          "execution_count": 81
        }
      ]
    }
  ],
  "metadata": {
    "colab": {
      "collapsed_sections": [],
      "name": "NLP_project_caneilles.ipynb",
      "provenance": []
    },
    "kernelspec": {
      "display_name": "Python 3",
      "name": "python3"
    },
    "language_info": {
      "codemirror_mode": {
        "name": "ipython",
        "version": 3
      },
      "file_extension": ".py",
      "mimetype": "text/x-python",
      "name": "python",
      "nbconvert_exporter": "python",
      "pygments_lexer": "ipython3",
      "version": "3.10.2"
    }
  },
  "nbformat": 4,
  "nbformat_minor": 0
}